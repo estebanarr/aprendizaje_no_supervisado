{
 "cells": [
  {
   "cell_type": "markdown",
   "metadata": {
    "id": "qRd7yj2j23jS"
   },
   "source": [
    "<center>\n",
    "    \n",
    "## Aprendizaje No Supervisado DiploDatos\n",
    "    Laura Alonso Alemany, Ana Georgina Flesia y Valeria Rulloni\n",
    "## Agrupamiento con el FIFA 2019 dataset\n",
    " \n",
    "Material basado en notas de Ana Georgina Flesia bajo los términos y condiciones de la licencia [Creative Commons CC BY-NC-SA 4.0](https://creativecommons.org/licenses/by-nc-sa/4.0/), a su vez basado de material de [SilveMel](https://www.kaggle.com/karangadiya/fifa19/downloads/data.csv/comments) y otros."
   ]
  },
  {
   "cell_type": "markdown",
   "metadata": {
    "id": "iPRMwmkD23jd"
   },
   "source": [
    "### Indice de temas\n",
    "1. [Inicialización del entorno](#1.-Inicialización-del-entorno)\n",
    "2. [Preparación de los datos](#2.-Preparación-de-los-datos)\n",
    "3. [Clustering KM](#3.-Clustering-con-Kmeans)\n",
    "4. [Clustering MS](#4.-Clustering-con-Mean-Shift)\n",
    "5. [Clustering KM2](#5.-Clustering-con-Kmeans-sin-arqueros)\n",
    "6. [Clustering MS2](#6.-Clustering-con-Mean-Shift-sin-arqueros)"
   ]
  },
  {
   "cell_type": "markdown",
   "metadata": {
    "id": "9rdu42kQ23jh"
   },
   "source": [
    "## 1.-Inicialización-del-entorno"
   ]
  },
  {
   "cell_type": "markdown",
   "metadata": {
    "id": "ncXqpFsi23jk"
   },
   "source": [
    "Empezamos cargando algunas herramientas para cargar los datos y manipularlos."
   ]
  },
  {
   "cell_type": "code",
   "execution_count": 1,
   "metadata": {
    "_cell_guid": "79c7e3d0-c299-4dcb-8224-4455121ee9b0",
    "_uuid": "d629ff2d2480ee46fbb7e2d37f6b5fab8052498a",
    "executionInfo": {
     "elapsed": 472,
     "status": "ok",
     "timestamp": 1630024805400,
     "user": {
      "displayName": "Valeria S RULLONI",
      "photoUrl": "",
      "userId": "09936144167370803067"
     },
     "user_tz": 180
    },
    "id": "wh8-JFGt23jt"
   },
   "outputs": [],
   "source": [
    "import numpy as np\n",
    "import pandas as pd\n",
    "pd.set_option('display.max_columns',100)\n",
    "pd.set_option('display.max_rows',1000)\n",
    "import itertools\n",
    "import warnings\n",
    "warnings.filterwarnings(\"ignore\")\n",
    "import io"
   ]
  },
  {
   "cell_type": "code",
   "execution_count": 2,
   "metadata": {
    "colab": {
     "base_uri": "https://localhost:8080/",
     "height": 17
    },
    "executionInfo": {
     "elapsed": 1992,
     "status": "ok",
     "timestamp": 1630024814231,
     "user": {
      "displayName": "Valeria S RULLONI",
      "photoUrl": "",
      "userId": "09936144167370803067"
     },
     "user_tz": 180
    },
    "id": "hLVGQPJT23j3",
    "outputId": "04e32540-9998-4a20-84ea-ef1c9ebe59c8"
   },
   "outputs": [
    {
     "data": {
      "text/html": [
       "        <script type=\"text/javascript\">\n",
       "        window.PlotlyConfig = {MathJaxConfig: 'local'};\n",
       "        if (window.MathJax) {MathJax.Hub.Config({SVG: {font: \"STIX-Web\"}});}\n",
       "        if (typeof require !== 'undefined') {\n",
       "        require.undef(\"plotly\");\n",
       "        requirejs.config({\n",
       "            paths: {\n",
       "                'plotly': ['https://cdn.plot.ly/plotly-latest.min']\n",
       "            }\n",
       "        });\n",
       "        require(['plotly'], function(Plotly) {\n",
       "            window._Plotly = Plotly;\n",
       "        });\n",
       "        }\n",
       "        </script>\n",
       "        "
      ]
     },
     "metadata": {},
     "output_type": "display_data"
    }
   ],
   "source": [
    "from plotly.offline import init_notebook_mode, plot,iplot\n",
    "import plotly.graph_objs as go\n",
    "init_notebook_mode(connected=True)\n",
    "import matplotlib.pyplot as plt\n",
    "import plotly.tools as tls#visualization\n",
    "import plotly.figure_factory as ff#visualization\n",
    "import seaborn as sns"
   ]
  },
  {
   "cell_type": "code",
   "execution_count": 6,
   "metadata": {
    "executionInfo": {
     "elapsed": 479,
     "status": "ok",
     "timestamp": 1630024818072,
     "user": {
      "displayName": "Valeria S RULLONI",
      "photoUrl": "",
      "userId": "09936144167370803067"
     },
     "user_tz": 180
    },
    "id": "t1JupevxLzf7"
   },
   "outputs": [],
   "source": [
    "from sklearn.cluster import KMeans,MeanShift\n",
    "from sklearn import decomposition"
   ]
  },
  {
   "cell_type": "markdown",
   "metadata": {
    "id": "FenCg9xU23kB"
   },
   "source": [
    "## 2.-Preparación-de-los-datos"
   ]
  },
  {
   "cell_type": "markdown",
   "metadata": {
    "id": "pSx7pS4623kE"
   },
   "source": [
    "Cargamos los datos bajados de la database de [Kaggle](https://www.kaggle.com/karangadiya/fifa19) como 'data.csv'. "
   ]
  },
  {
   "cell_type": "code",
   "execution_count": 23,
   "metadata": {
    "executionInfo": {
     "elapsed": 415,
     "status": "ok",
     "timestamp": 1630024824804,
     "user": {
      "displayName": "Valeria S RULLONI",
      "photoUrl": "",
      "userId": "09936144167370803067"
     },
     "user_tz": 180
    },
    "id": "M6jk9VMz23kK"
   },
   "outputs": [
    {
     "data": {
      "text/html": [
       "<div>\n",
       "<style scoped>\n",
       "    .dataframe tbody tr th:only-of-type {\n",
       "        vertical-align: middle;\n",
       "    }\n",
       "\n",
       "    .dataframe tbody tr th {\n",
       "        vertical-align: top;\n",
       "    }\n",
       "\n",
       "    .dataframe thead th {\n",
       "        text-align: right;\n",
       "    }\n",
       "</style>\n",
       "<table border=\"1\" class=\"dataframe\">\n",
       "  <thead>\n",
       "    <tr style=\"text-align: right;\">\n",
       "      <th></th>\n",
       "      <th>sofifa_id</th>\n",
       "      <th>player_url</th>\n",
       "      <th>short_name</th>\n",
       "      <th>long_name</th>\n",
       "      <th>age</th>\n",
       "      <th>dob</th>\n",
       "      <th>height_cm</th>\n",
       "      <th>weight_kg</th>\n",
       "      <th>nationality</th>\n",
       "      <th>club_name</th>\n",
       "      <th>league_name</th>\n",
       "      <th>league_rank</th>\n",
       "      <th>overall</th>\n",
       "      <th>potential</th>\n",
       "      <th>value_eur</th>\n",
       "      <th>wage_eur</th>\n",
       "      <th>player_positions</th>\n",
       "      <th>preferred_foot</th>\n",
       "      <th>international_reputation</th>\n",
       "      <th>weak_foot</th>\n",
       "      <th>skill_moves</th>\n",
       "      <th>work_rate</th>\n",
       "      <th>body_type</th>\n",
       "      <th>real_face</th>\n",
       "      <th>release_clause_eur</th>\n",
       "      <th>player_tags</th>\n",
       "      <th>team_position</th>\n",
       "      <th>team_jersey_number</th>\n",
       "      <th>loaned_from</th>\n",
       "      <th>joined</th>\n",
       "      <th>contract_valid_until</th>\n",
       "      <th>nation_position</th>\n",
       "      <th>nation_jersey_number</th>\n",
       "      <th>pace</th>\n",
       "      <th>shooting</th>\n",
       "      <th>passing</th>\n",
       "      <th>dribbling</th>\n",
       "      <th>defending</th>\n",
       "      <th>physic</th>\n",
       "      <th>gk_diving</th>\n",
       "      <th>gk_handling</th>\n",
       "      <th>gk_kicking</th>\n",
       "      <th>gk_reflexes</th>\n",
       "      <th>gk_speed</th>\n",
       "      <th>gk_positioning</th>\n",
       "      <th>player_traits</th>\n",
       "      <th>attacking_crossing</th>\n",
       "      <th>attacking_finishing</th>\n",
       "      <th>attacking_heading_accuracy</th>\n",
       "      <th>attacking_short_passing</th>\n",
       "      <th>...</th>\n",
       "      <th>movement_acceleration</th>\n",
       "      <th>movement_sprint_speed</th>\n",
       "      <th>movement_agility</th>\n",
       "      <th>movement_reactions</th>\n",
       "      <th>movement_balance</th>\n",
       "      <th>power_shot_power</th>\n",
       "      <th>power_jumping</th>\n",
       "      <th>power_stamina</th>\n",
       "      <th>power_strength</th>\n",
       "      <th>power_long_shots</th>\n",
       "      <th>mentality_aggression</th>\n",
       "      <th>mentality_interceptions</th>\n",
       "      <th>mentality_positioning</th>\n",
       "      <th>mentality_vision</th>\n",
       "      <th>mentality_penalties</th>\n",
       "      <th>mentality_composure</th>\n",
       "      <th>defending_marking</th>\n",
       "      <th>defending_standing_tackle</th>\n",
       "      <th>defending_sliding_tackle</th>\n",
       "      <th>goalkeeping_diving</th>\n",
       "      <th>goalkeeping_handling</th>\n",
       "      <th>goalkeeping_kicking</th>\n",
       "      <th>goalkeeping_positioning</th>\n",
       "      <th>goalkeeping_reflexes</th>\n",
       "      <th>ls</th>\n",
       "      <th>st</th>\n",
       "      <th>rs</th>\n",
       "      <th>lw</th>\n",
       "      <th>lf</th>\n",
       "      <th>cf</th>\n",
       "      <th>rf</th>\n",
       "      <th>rw</th>\n",
       "      <th>lam</th>\n",
       "      <th>cam</th>\n",
       "      <th>ram</th>\n",
       "      <th>lm</th>\n",
       "      <th>lcm</th>\n",
       "      <th>cm</th>\n",
       "      <th>rcm</th>\n",
       "      <th>rm</th>\n",
       "      <th>lwb</th>\n",
       "      <th>ldm</th>\n",
       "      <th>cdm</th>\n",
       "      <th>rdm</th>\n",
       "      <th>rwb</th>\n",
       "      <th>lb</th>\n",
       "      <th>lcb</th>\n",
       "      <th>cb</th>\n",
       "      <th>rcb</th>\n",
       "      <th>rb</th>\n",
       "    </tr>\n",
       "  </thead>\n",
       "  <tbody>\n",
       "    <tr>\n",
       "      <th>0</th>\n",
       "      <td>158023</td>\n",
       "      <td>https://sofifa.com/player/158023/lionel-messi/...</td>\n",
       "      <td>L. Messi</td>\n",
       "      <td>Lionel Andrés Messi Cuccittini</td>\n",
       "      <td>33</td>\n",
       "      <td>1987-06-24</td>\n",
       "      <td>170</td>\n",
       "      <td>72</td>\n",
       "      <td>Argentina</td>\n",
       "      <td>FC Barcelona</td>\n",
       "      <td>Spain Primera Division</td>\n",
       "      <td>1.0</td>\n",
       "      <td>93</td>\n",
       "      <td>93</td>\n",
       "      <td>67500000</td>\n",
       "      <td>560000</td>\n",
       "      <td>RW, ST, CF</td>\n",
       "      <td>Left</td>\n",
       "      <td>5</td>\n",
       "      <td>4</td>\n",
       "      <td>4</td>\n",
       "      <td>Medium/Low</td>\n",
       "      <td>Messi</td>\n",
       "      <td>Yes</td>\n",
       "      <td>138400000.0</td>\n",
       "      <td>#Dribbler, #Distance Shooter, #FK Specialist, ...</td>\n",
       "      <td>CAM</td>\n",
       "      <td>10.0</td>\n",
       "      <td>NaN</td>\n",
       "      <td>2004-07-01</td>\n",
       "      <td>2021.0</td>\n",
       "      <td>RW</td>\n",
       "      <td>10.0</td>\n",
       "      <td>85.0</td>\n",
       "      <td>92.0</td>\n",
       "      <td>91.0</td>\n",
       "      <td>95.0</td>\n",
       "      <td>38.0</td>\n",
       "      <td>65.0</td>\n",
       "      <td>NaN</td>\n",
       "      <td>NaN</td>\n",
       "      <td>NaN</td>\n",
       "      <td>NaN</td>\n",
       "      <td>NaN</td>\n",
       "      <td>NaN</td>\n",
       "      <td>Finesse Shot, Long Shot Taker (AI), Speed Drib...</td>\n",
       "      <td>85</td>\n",
       "      <td>95</td>\n",
       "      <td>70</td>\n",
       "      <td>91</td>\n",
       "      <td>...</td>\n",
       "      <td>91</td>\n",
       "      <td>80</td>\n",
       "      <td>91</td>\n",
       "      <td>94</td>\n",
       "      <td>95</td>\n",
       "      <td>86</td>\n",
       "      <td>68</td>\n",
       "      <td>72</td>\n",
       "      <td>69</td>\n",
       "      <td>94</td>\n",
       "      <td>44</td>\n",
       "      <td>40</td>\n",
       "      <td>93</td>\n",
       "      <td>95</td>\n",
       "      <td>75</td>\n",
       "      <td>96</td>\n",
       "      <td>NaN</td>\n",
       "      <td>35</td>\n",
       "      <td>24</td>\n",
       "      <td>6</td>\n",
       "      <td>11</td>\n",
       "      <td>15</td>\n",
       "      <td>14</td>\n",
       "      <td>8</td>\n",
       "      <td>89+3</td>\n",
       "      <td>89+3</td>\n",
       "      <td>89+3</td>\n",
       "      <td>92+0</td>\n",
       "      <td>93+0</td>\n",
       "      <td>93+0</td>\n",
       "      <td>93+0</td>\n",
       "      <td>92+0</td>\n",
       "      <td>93+0</td>\n",
       "      <td>93+0</td>\n",
       "      <td>93+0</td>\n",
       "      <td>91+2</td>\n",
       "      <td>87+3</td>\n",
       "      <td>87+3</td>\n",
       "      <td>87+3</td>\n",
       "      <td>91+2</td>\n",
       "      <td>66+3</td>\n",
       "      <td>65+3</td>\n",
       "      <td>65+3</td>\n",
       "      <td>65+3</td>\n",
       "      <td>66+3</td>\n",
       "      <td>62+3</td>\n",
       "      <td>52+3</td>\n",
       "      <td>52+3</td>\n",
       "      <td>52+3</td>\n",
       "      <td>62+3</td>\n",
       "    </tr>\n",
       "    <tr>\n",
       "      <th>1</th>\n",
       "      <td>20801</td>\n",
       "      <td>https://sofifa.com/player/20801/c-ronaldo-dos-...</td>\n",
       "      <td>Cristiano Ronaldo</td>\n",
       "      <td>Cristiano Ronaldo dos Santos Aveiro</td>\n",
       "      <td>35</td>\n",
       "      <td>1985-02-05</td>\n",
       "      <td>187</td>\n",
       "      <td>83</td>\n",
       "      <td>Portugal</td>\n",
       "      <td>Juventus</td>\n",
       "      <td>Italian Serie A</td>\n",
       "      <td>1.0</td>\n",
       "      <td>92</td>\n",
       "      <td>92</td>\n",
       "      <td>46000000</td>\n",
       "      <td>220000</td>\n",
       "      <td>ST, LW</td>\n",
       "      <td>Right</td>\n",
       "      <td>5</td>\n",
       "      <td>4</td>\n",
       "      <td>5</td>\n",
       "      <td>High/Low</td>\n",
       "      <td>C. Ronaldo</td>\n",
       "      <td>Yes</td>\n",
       "      <td>75900000.0</td>\n",
       "      <td>#Aerial Threat, #Dribbler, #Distance Shooter, ...</td>\n",
       "      <td>LS</td>\n",
       "      <td>7.0</td>\n",
       "      <td>NaN</td>\n",
       "      <td>2018-07-10</td>\n",
       "      <td>2022.0</td>\n",
       "      <td>LS</td>\n",
       "      <td>7.0</td>\n",
       "      <td>89.0</td>\n",
       "      <td>93.0</td>\n",
       "      <td>81.0</td>\n",
       "      <td>89.0</td>\n",
       "      <td>35.0</td>\n",
       "      <td>77.0</td>\n",
       "      <td>NaN</td>\n",
       "      <td>NaN</td>\n",
       "      <td>NaN</td>\n",
       "      <td>NaN</td>\n",
       "      <td>NaN</td>\n",
       "      <td>NaN</td>\n",
       "      <td>Power Free-Kick, Flair, Long Shot Taker (AI), ...</td>\n",
       "      <td>84</td>\n",
       "      <td>95</td>\n",
       "      <td>90</td>\n",
       "      <td>82</td>\n",
       "      <td>...</td>\n",
       "      <td>87</td>\n",
       "      <td>91</td>\n",
       "      <td>87</td>\n",
       "      <td>95</td>\n",
       "      <td>71</td>\n",
       "      <td>94</td>\n",
       "      <td>95</td>\n",
       "      <td>84</td>\n",
       "      <td>78</td>\n",
       "      <td>93</td>\n",
       "      <td>63</td>\n",
       "      <td>29</td>\n",
       "      <td>95</td>\n",
       "      <td>82</td>\n",
       "      <td>84</td>\n",
       "      <td>95</td>\n",
       "      <td>NaN</td>\n",
       "      <td>32</td>\n",
       "      <td>24</td>\n",
       "      <td>7</td>\n",
       "      <td>11</td>\n",
       "      <td>15</td>\n",
       "      <td>14</td>\n",
       "      <td>11</td>\n",
       "      <td>91+1</td>\n",
       "      <td>91+1</td>\n",
       "      <td>91+1</td>\n",
       "      <td>89+0</td>\n",
       "      <td>91+0</td>\n",
       "      <td>91+0</td>\n",
       "      <td>91+0</td>\n",
       "      <td>89+0</td>\n",
       "      <td>88+3</td>\n",
       "      <td>88+3</td>\n",
       "      <td>88+3</td>\n",
       "      <td>88+3</td>\n",
       "      <td>81+3</td>\n",
       "      <td>81+3</td>\n",
       "      <td>81+3</td>\n",
       "      <td>88+3</td>\n",
       "      <td>65+3</td>\n",
       "      <td>61+3</td>\n",
       "      <td>61+3</td>\n",
       "      <td>61+3</td>\n",
       "      <td>65+3</td>\n",
       "      <td>61+3</td>\n",
       "      <td>54+3</td>\n",
       "      <td>54+3</td>\n",
       "      <td>54+3</td>\n",
       "      <td>61+3</td>\n",
       "    </tr>\n",
       "    <tr>\n",
       "      <th>2</th>\n",
       "      <td>200389</td>\n",
       "      <td>https://sofifa.com/player/200389/jan-oblak/210002</td>\n",
       "      <td>J. Oblak</td>\n",
       "      <td>Jan Oblak</td>\n",
       "      <td>27</td>\n",
       "      <td>1993-01-07</td>\n",
       "      <td>188</td>\n",
       "      <td>87</td>\n",
       "      <td>Slovenia</td>\n",
       "      <td>Atlético Madrid</td>\n",
       "      <td>Spain Primera Division</td>\n",
       "      <td>1.0</td>\n",
       "      <td>91</td>\n",
       "      <td>93</td>\n",
       "      <td>75000000</td>\n",
       "      <td>125000</td>\n",
       "      <td>GK</td>\n",
       "      <td>Right</td>\n",
       "      <td>3</td>\n",
       "      <td>3</td>\n",
       "      <td>1</td>\n",
       "      <td>Medium/Medium</td>\n",
       "      <td>PLAYER_BODY_TYPE_259</td>\n",
       "      <td>Yes</td>\n",
       "      <td>159400000.0</td>\n",
       "      <td>NaN</td>\n",
       "      <td>GK</td>\n",
       "      <td>13.0</td>\n",
       "      <td>NaN</td>\n",
       "      <td>2014-07-16</td>\n",
       "      <td>2023.0</td>\n",
       "      <td>GK</td>\n",
       "      <td>1.0</td>\n",
       "      <td>NaN</td>\n",
       "      <td>NaN</td>\n",
       "      <td>NaN</td>\n",
       "      <td>NaN</td>\n",
       "      <td>NaN</td>\n",
       "      <td>NaN</td>\n",
       "      <td>87.0</td>\n",
       "      <td>92.0</td>\n",
       "      <td>78.0</td>\n",
       "      <td>90.0</td>\n",
       "      <td>52.0</td>\n",
       "      <td>90.0</td>\n",
       "      <td>GK Long Throw, Comes For Crosses</td>\n",
       "      <td>13</td>\n",
       "      <td>11</td>\n",
       "      <td>15</td>\n",
       "      <td>43</td>\n",
       "      <td>...</td>\n",
       "      <td>43</td>\n",
       "      <td>60</td>\n",
       "      <td>67</td>\n",
       "      <td>88</td>\n",
       "      <td>49</td>\n",
       "      <td>59</td>\n",
       "      <td>78</td>\n",
       "      <td>41</td>\n",
       "      <td>78</td>\n",
       "      <td>12</td>\n",
       "      <td>34</td>\n",
       "      <td>19</td>\n",
       "      <td>11</td>\n",
       "      <td>65</td>\n",
       "      <td>11</td>\n",
       "      <td>68</td>\n",
       "      <td>NaN</td>\n",
       "      <td>12</td>\n",
       "      <td>18</td>\n",
       "      <td>87</td>\n",
       "      <td>92</td>\n",
       "      <td>78</td>\n",
       "      <td>90</td>\n",
       "      <td>90</td>\n",
       "      <td>33+3</td>\n",
       "      <td>33+3</td>\n",
       "      <td>33+3</td>\n",
       "      <td>32+0</td>\n",
       "      <td>35+0</td>\n",
       "      <td>35+0</td>\n",
       "      <td>35+0</td>\n",
       "      <td>32+0</td>\n",
       "      <td>38+3</td>\n",
       "      <td>38+3</td>\n",
       "      <td>38+3</td>\n",
       "      <td>35+3</td>\n",
       "      <td>38+3</td>\n",
       "      <td>38+3</td>\n",
       "      <td>38+3</td>\n",
       "      <td>35+3</td>\n",
       "      <td>32+3</td>\n",
       "      <td>36+3</td>\n",
       "      <td>36+3</td>\n",
       "      <td>36+3</td>\n",
       "      <td>32+3</td>\n",
       "      <td>32+3</td>\n",
       "      <td>33+3</td>\n",
       "      <td>33+3</td>\n",
       "      <td>33+3</td>\n",
       "      <td>32+3</td>\n",
       "    </tr>\n",
       "    <tr>\n",
       "      <th>3</th>\n",
       "      <td>188545</td>\n",
       "      <td>https://sofifa.com/player/188545/robert-lewand...</td>\n",
       "      <td>R. Lewandowski</td>\n",
       "      <td>Robert Lewandowski</td>\n",
       "      <td>31</td>\n",
       "      <td>1988-08-21</td>\n",
       "      <td>184</td>\n",
       "      <td>80</td>\n",
       "      <td>Poland</td>\n",
       "      <td>FC Bayern München</td>\n",
       "      <td>German 1. Bundesliga</td>\n",
       "      <td>1.0</td>\n",
       "      <td>91</td>\n",
       "      <td>91</td>\n",
       "      <td>80000000</td>\n",
       "      <td>240000</td>\n",
       "      <td>ST</td>\n",
       "      <td>Right</td>\n",
       "      <td>4</td>\n",
       "      <td>4</td>\n",
       "      <td>4</td>\n",
       "      <td>High/Medium</td>\n",
       "      <td>PLAYER_BODY_TYPE_276</td>\n",
       "      <td>Yes</td>\n",
       "      <td>132000000.0</td>\n",
       "      <td>#Distance Shooter, #Clinical Finisher</td>\n",
       "      <td>ST</td>\n",
       "      <td>9.0</td>\n",
       "      <td>NaN</td>\n",
       "      <td>2014-07-01</td>\n",
       "      <td>2023.0</td>\n",
       "      <td>NaN</td>\n",
       "      <td>NaN</td>\n",
       "      <td>78.0</td>\n",
       "      <td>91.0</td>\n",
       "      <td>78.0</td>\n",
       "      <td>85.0</td>\n",
       "      <td>43.0</td>\n",
       "      <td>82.0</td>\n",
       "      <td>NaN</td>\n",
       "      <td>NaN</td>\n",
       "      <td>NaN</td>\n",
       "      <td>NaN</td>\n",
       "      <td>NaN</td>\n",
       "      <td>NaN</td>\n",
       "      <td>Solid Player, Finesse Shot, Outside Foot Shot,...</td>\n",
       "      <td>71</td>\n",
       "      <td>94</td>\n",
       "      <td>85</td>\n",
       "      <td>84</td>\n",
       "      <td>...</td>\n",
       "      <td>77</td>\n",
       "      <td>78</td>\n",
       "      <td>77</td>\n",
       "      <td>93</td>\n",
       "      <td>82</td>\n",
       "      <td>89</td>\n",
       "      <td>84</td>\n",
       "      <td>76</td>\n",
       "      <td>86</td>\n",
       "      <td>85</td>\n",
       "      <td>81</td>\n",
       "      <td>49</td>\n",
       "      <td>94</td>\n",
       "      <td>79</td>\n",
       "      <td>88</td>\n",
       "      <td>88</td>\n",
       "      <td>NaN</td>\n",
       "      <td>42</td>\n",
       "      <td>19</td>\n",
       "      <td>15</td>\n",
       "      <td>6</td>\n",
       "      <td>12</td>\n",
       "      <td>8</td>\n",
       "      <td>10</td>\n",
       "      <td>89+2</td>\n",
       "      <td>89+2</td>\n",
       "      <td>89+2</td>\n",
       "      <td>85+0</td>\n",
       "      <td>87+0</td>\n",
       "      <td>87+0</td>\n",
       "      <td>87+0</td>\n",
       "      <td>85+0</td>\n",
       "      <td>85+3</td>\n",
       "      <td>85+3</td>\n",
       "      <td>85+3</td>\n",
       "      <td>83+3</td>\n",
       "      <td>79+3</td>\n",
       "      <td>79+3</td>\n",
       "      <td>79+3</td>\n",
       "      <td>83+3</td>\n",
       "      <td>64+3</td>\n",
       "      <td>65+3</td>\n",
       "      <td>65+3</td>\n",
       "      <td>65+3</td>\n",
       "      <td>64+3</td>\n",
       "      <td>61+3</td>\n",
       "      <td>60+3</td>\n",
       "      <td>60+3</td>\n",
       "      <td>60+3</td>\n",
       "      <td>61+3</td>\n",
       "    </tr>\n",
       "  </tbody>\n",
       "</table>\n",
       "<p>4 rows × 106 columns</p>\n",
       "</div>"
      ],
      "text/plain": [
       "   sofifa_id                                         player_url  \\\n",
       "0     158023  https://sofifa.com/player/158023/lionel-messi/...   \n",
       "1      20801  https://sofifa.com/player/20801/c-ronaldo-dos-...   \n",
       "2     200389  https://sofifa.com/player/200389/jan-oblak/210002   \n",
       "3     188545  https://sofifa.com/player/188545/robert-lewand...   \n",
       "\n",
       "          short_name                            long_name  age         dob  \\\n",
       "0           L. Messi       Lionel Andrés Messi Cuccittini   33  1987-06-24   \n",
       "1  Cristiano Ronaldo  Cristiano Ronaldo dos Santos Aveiro   35  1985-02-05   \n",
       "2           J. Oblak                            Jan Oblak   27  1993-01-07   \n",
       "3     R. Lewandowski                   Robert Lewandowski   31  1988-08-21   \n",
       "\n",
       "   height_cm  weight_kg nationality          club_name  \\\n",
       "0        170         72   Argentina       FC Barcelona   \n",
       "1        187         83    Portugal           Juventus   \n",
       "2        188         87    Slovenia    Atlético Madrid   \n",
       "3        184         80      Poland  FC Bayern München   \n",
       "\n",
       "              league_name  league_rank  overall  potential  value_eur  \\\n",
       "0  Spain Primera Division          1.0       93         93   67500000   \n",
       "1         Italian Serie A          1.0       92         92   46000000   \n",
       "2  Spain Primera Division          1.0       91         93   75000000   \n",
       "3    German 1. Bundesliga          1.0       91         91   80000000   \n",
       "\n",
       "   wage_eur player_positions preferred_foot  international_reputation  \\\n",
       "0    560000       RW, ST, CF           Left                         5   \n",
       "1    220000           ST, LW          Right                         5   \n",
       "2    125000               GK          Right                         3   \n",
       "3    240000               ST          Right                         4   \n",
       "\n",
       "   weak_foot  skill_moves      work_rate             body_type real_face  \\\n",
       "0          4            4     Medium/Low                 Messi       Yes   \n",
       "1          4            5       High/Low            C. Ronaldo       Yes   \n",
       "2          3            1  Medium/Medium  PLAYER_BODY_TYPE_259       Yes   \n",
       "3          4            4    High/Medium  PLAYER_BODY_TYPE_276       Yes   \n",
       "\n",
       "   release_clause_eur                                        player_tags  \\\n",
       "0         138400000.0  #Dribbler, #Distance Shooter, #FK Specialist, ...   \n",
       "1          75900000.0  #Aerial Threat, #Dribbler, #Distance Shooter, ...   \n",
       "2         159400000.0                                                NaN   \n",
       "3         132000000.0              #Distance Shooter, #Clinical Finisher   \n",
       "\n",
       "  team_position  team_jersey_number loaned_from      joined  \\\n",
       "0           CAM                10.0         NaN  2004-07-01   \n",
       "1            LS                 7.0         NaN  2018-07-10   \n",
       "2            GK                13.0         NaN  2014-07-16   \n",
       "3            ST                 9.0         NaN  2014-07-01   \n",
       "\n",
       "   contract_valid_until nation_position  nation_jersey_number  pace  shooting  \\\n",
       "0                2021.0              RW                  10.0  85.0      92.0   \n",
       "1                2022.0              LS                   7.0  89.0      93.0   \n",
       "2                2023.0              GK                   1.0   NaN       NaN   \n",
       "3                2023.0             NaN                   NaN  78.0      91.0   \n",
       "\n",
       "   passing  dribbling  defending  physic  gk_diving  gk_handling  gk_kicking  \\\n",
       "0     91.0       95.0       38.0    65.0        NaN          NaN         NaN   \n",
       "1     81.0       89.0       35.0    77.0        NaN          NaN         NaN   \n",
       "2      NaN        NaN        NaN     NaN       87.0         92.0        78.0   \n",
       "3     78.0       85.0       43.0    82.0        NaN          NaN         NaN   \n",
       "\n",
       "   gk_reflexes  gk_speed  gk_positioning  \\\n",
       "0          NaN       NaN             NaN   \n",
       "1          NaN       NaN             NaN   \n",
       "2         90.0      52.0            90.0   \n",
       "3          NaN       NaN             NaN   \n",
       "\n",
       "                                       player_traits  attacking_crossing  \\\n",
       "0  Finesse Shot, Long Shot Taker (AI), Speed Drib...                  85   \n",
       "1  Power Free-Kick, Flair, Long Shot Taker (AI), ...                  84   \n",
       "2                   GK Long Throw, Comes For Crosses                  13   \n",
       "3  Solid Player, Finesse Shot, Outside Foot Shot,...                  71   \n",
       "\n",
       "   attacking_finishing  attacking_heading_accuracy  attacking_short_passing  \\\n",
       "0                   95                          70                       91   \n",
       "1                   95                          90                       82   \n",
       "2                   11                          15                       43   \n",
       "3                   94                          85                       84   \n",
       "\n",
       "   ...  movement_acceleration  movement_sprint_speed  movement_agility  \\\n",
       "0  ...                     91                     80                91   \n",
       "1  ...                     87                     91                87   \n",
       "2  ...                     43                     60                67   \n",
       "3  ...                     77                     78                77   \n",
       "\n",
       "   movement_reactions  movement_balance  power_shot_power  power_jumping  \\\n",
       "0                  94                95                86             68   \n",
       "1                  95                71                94             95   \n",
       "2                  88                49                59             78   \n",
       "3                  93                82                89             84   \n",
       "\n",
       "   power_stamina  power_strength  power_long_shots  mentality_aggression  \\\n",
       "0             72              69                94                    44   \n",
       "1             84              78                93                    63   \n",
       "2             41              78                12                    34   \n",
       "3             76              86                85                    81   \n",
       "\n",
       "   mentality_interceptions  mentality_positioning  mentality_vision  \\\n",
       "0                       40                     93                95   \n",
       "1                       29                     95                82   \n",
       "2                       19                     11                65   \n",
       "3                       49                     94                79   \n",
       "\n",
       "   mentality_penalties  mentality_composure  defending_marking  \\\n",
       "0                   75                   96                NaN   \n",
       "1                   84                   95                NaN   \n",
       "2                   11                   68                NaN   \n",
       "3                   88                   88                NaN   \n",
       "\n",
       "   defending_standing_tackle  defending_sliding_tackle  goalkeeping_diving  \\\n",
       "0                         35                        24                   6   \n",
       "1                         32                        24                   7   \n",
       "2                         12                        18                  87   \n",
       "3                         42                        19                  15   \n",
       "\n",
       "   goalkeeping_handling  goalkeeping_kicking  goalkeeping_positioning  \\\n",
       "0                    11                   15                       14   \n",
       "1                    11                   15                       14   \n",
       "2                    92                   78                       90   \n",
       "3                     6                   12                        8   \n",
       "\n",
       "   goalkeeping_reflexes    ls    st    rs    lw    lf    cf    rf    rw   lam  \\\n",
       "0                     8  89+3  89+3  89+3  92+0  93+0  93+0  93+0  92+0  93+0   \n",
       "1                    11  91+1  91+1  91+1  89+0  91+0  91+0  91+0  89+0  88+3   \n",
       "2                    90  33+3  33+3  33+3  32+0  35+0  35+0  35+0  32+0  38+3   \n",
       "3                    10  89+2  89+2  89+2  85+0  87+0  87+0  87+0  85+0  85+3   \n",
       "\n",
       "    cam   ram    lm   lcm    cm   rcm    rm   lwb   ldm   cdm   rdm   rwb  \\\n",
       "0  93+0  93+0  91+2  87+3  87+3  87+3  91+2  66+3  65+3  65+3  65+3  66+3   \n",
       "1  88+3  88+3  88+3  81+3  81+3  81+3  88+3  65+3  61+3  61+3  61+3  65+3   \n",
       "2  38+3  38+3  35+3  38+3  38+3  38+3  35+3  32+3  36+3  36+3  36+3  32+3   \n",
       "3  85+3  85+3  83+3  79+3  79+3  79+3  83+3  64+3  65+3  65+3  65+3  64+3   \n",
       "\n",
       "     lb   lcb    cb   rcb    rb  \n",
       "0  62+3  52+3  52+3  52+3  62+3  \n",
       "1  61+3  54+3  54+3  54+3  61+3  \n",
       "2  32+3  33+3  33+3  33+3  32+3  \n",
       "3  61+3  60+3  60+3  60+3  61+3  \n",
       "\n",
       "[4 rows x 106 columns]"
      ]
     },
     "execution_count": 23,
     "metadata": {},
     "output_type": "execute_result"
    }
   ],
   "source": [
    "df=pd.read_csv(\"./data/players_21.csv\")\n",
    "df.head(4)"
   ]
  },
  {
   "cell_type": "markdown",
   "metadata": {
    "id": "oe2CUDNz23kM"
   },
   "source": [
    "**Preparamos la base para Clustering:**\n",
    "\n",
    "**Retiramos jugadores con bajo Desempeño global (\"Overall\")**\n",
    "\n",
    "**y consideramos Variables de desempeño por habilidad (skills_ratings)**"
   ]
  },
  {
   "cell_type": "code",
   "execution_count": 24,
   "metadata": {
    "colab": {
     "base_uri": "https://localhost:8080/"
    },
    "executionInfo": {
     "elapsed": 413,
     "status": "ok",
     "timestamp": 1630024847271,
     "user": {
      "displayName": "Valeria S RULLONI",
      "photoUrl": "",
      "userId": "09936144167370803067"
     },
     "user_tz": 180
    },
    "id": "jxtMgDEP23kN",
    "outputId": "7c33fb93-a75b-4b53-c6f4-2de66e92e694"
   },
   "outputs": [
    {
     "name": "stdout",
     "output_type": "stream",
     "text": [
      "34 variables numéricas: skills/habilidades\n"
     ]
    }
   ],
   "source": [
    "n=10000\n",
    "df_n=df.loc[:n] #los primeros n\n",
    "df_n=df_n[(df_n['overall']>70)] # mejores jugadores\n",
    "\n",
    "skills_ratings = ['attacking_crossing', 'attacking_finishing', 'attacking_heading_accuracy', 'attacking_short_passing',\n",
    "                  'attacking_volleys', 'skill_dribbling', 'skill_curve', 'skill_fk_accuracy', 'skill_long_passing',\n",
    "                  'skill_ball_control', 'movement_acceleration', 'movement_sprint_speed', 'movement_agility', 'movement_reactions',\n",
    "                  'movement_balance', 'power_shot_power', 'power_jumping', 'power_stamina', 'power_strength', 'power_long_shots',\n",
    "                  'mentality_aggression', 'mentality_interceptions', 'mentality_positioning', 'mentality_vision', 'mentality_penalties', \n",
    "                  'mentality_composure', 'defending_marking', 'defending_standing_tackle', 'defending_sliding_tackle',\n",
    "                  'goalkeeping_diving', 'goalkeeping_handling', 'goalkeeping_kicking', 'goalkeeping_positioning', 'goalkeeping_reflexes']\n",
    "\n",
    "print(len(skills_ratings), 'variables numéricas: skills/habilidades')\n",
    "\n",
    "df_skills=df_n[skills_ratings]"
   ]
  },
  {
   "cell_type": "code",
   "execution_count": 25,
   "metadata": {},
   "outputs": [
    {
     "name": "stdout",
     "output_type": "stream",
     "text": [
      "<class 'pandas.core.frame.DataFrame'>\n",
      "Int64Index: 4512 entries, 0 to 4511\n",
      "Data columns (total 34 columns):\n",
      " #   Column                      Non-Null Count  Dtype  \n",
      "---  ------                      --------------  -----  \n",
      " 0   attacking_crossing          4512 non-null   int64  \n",
      " 1   attacking_finishing         4512 non-null   int64  \n",
      " 2   attacking_heading_accuracy  4512 non-null   int64  \n",
      " 3   attacking_short_passing     4512 non-null   int64  \n",
      " 4   attacking_volleys           4512 non-null   int64  \n",
      " 5   skill_dribbling             4512 non-null   int64  \n",
      " 6   skill_curve                 4512 non-null   int64  \n",
      " 7   skill_fk_accuracy           4512 non-null   int64  \n",
      " 8   skill_long_passing          4512 non-null   int64  \n",
      " 9   skill_ball_control          4512 non-null   int64  \n",
      " 10  movement_acceleration       4512 non-null   int64  \n",
      " 11  movement_sprint_speed       4512 non-null   int64  \n",
      " 12  movement_agility            4512 non-null   int64  \n",
      " 13  movement_reactions          4512 non-null   int64  \n",
      " 14  movement_balance            4512 non-null   int64  \n",
      " 15  power_shot_power            4512 non-null   int64  \n",
      " 16  power_jumping               4512 non-null   int64  \n",
      " 17  power_stamina               4512 non-null   int64  \n",
      " 18  power_strength              4512 non-null   int64  \n",
      " 19  power_long_shots            4512 non-null   int64  \n",
      " 20  mentality_aggression        4512 non-null   int64  \n",
      " 21  mentality_interceptions     4512 non-null   int64  \n",
      " 22  mentality_positioning       4512 non-null   int64  \n",
      " 23  mentality_vision            4512 non-null   int64  \n",
      " 24  mentality_penalties         4512 non-null   int64  \n",
      " 25  mentality_composure         4512 non-null   int64  \n",
      " 26  defending_marking           0 non-null      float64\n",
      " 27  defending_standing_tackle   4512 non-null   int64  \n",
      " 28  defending_sliding_tackle    4512 non-null   int64  \n",
      " 29  goalkeeping_diving          4512 non-null   int64  \n",
      " 30  goalkeeping_handling        4512 non-null   int64  \n",
      " 31  goalkeeping_kicking         4512 non-null   int64  \n",
      " 32  goalkeeping_positioning     4512 non-null   int64  \n",
      " 33  goalkeeping_reflexes        4512 non-null   int64  \n",
      "dtypes: float64(1), int64(33)\n",
      "memory usage: 1.2 MB\n"
     ]
    }
   ],
   "source": [
    "df_skills.info()"
   ]
  },
  {
   "cell_type": "code",
   "execution_count": 30,
   "metadata": {},
   "outputs": [],
   "source": [
    "df_skills=df_skills.drop([\"defending_marking\"], axis=1)"
   ]
  },
  {
   "cell_type": "code",
   "execution_count": 31,
   "metadata": {},
   "outputs": [
    {
     "data": {
      "text/plain": [
       "Index(['attacking_crossing', 'attacking_finishing',\n",
       "       'attacking_heading_accuracy', 'attacking_short_passing',\n",
       "       'attacking_volleys', 'skill_dribbling', 'skill_curve',\n",
       "       'skill_fk_accuracy', 'skill_long_passing', 'skill_ball_control',\n",
       "       'movement_acceleration', 'movement_sprint_speed', 'movement_agility',\n",
       "       'movement_reactions', 'movement_balance', 'power_shot_power',\n",
       "       'power_jumping', 'power_stamina', 'power_strength', 'power_long_shots',\n",
       "       'mentality_aggression', 'mentality_interceptions',\n",
       "       'mentality_positioning', 'mentality_vision', 'mentality_penalties',\n",
       "       'mentality_composure', 'defending_standing_tackle',\n",
       "       'defending_sliding_tackle', 'goalkeeping_diving',\n",
       "       'goalkeeping_handling', 'goalkeeping_kicking',\n",
       "       'goalkeeping_positioning', 'goalkeeping_reflexes'],\n",
       "      dtype='object')"
      ]
     },
     "execution_count": 31,
     "metadata": {},
     "output_type": "execute_result"
    }
   ],
   "source": [
    "df_skills.columns"
   ]
  },
  {
   "cell_type": "markdown",
   "metadata": {
    "id": "j3e3zs5-23kP"
   },
   "source": [
    "# 3.-Clustering-con-Kmeans\n",
    "\n",
    "ES necesario definirle la cantidad de grupos/clusters (n_clusters), es un hiperparámetro del algoritmo. \n"
   ]
  },
  {
   "cell_type": "code",
   "execution_count": 32,
   "metadata": {
    "colab": {
     "base_uri": "https://localhost:8080/"
    },
    "executionInfo": {
     "elapsed": 862,
     "status": "ok",
     "timestamp": 1630024865244,
     "user": {
      "displayName": "Valeria S RULLONI",
      "photoUrl": "",
      "userId": "09936144167370803067"
     },
     "user_tz": 180
    },
    "id": "fC3-K3-_23kQ",
    "outputId": "97fd0053-1a6a-4e50-ba5f-dd8f0f59efe8"
   },
   "outputs": [
    {
     "name": "stdout",
     "output_type": "stream",
     "text": [
      "Suma de los cuadrados de las distancias al cluster=Inertia=  10156317.022603776\n"
     ]
    }
   ],
   "source": [
    "# Número de clusters buscado\n",
    "n_clust = 5\n",
    "\n",
    "km = KMeans(n_clusters=n_clust)\n",
    "km.fit(df_skills) #utiliza todas las habilidades: 34 dimensiones\n",
    "\n",
    "# Recuperacion de etiquetas\n",
    "clusters = km.labels_\n",
    "print('Suma de los cuadrados de las distancias al cluster=Inertia= ', km.inertia_)"
   ]
  },
  {
   "cell_type": "markdown",
   "metadata": {
    "id": "wLQ3GDGz23kS"
   },
   "source": [
    "**Elección de la cantidad de grupos/clusters**\n",
    "\n",
    "Una forma de seleccionar la cantidad más adecuada de clusters es probar varias cantidades y usar el criterio del codo: \"elbow method\", utilizando una medida de ajuste que puede ser Inertia."
   ]
  },
  {
   "cell_type": "code",
   "execution_count": 33,
   "metadata": {
    "colab": {
     "base_uri": "https://localhost:8080/",
     "height": 313
    },
    "executionInfo": {
     "elapsed": 6811,
     "status": "ok",
     "timestamp": 1630024876521,
     "user": {
      "displayName": "Valeria S RULLONI",
      "photoUrl": "",
      "userId": "09936144167370803067"
     },
     "user_tz": 180
    },
    "id": "1DnO-bWf23kT",
    "outputId": "049ca2b1-e15a-418e-e4b9-8b700c627675"
   },
   "outputs": [
    {
     "data": {
      "text/plain": [
       "Text(0.5, 1.0, 'Inertia of k-Means versus number of clusters')"
      ]
     },
     "execution_count": 33,
     "metadata": {},
     "output_type": "execute_result"
    },
    {
     "data": {
      "image/png": "[encoded data removed]",
      "text/plain": [
       "<Figure size 432x288 with 1 Axes>"
      ]
     },
     "metadata": {
      "needs_background": "light"
     },
     "output_type": "display_data"
    }
   ],
   "source": [
    "#Prueba: para elegir el hiperparámetro n_clusters, variando de 2 a 11 clusters\n",
    "scores = [KMeans(n_clusters=i).fit(df_skills).inertia_ for i in range(2,12)]\n",
    "\n",
    "plt.plot(np.arange(2, 12), scores)\n",
    "plt.xlabel('Number of clusters')\n",
    "plt.ylabel(\"Inertia\")\n",
    "plt.title(\"Inertia of k-Means versus number of clusters\")"
   ]
  },
  {
   "cell_type": "markdown",
   "metadata": {
    "id": "qOf5mtXb23kU"
   },
   "source": [
    "**Graficamos el resultado de agrupar a los jugadores usando kmedias con la cantidad de clases elegida: Visualizamos de a dos variables por vez**"
   ]
  },
  {
   "cell_type": "code",
   "execution_count": 35,
   "metadata": {
    "executionInfo": {
     "elapsed": 441,
     "status": "ok",
     "timestamp": 1630024883071,
     "user": {
      "displayName": "Valeria S RULLONI",
      "photoUrl": "",
      "userId": "09936144167370803067"
     },
     "user_tz": 180
    },
    "id": "XCaA-dPqGdon"
   },
   "outputs": [],
   "source": [
    "bool_crack=df_n[\"overall\"] > 85\n",
    "bool_no_crack=df_n[\"overall\"]<86\n",
    "\n",
    "#Eligo dos números entre 0 y  de n_skills-1\n",
    "skill_1=skills_ratings[9]\n",
    "skill_2=skills_ratings[10]"
   ]
  },
  {
   "cell_type": "code",
   "execution_count": 37,
   "metadata": {
    "executionInfo": {
     "elapsed": 309,
     "status": "ok",
     "timestamp": 1630009617082,
     "user": {
      "displayName": "Valeria S RULLONI",
      "photoUrl": "",
      "userId": "09936144167370803067"
     },
     "user_tz": 180
    },
    "id": "7VyWS6gm23kU"
   },
   "outputs": [],
   "source": [
    "kmean_clusters = go.Scatter(x=df_skills[skill_1], y=df_skills[skill_2],\n",
    "                           mode='markers',\n",
    "                        text=df_n.loc[:,'short_name'],\n",
    "                           marker=dict(\n",
    "                                size=5,\n",
    "                                color = clusters.astype(np.float), #set color equal to a variable\n",
    "                                colorscale='Portland',\n",
    "                                showscale=False)\n",
    "                           )\n",
    "\n",
    "crack =go.Scatter(x=df_skills.loc[bool_crack,skill_1], y=df_skills.loc[bool_crack,skill_2],name='Ckacks!!',\n",
    "                      text=df_n.loc[bool_crack,'short_name'],\n",
    "                      textfont=dict(family='sans serif',size=10,color='black'),\n",
    "                      opacity=0.9,mode='text')\n",
    "\n",
    "data=[kmean_clusters,crack]\n",
    "\n",
    "layout = go.Layout(title=\"Clustering K means \",titlefont=dict(size=20),\n",
    "                xaxis=dict(title=skill_1),\n",
    "                yaxis=dict(title=skill_2),\n",
    "                autosize=False, width=1000,height=650)\n",
    "\n",
    "fig = go.Figure(data=data, layout=layout)"
   ]
  },
  {
   "cell_type": "code",
   "execution_count": 38,
   "metadata": {
    "colab": {
     "base_uri": "https://localhost:8080/",
     "height": 737
    },
    "executionInfo": {
     "elapsed": 588,
     "status": "ok",
     "timestamp": 1630009583702,
     "user": {
      "displayName": "Valeria S RULLONI",
      "photoUrl": "",
      "userId": "09936144167370803067"
     },
     "user_tz": 180
    },
    "id": "K6pZ1GaJH37C",
    "outputId": "68fe505d-6b08-48a5-9206-1c1753dbe331"
   },
   "outputs": [],
   "source": [
    "#En Colab:\n",
    "#fig.show(renderer=\"colab\")"
   ]
  },
  {
   "cell_type": "code",
   "execution_count": 40,
   "metadata": {
    "id": "an0gSTkEHDh8"
   },
   "outputs": [
    {
     "data": {
      "text/plain": [
       "'temp-plot.html'"
      ]
     },
     "execution_count": 40,
     "metadata": {},
     "output_type": "execute_result"
    }
   ],
   "source": [
    "#En Jupyter:\n",
    "#iplot(fig)\n",
    "plot(fig)"
   ]
  },
  {
   "cell_type": "code",
   "execution_count": 42,
   "metadata": {
    "colab": {
     "base_uri": "https://localhost:8080/"
    },
    "executionInfo": {
     "elapsed": 338,
     "status": "ok",
     "timestamp": 1630010104284,
     "user": {
      "displayName": "Valeria S RULLONI",
      "photoUrl": "",
      "userId": "09936144167370803067"
     },
     "user_tz": 180
    },
    "id": "AleSpy9L23kX",
    "outputId": "1263c98b-0f55-4b65-aaa8-f455f567fdca",
    "scrolled": true
   },
   "outputs": [
    {
     "name": "stdout",
     "output_type": "stream",
     "text": [
      "Kmeans encontró:  5 clusters, nosotros forzamos la cantidad\n"
     ]
    }
   ],
   "source": [
    "df_clusters=df_n.copy()\n",
    "df_clusters['kmeans'] = km.labels_ #clusters\n",
    "print('Kmeans encontró: ', max(km.labels_)+1, 'clusters, nosotros forzamos la cantidad')"
   ]
  },
  {
   "cell_type": "markdown",
   "metadata": {
    "id": "Lq4nEGWr23kZ"
   },
   "source": [
    "**EVALUACIÓN**\n",
    "\n",
    "**EJERCICIO: Análisis exploratorio de los clusters, usando las clases asignadas por kmeans** \n",
    "- Cantidad de observaciones por Cluster\n",
    "- Análisis descriptivo separando por Cluster\n",
    "- Tabla de contingencia alguna categórica vs clusters\n",
    "- Silohuette?\n"
   ]
  },
  {
   "cell_type": "code",
   "execution_count": null,
   "metadata": {
    "id": "tkZBW1JK23ka"
   },
   "outputs": [],
   "source": []
  },
  {
   "cell_type": "markdown",
   "metadata": {
    "id": "_2Mwygfs23kc"
   },
   "source": [
    "# 4.-Clustering-Mean-Shift \n",
    "\n",
    "- NO es necesario definirle la cantidad de grupos/clusters\n",
    "- NO es escalable, computacionalmente es muy pesado. Cada dato tienen un proceso iterativo en donde en cada iteración considera los vecinos a menos de un radio de distancia.\n",
    "- Hipeparámetros: radio/bandwith (de cobertura para cálculo de media). (Probar con varios)"
   ]
  },
  {
   "cell_type": "code",
   "execution_count": 43,
   "metadata": {
    "colab": {
     "base_uri": "https://localhost:8080/"
    },
    "executionInfo": {
     "elapsed": 4454,
     "status": "ok",
     "timestamp": 1630024912913,
     "user": {
      "displayName": "Valeria S RULLONI",
      "photoUrl": "",
      "userId": "09936144167370803067"
     },
     "user_tz": 180
    },
    "id": "iKJU3x9s23kc",
    "outputId": "97d7dfc7-e924-4011-9720-9024ac642cae"
   },
   "outputs": [
    {
     "name": "stdout",
     "output_type": "stream",
     "text": [
      "Cantidad de clusters encontrados por Mean Shift : 3\n"
     ]
    }
   ],
   "source": [
    "ms = MeanShift(bandwidth=2, bin_seeding=True)\n",
    "\n",
    "ms.fit(df_skills)\n",
    "\n",
    "clusters2 = ms.labels_\n",
    "cluster_centers = ms.cluster_centers_\n",
    "\n",
    "labels_unique = np.unique(clusters2)\n",
    "n_clusters_ = len(labels_unique)\n",
    "\n",
    "print(\"Cantidad de clusters encontrados por Mean Shift : %d\" % n_clusters_)"
   ]
  },
  {
   "cell_type": "markdown",
   "metadata": {
    "id": "aneua5fUMRC9"
   },
   "source": [
    "Graficamos los resultados:"
   ]
  },
  {
   "cell_type": "code",
   "execution_count": 44,
   "metadata": {
    "executionInfo": {
     "elapsed": 17,
     "status": "ok",
     "timestamp": 1630024913866,
     "user": {
      "displayName": "Valeria S RULLONI",
      "photoUrl": "",
      "userId": "09936144167370803067"
     },
     "user_tz": 180
    },
    "id": "FYfYpQVYMNfg"
   },
   "outputs": [],
   "source": [
    "bool_crack=df_n[\"overall\"] > 85\n",
    "bool_no_crack=df_n[\"overall\"]<86\n",
    "\n",
    "#Eligo dos números entre 0 y  de n_skills-1\n",
    "skill_1=skills_ratings[5]\n",
    "skill_2=skills_ratings[14]"
   ]
  },
  {
   "cell_type": "code",
   "execution_count": 45,
   "metadata": {
    "executionInfo": {
     "elapsed": 520,
     "status": "ok",
     "timestamp": 1630010977749,
     "user": {
      "displayName": "Valeria S RULLONI",
      "photoUrl": "",
      "userId": "09936144167370803067"
     },
     "user_tz": 180
    },
    "id": "R20e37HS23ke"
   },
   "outputs": [],
   "source": [
    "data=[]\n",
    "MeanShift_clusters = go.Scatter(x=df_skills[skill_1], y=df_skills[skill_2],\n",
    "                           mode='markers',\n",
    "                        text=df_n.loc[:,'short_name'],\n",
    "                           marker=dict(\n",
    "                                size=5,\n",
    "                                color = clusters2.astype(np.float), #set color equal to a variable\n",
    "                                colorscale='Portland',\n",
    "                                showscale=False)\n",
    "                           )\n",
    "\n",
    "crack =go.Scatter(x=df_skills.loc[bool_crack,skill_1], y=df_skills.loc[bool_crack,skill_2],name='Top players',\n",
    "                      text=df_n.loc[bool_crack,'short_name'],\n",
    "                      textfont=dict(family='sans serif',size=10,color='black'),\n",
    "                      opacity=0.9,mode='text')\n",
    "\n",
    "data=[MeanShift_clusters,crack]\n",
    "\n",
    "layout = go.Layout(title=\"Mean Shift\",titlefont=dict(size=20),\n",
    "                xaxis=dict(title=skill_1),\n",
    "                yaxis=dict(title=skill_2),\n",
    "                autosize=False, width=1000,height=650)\n",
    "\n",
    "fig = go.Figure(data=data, layout=layout)"
   ]
  },
  {
   "cell_type": "code",
   "execution_count": 46,
   "metadata": {
    "colab": {
     "base_uri": "https://localhost:8080/",
     "height": 687
    },
    "executionInfo": {
     "elapsed": 810,
     "status": "ok",
     "timestamp": 1630010981427,
     "user": {
      "displayName": "Valeria S RULLONI",
      "photoUrl": "",
      "userId": "09936144167370803067"
     },
     "user_tz": 180
    },
    "id": "1utuZ-WfM2VY",
    "outputId": "29ae1db7-4180-49f7-f3e0-fab72976ff42"
   },
   "outputs": [],
   "source": [
    "#En Colab\n",
    "#fig.show(renderer=\"colab\")"
   ]
  },
  {
   "cell_type": "code",
   "execution_count": 47,
   "metadata": {
    "colab": {
     "base_uri": "https://localhost:8080/"
    },
    "executionInfo": {
     "elapsed": 473,
     "status": "ok",
     "timestamp": 1630010603434,
     "user": {
      "displayName": "Valeria S RULLONI",
      "photoUrl": "",
      "userId": "09936144167370803067"
     },
     "user_tz": 180
    },
    "id": "bbspPWgd23kf",
    "outputId": "b1b2cf3d-bb67-4965-b0dd-8df8feafdf29",
    "scrolled": true
   },
   "outputs": [
    {
     "name": "stdout",
     "output_type": "stream",
     "text": [
      "Kmeans encontró:  5 clusters, nosotros lo forzamos\n",
      "Mean shift encontró  3 clusters, según los hiperparámetros elegidos\n"
     ]
    }
   ],
   "source": [
    "df_clusters['MeanShift'] = ms.labels_ #clusters2\n",
    "print('Kmeans encontró: ', max(km.labels_)+1, 'clusters, nosotros lo forzamos')\n",
    "print('Mean shift encontró ', max(ms.labels_)+1, 'clusters, según los hiperparámetros elegidos')"
   ]
  },
  {
   "cell_type": "markdown",
   "metadata": {
    "id": "MnJDsbVN23kh"
   },
   "source": [
    "**EVALUACIÓN**\n",
    "\n",
    "**EJERCICIO EN GRUPO: Análisis exploratorio de los clusters, usando las clases asignadas por MeanShift** "
   ]
  },
  {
   "cell_type": "code",
   "execution_count": null,
   "metadata": {
    "id": "psUt_Yp423ki"
   },
   "outputs": [],
   "source": [
    "#Cantidad de observaciones por Cluster\n",
    "#Análisis descriptivo separando por Cluster\n",
    "#Tabla de contingencia alguna categórica vs clusters\n",
    "#Silohuette?\n"
   ]
  },
  {
   "cell_type": "code",
   "execution_count": null,
   "metadata": {
    "id": "_DrIQu-m23ki"
   },
   "outputs": [],
   "source": []
  },
  {
   "cell_type": "markdown",
   "metadata": {
    "id": "fnHOnm4W23kj"
   },
   "source": [
    "**Pregunta: normalizamos/estandarizamos la base?**"
   ]
  },
  {
   "cell_type": "code",
   "execution_count": null,
   "metadata": {
    "id": "R-CQF2f-23kj"
   },
   "outputs": [],
   "source": []
  },
  {
   "cell_type": "markdown",
   "metadata": {
    "id": "tiRc5mb723kk"
   },
   "source": [
    "**Ahora vemos que agrupamientos se pueden hacer excluyendo los arqueros**"
   ]
  },
  {
   "cell_type": "markdown",
   "metadata": {
    "id": "YtTsDiBG23kk"
   },
   "source": [
    "# 5.-Clustering-con-Kmeans-sin-arqueros"
   ]
  },
  {
   "cell_type": "code",
   "execution_count": 49,
   "metadata": {
    "executionInfo": {
     "elapsed": 566,
     "status": "ok",
     "timestamp": 1630024957197,
     "user": {
      "displayName": "Valeria S RULLONI",
      "photoUrl": "",
      "userId": "09936144167370803067"
     },
     "user_tz": 180
    },
    "id": "ZUTJztht23kl"
   },
   "outputs": [],
   "source": [
    "n=10000\n",
    "df_n=df.loc[:n]\n",
    "df_n=df_n[(df_n[\"player_positions\"]!='GK')&(df_n['overall']>69)]\n",
    "\n",
    "skills_ratings = ['attacking_crossing', 'attacking_finishing', 'attacking_heading_accuracy', 'attacking_short_passing',\n",
    "                  'attacking_volleys', 'skill_dribbling', 'skill_curve', 'skill_fk_accuracy', 'skill_long_passing',\n",
    "                  'skill_ball_control', 'movement_acceleration', 'movement_sprint_speed', 'movement_agility', 'movement_reactions',\n",
    "                  'movement_balance', 'power_shot_power', 'power_jumping', 'power_stamina', 'power_strength', 'power_long_shots',\n",
    "                  'mentality_aggression', 'mentality_interceptions', 'mentality_positioning', 'mentality_vision', 'mentality_penalties', \n",
    "                  'mentality_composure', 'defending_standing_tackle', 'defending_sliding_tackle',\n",
    "                  'goalkeeping_diving', 'goalkeeping_handling', 'goalkeeping_kicking', 'goalkeeping_positioning', 'goalkeeping_reflexes']\n",
    "\n",
    "df_skills=df_n[skills_ratings]\n"
   ]
  },
  {
   "cell_type": "code",
   "execution_count": null,
   "metadata": {
    "id": "JwIUhD5vD3Bw"
   },
   "outputs": [],
   "source": []
  },
  {
   "cell_type": "code",
   "execution_count": 50,
   "metadata": {
    "executionInfo": {
     "elapsed": 476,
     "status": "ok",
     "timestamp": 1630024968279,
     "user": {
      "displayName": "Valeria S RULLONI",
      "photoUrl": "",
      "userId": "09936144167370803067"
     },
     "user_tz": 180
    },
    "id": "JSegfE0B23km"
   },
   "outputs": [],
   "source": [
    "# Número de clusters buscado\n",
    "n_clust = 5\n",
    "\n",
    "km = KMeans(n_clusters=n_clust)\n",
    "km.fit(df_skills)\n",
    "\n",
    "# Recuperacion de etiquetas\n",
    "clusters = km.labels_"
   ]
  },
  {
   "cell_type": "code",
   "execution_count": 51,
   "metadata": {
    "executionInfo": {
     "elapsed": 414,
     "status": "ok",
     "timestamp": 1630024994413,
     "user": {
      "displayName": "Valeria S RULLONI",
      "photoUrl": "",
      "userId": "09936144167370803067"
     },
     "user_tz": 180
    },
    "id": "EowD7UMIOxzq"
   },
   "outputs": [],
   "source": [
    "#data=[]\n",
    "bool_crack=df_n[\"overall\"] > 85\n",
    "bool_no_crack=df_n[\"overall\"]<86\n",
    "\n",
    "#Eligo dos números entre 0 y  de n_skills-1\n",
    "skill_1=skills_ratings[5]\n",
    "skill_2=skills_ratings[15]"
   ]
  },
  {
   "cell_type": "code",
   "execution_count": 52,
   "metadata": {
    "executionInfo": {
     "elapsed": 1525,
     "status": "ok",
     "timestamp": 1630025023803,
     "user": {
      "displayName": "Valeria S RULLONI",
      "photoUrl": "",
      "userId": "09936144167370803067"
     },
     "user_tz": 180
    },
    "id": "_iX219jz23ko"
   },
   "outputs": [],
   "source": [
    "kmean_clusters = go.Scatter(x=df_skills[skill_1], y=df_skills[skill_2],\n",
    "                           mode='markers',\n",
    "                        text=df_n.loc[:,'short_name'],\n",
    "                           marker=dict(\n",
    "                                size=5,\n",
    "                                color = clusters.astype(np.float), #set color equal to a variable\n",
    "                                colorscale='Portland',\n",
    "                                showscale=False)\n",
    "                           )\n",
    "\n",
    "crack =go.Scatter(x=df_skills.loc[bool_crack,skill_1], y=df_skills.loc[bool_crack,skill_2],name='Top players',\n",
    "                      text=df_n.loc[bool_crack,'short_name'],\n",
    "                      textfont=dict(family='sans serif',size=10,color='black'),\n",
    "                      opacity=0.9,mode='text')\n",
    "\n",
    "data=[kmean_clusters,crack]\n",
    "\n",
    "layout = go.Layout(title=\"Clustering K means \",titlefont=dict(size=20),\n",
    "                xaxis=dict(title=skill_1),\n",
    "                yaxis=dict(title=skill_2),\n",
    "                autosize=False, width=1000,height=1000)\n",
    "\n",
    "fig = go.Figure(data=data, layout=layout)"
   ]
  },
  {
   "cell_type": "code",
   "execution_count": 53,
   "metadata": {
    "colab": {
     "base_uri": "https://localhost:8080/",
     "height": 1000
    },
    "executionInfo": {
     "elapsed": 50,
     "status": "ok",
     "timestamp": 1630025027473,
     "user": {
      "displayName": "Valeria S RULLONI",
      "photoUrl": "",
      "userId": "09936144167370803067"
     },
     "user_tz": 180
    },
    "id": "nw9toVYdPQm9",
    "outputId": "db52f986-6ff2-47e0-c3f2-b7c14e704f26"
   },
   "outputs": [],
   "source": [
    "#En Colab\n",
    "#fig.show(renderer=\"colab\")"
   ]
  },
  {
   "cell_type": "code",
   "execution_count": 54,
   "metadata": {
    "id": "ayan8_vEPUig"
   },
   "outputs": [
    {
     "data": {
      "text/plain": [
       "'temp-plot.html'"
      ]
     },
     "execution_count": 54,
     "metadata": {},
     "output_type": "execute_result"
    }
   ],
   "source": [
    "#en Jupyter:\n",
    "plot(fig)"
   ]
  },
  {
   "cell_type": "markdown",
   "metadata": {
    "id": "JGWjp3ge23kt"
   },
   "source": [
    "# 6.-Clustering-Mean-Shift-sin-arqueros "
   ]
  },
  {
   "cell_type": "code",
   "execution_count": 55,
   "metadata": {
    "colab": {
     "base_uri": "https://localhost:8080/"
    },
    "executionInfo": {
     "elapsed": 4576,
     "status": "ok",
     "timestamp": 1630025053877,
     "user": {
      "displayName": "Valeria S RULLONI",
      "photoUrl": "",
      "userId": "09936144167370803067"
     },
     "user_tz": 180
    },
    "id": "NoS196kb23ku",
    "outputId": "de7b3c02-6e99-4f04-c039-eee949b5bec6"
   },
   "outputs": [
    {
     "name": "stdout",
     "output_type": "stream",
     "text": [
      "Numero de clusters encontrado por Mean Shift : 4868\n"
     ]
    }
   ],
   "source": [
    "ms = MeanShift(bandwidth=2, bin_seeding=True)\n",
    "\n",
    "ms.fit(df_skills)\n",
    "\n",
    "clusters2 = ms.labels_\n",
    "cluster_centers = ms.cluster_centers_\n",
    "\n",
    "labels_unique = np.unique(clusters2)\n",
    "n_clusters_ = len(labels_unique)\n",
    "\n",
    "print(\"Numero de clusters encontrado por Mean Shift : %d\" % n_clusters_)"
   ]
  },
  {
   "cell_type": "code",
   "execution_count": 56,
   "metadata": {
    "colab": {
     "base_uri": "https://localhost:8080/"
    },
    "executionInfo": {
     "elapsed": 418,
     "status": "ok",
     "timestamp": 1630025196488,
     "user": {
      "displayName": "Valeria S RULLONI",
      "photoUrl": "",
      "userId": "09936144167370803067"
     },
     "user_tz": 180
    },
    "id": "mSGTAEoHCbpY",
    "outputId": "00ccac40-fc96-4e8a-f15c-516a6d57aaee"
   },
   "outputs": [
    {
     "name": "stdout",
     "output_type": "stream",
     "text": [
      "skill_ball_control movement_acceleration\n"
     ]
    }
   ],
   "source": [
    "bool_crack=df_n[\"overall\"] > 85\n",
    "bool_no_crack=df_n[\"overall\"]<86\n",
    "\n",
    "#Eligo dos números entre 0 y  de n_skills-1\n",
    "skill_1=skills_ratings[9]\n",
    "skill_2=skills_ratings[10]\n",
    "print(skill_1,skill_2)"
   ]
  },
  {
   "cell_type": "code",
   "execution_count": 57,
   "metadata": {
    "executionInfo": {
     "elapsed": 586,
     "status": "ok",
     "timestamp": 1630025140411,
     "user": {
      "displayName": "Valeria S RULLONI",
      "photoUrl": "",
      "userId": "09936144167370803067"
     },
     "user_tz": 180
    },
    "id": "uK1AcIfP23kx"
   },
   "outputs": [],
   "source": [
    "MeanShift_clusters = go.Scatter(x=df_skills[skill_1], y=df_skills[skill_2],\n",
    "                           mode='markers',\n",
    "                        text=df_n.loc[:,'short_name'],\n",
    "                           marker=dict(\n",
    "                                size=5,\n",
    "                                color = clusters2.astype(np.float), #set color equal to a variable\n",
    "                                colorscale='Portland',\n",
    "                                showscale=False)\n",
    "                           )\n",
    "\n",
    "crack =go.Scatter(x=df_skills.loc[bool_crack,skill_1], y=df_skills.loc[bool_crack,skill_2],name='Top players',\n",
    "                      text=df_n.loc[bool_crack,'short_name'],\n",
    "                      textfont=dict(family='sans serif',size=10,color='black'),\n",
    "                      opacity=0.9,mode='text')\n",
    "\n",
    "data=[MeanShift_clusters,crack]\n",
    "\n",
    "layout = go.Layout(title=\"Mean Shift\",titlefont=dict(size=20),\n",
    "                xaxis=dict(title=skill_1),\n",
    "                yaxis=dict(title=skill_2),\n",
    "                autosize=False, width=1000,height=650)\n",
    "\n",
    "fig = go.Figure(data=data, layout=layout)"
   ]
  },
  {
   "cell_type": "code",
   "execution_count": 58,
   "metadata": {
    "colab": {
     "base_uri": "https://localhost:8080/",
     "height": 687
    },
    "executionInfo": {
     "elapsed": 916,
     "status": "ok",
     "timestamp": 1630025220399,
     "user": {
      "displayName": "Valeria S RULLONI",
      "photoUrl": "",
      "userId": "09936144167370803067"
     },
     "user_tz": 180
    },
    "id": "gmu0_1DREUrz",
    "outputId": "fd97444c-4201-4be5-e3f0-e7863ee1b0d6"
   },
   "outputs": [],
   "source": [
    "#En Colab\n",
    "#fig.show(renderer=\"colab\")"
   ]
  },
  {
   "cell_type": "code",
   "execution_count": 59,
   "metadata": {
    "id": "rYiWuAVXCRsD"
   },
   "outputs": [
    {
     "data": {
      "text/plain": [
       "'temp-plot.html'"
      ]
     },
     "execution_count": 59,
     "metadata": {},
     "output_type": "execute_result"
    }
   ],
   "source": [
    "#En Jupyter\n",
    "plot(fig)"
   ]
  },
  {
   "cell_type": "code",
   "execution_count": 60,
   "metadata": {
    "id": "Cp7i7m_w23k1"
   },
   "outputs": [],
   "source": [
    "df_clusters=df_skills\n",
    "df_clusters['kmeans'] = km.labels_ #clusters\n",
    "df_clusters['MeanShift'] = ms.labels_ #clusters2"
   ]
  },
  {
   "cell_type": "markdown",
   "metadata": {
    "id": "yHW-hKTF23k2"
   },
   "source": [
    "**Análisis exploratorio de las clases**"
   ]
  },
  {
   "cell_type": "code",
   "execution_count": null,
   "metadata": {
    "id": "EXULrOOI23k3"
   },
   "outputs": [],
   "source": []
  }
 ],
 "metadata": {
  "colab": {
   "name": "ntb_clustering_2_fifa2019_Colab.ipynb",
   "provenance": [],
   "toc_visible": true
  },
  "kernelspec": {
   "display_name": "Python 3",
   "language": "python",
   "name": "python3"
  },
  "language_info": {
   "codemirror_mode": {
    "name": "ipython",
    "version": 3
   },
   "file_extension": ".py",
   "mimetype": "text/x-python",
   "name": "python",
   "nbconvert_exporter": "python",
   "pygments_lexer": "ipython3",
   "version": "3.8.5"
  }
 },
 "nbformat": 4,
 "nbformat_minor": 4
}
