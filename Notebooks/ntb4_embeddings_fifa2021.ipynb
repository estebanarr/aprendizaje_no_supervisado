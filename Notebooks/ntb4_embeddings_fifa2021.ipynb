{
 "cells": [
  {
   "cell_type": "markdown",
   "metadata": {
    "id": "eqicWl7YT4U2"
   },
   "source": [
    "<center>\n",
    "    \n",
    "## Aprendizaje No Supervisado - DiploDatos\n",
    "    Laura Alonso Alemany, Ana Georgina Flesia y Valeria Rulloni\n",
    "## Embeddings y Agrupamiento con el FIFA 2019 dataset\n",
    "    \n",
    "Material basado en notas de Ana Georgina Flesia bajo los términos y condiciones de la licencia [Creative Commons CC BY-NC-SA 4.0](https://creativecommons.org/licenses/by-nc-sa/4.0/), a su vez basado de material de [SilveMel](https://www.kaggle.com/karangadiya/fifa19/downloads/data.csv/comments) y otros."
   ]
  },
  {
   "cell_type": "markdown",
   "metadata": {
    "id": "R9sHdkd4T4XJ"
   },
   "source": [
    "### Indice de temas\n",
    "1. [Inicialización del entorno](#1.-Inicialización-del-entorno)\n",
    "2. [Preparación de los datos](#2.-Preparación-de-los-datos)\n",
    "3. [Visualizacion con embeddings:tSNE](#3.-Visualizacion-con-embeddings:tSNE)\n",
    "4. [Componentes Principales](#4.-Componentes-Principales)\n",
    "5. [Clustering](#5.-Clustering)\n"
   ]
  },
  {
   "cell_type": "markdown",
   "metadata": {
    "id": "8WkivUyBT4Xa"
   },
   "source": [
    "## 1.-Inicialización-del-entorno"
   ]
  },
  {
   "cell_type": "markdown",
   "metadata": {
    "id": "g3ilim-IT4Xn"
   },
   "source": [
    "Empezamos cargando algunas herramientas para cargar los datos y manipularlos."
   ]
  },
  {
   "cell_type": "code",
   "execution_count": 1,
   "metadata": {
    "_cell_guid": "79c7e3d0-c299-4dcb-8224-4455121ee9b0",
    "_uuid": "d629ff2d2480ee46fbb7e2d37f6b5fab8052498a",
    "id": "4TtsY1kBT4Xt"
   },
   "outputs": [],
   "source": [
    "import numpy as np\n",
    "import pandas as pd\n",
    "pd.set_option('display.max_columns',100)\n",
    "pd.set_option('display.max_rows',1000)\n",
    "import itertools\n",
    "import warnings\n",
    "warnings.filterwarnings(\"ignore\")\n",
    "import io"
   ]
  },
  {
   "cell_type": "code",
   "execution_count": 2,
   "metadata": {
    "id": "2ItON9liWdi5"
   },
   "outputs": [],
   "source": [
    "from sklearn import (manifold, preprocessing, decomposition)\n",
    "import time"
   ]
  },
  {
   "cell_type": "code",
   "execution_count": 3,
   "metadata": {
    "colab": {
     "base_uri": "https://localhost:8080/",
     "height": 17
    },
    "executionInfo": {
     "elapsed": 3836,
     "status": "ok",
     "timestamp": 1631019403613,
     "user": {
      "displayName": "Valeria S RULLONI",
      "photoUrl": "",
      "userId": "09936144167370803067"
     },
     "user_tz": 180
    },
    "id": "tmbzQsMhT4X_",
    "outputId": "09892339-cd65-4ee9-d3fe-e027bfe7f7ff",
    "scrolled": true
   },
   "outputs": [
    {
     "data": {
      "text/html": [
       "        <script type=\"text/javascript\">\n",
       "        window.PlotlyConfig = {MathJaxConfig: 'local'};\n",
       "        if (window.MathJax) {MathJax.Hub.Config({SVG: {font: \"STIX-Web\"}});}\n",
       "        if (typeof require !== 'undefined') {\n",
       "        require.undef(\"plotly\");\n",
       "        requirejs.config({\n",
       "            paths: {\n",
       "                'plotly': ['https://cdn.plot.ly/plotly-2.3.1.min']\n",
       "            }\n",
       "        });\n",
       "        require(['plotly'], function(Plotly) {\n",
       "            window._Plotly = Plotly;\n",
       "        });\n",
       "        }\n",
       "        </script>\n",
       "        "
      ]
     },
     "metadata": {},
     "output_type": "display_data"
    }
   ],
   "source": [
    "from plotly.offline import init_notebook_mode, plot,iplot\n",
    "import plotly.graph_objs as go\n",
    "init_notebook_mode(connected=True)\n",
    "import matplotlib.pyplot as plt\n",
    "import plotly.tools as tls#visualization\n",
    "import plotly.figure_factory as ff#visualization\n",
    "import seaborn as sns"
   ]
  },
  {
   "cell_type": "markdown",
   "metadata": {
    "id": "Y2tUFUIuT4YZ"
   },
   "source": [
    "## 2.-Preparación-de-los-datos"
   ]
  },
  {
   "cell_type": "markdown",
   "metadata": {
    "id": "BjOpjVOsT4ZQ"
   },
   "source": [
    "Cargamos los datos bajados de la database de [Kaggle](https://www.kaggle.com/karangadiya/fifa19) como 'data.csv'. "
   ]
  },
  {
   "cell_type": "code",
   "execution_count": null,
   "metadata": {
    "id": "V_Dhog2hU-oK"
   },
   "outputs": [],
   "source": [
    "#url='https://raw.githubusercontent.com/DiploDatos/AprendizajeNOSupervisado/master/2021/data.csv'\n"
   ]
  },
  {
   "cell_type": "code",
   "execution_count": null,
   "metadata": {
    "id": "Dkhx5S-sT4Zq"
   },
   "outputs": [],
   "source": [
    "#df=pd.read_csv(url)"
   ]
  },
  {
   "cell_type": "code",
   "execution_count": 5,
   "metadata": {},
   "outputs": [
    {
     "data": {
      "text/html": [
       "<div>\n",
       "<style scoped>\n",
       "    .dataframe tbody tr th:only-of-type {\n",
       "        vertical-align: middle;\n",
       "    }\n",
       "\n",
       "    .dataframe tbody tr th {\n",
       "        vertical-align: top;\n",
       "    }\n",
       "\n",
       "    .dataframe thead th {\n",
       "        text-align: right;\n",
       "    }\n",
       "</style>\n",
       "<table border=\"1\" class=\"dataframe\">\n",
       "  <thead>\n",
       "    <tr style=\"text-align: right;\">\n",
       "      <th></th>\n",
       "      <th>sofifa_id</th>\n",
       "      <th>player_url</th>\n",
       "      <th>short_name</th>\n",
       "      <th>long_name</th>\n",
       "      <th>age</th>\n",
       "      <th>dob</th>\n",
       "      <th>height_cm</th>\n",
       "      <th>weight_kg</th>\n",
       "      <th>nationality</th>\n",
       "      <th>club_name</th>\n",
       "      <th>league_name</th>\n",
       "      <th>league_rank</th>\n",
       "      <th>overall</th>\n",
       "      <th>potential</th>\n",
       "      <th>value_eur</th>\n",
       "      <th>wage_eur</th>\n",
       "      <th>player_positions</th>\n",
       "      <th>preferred_foot</th>\n",
       "      <th>international_reputation</th>\n",
       "      <th>weak_foot</th>\n",
       "      <th>skill_moves</th>\n",
       "      <th>work_rate</th>\n",
       "      <th>body_type</th>\n",
       "      <th>real_face</th>\n",
       "      <th>release_clause_eur</th>\n",
       "      <th>player_tags</th>\n",
       "      <th>team_position</th>\n",
       "      <th>team_jersey_number</th>\n",
       "      <th>loaned_from</th>\n",
       "      <th>joined</th>\n",
       "      <th>contract_valid_until</th>\n",
       "      <th>nation_position</th>\n",
       "      <th>nation_jersey_number</th>\n",
       "      <th>pace</th>\n",
       "      <th>shooting</th>\n",
       "      <th>passing</th>\n",
       "      <th>dribbling</th>\n",
       "      <th>defending</th>\n",
       "      <th>physic</th>\n",
       "      <th>gk_diving</th>\n",
       "      <th>gk_handling</th>\n",
       "      <th>gk_kicking</th>\n",
       "      <th>gk_reflexes</th>\n",
       "      <th>gk_speed</th>\n",
       "      <th>gk_positioning</th>\n",
       "      <th>player_traits</th>\n",
       "      <th>attacking_crossing</th>\n",
       "      <th>attacking_finishing</th>\n",
       "      <th>attacking_heading_accuracy</th>\n",
       "      <th>attacking_short_passing</th>\n",
       "      <th>...</th>\n",
       "      <th>movement_acceleration</th>\n",
       "      <th>movement_sprint_speed</th>\n",
       "      <th>movement_agility</th>\n",
       "      <th>movement_reactions</th>\n",
       "      <th>movement_balance</th>\n",
       "      <th>power_shot_power</th>\n",
       "      <th>power_jumping</th>\n",
       "      <th>power_stamina</th>\n",
       "      <th>power_strength</th>\n",
       "      <th>power_long_shots</th>\n",
       "      <th>mentality_aggression</th>\n",
       "      <th>mentality_interceptions</th>\n",
       "      <th>mentality_positioning</th>\n",
       "      <th>mentality_vision</th>\n",
       "      <th>mentality_penalties</th>\n",
       "      <th>mentality_composure</th>\n",
       "      <th>defending_marking</th>\n",
       "      <th>defending_standing_tackle</th>\n",
       "      <th>defending_sliding_tackle</th>\n",
       "      <th>goalkeeping_diving</th>\n",
       "      <th>goalkeeping_handling</th>\n",
       "      <th>goalkeeping_kicking</th>\n",
       "      <th>goalkeeping_positioning</th>\n",
       "      <th>goalkeeping_reflexes</th>\n",
       "      <th>ls</th>\n",
       "      <th>st</th>\n",
       "      <th>rs</th>\n",
       "      <th>lw</th>\n",
       "      <th>lf</th>\n",
       "      <th>cf</th>\n",
       "      <th>rf</th>\n",
       "      <th>rw</th>\n",
       "      <th>lam</th>\n",
       "      <th>cam</th>\n",
       "      <th>ram</th>\n",
       "      <th>lm</th>\n",
       "      <th>lcm</th>\n",
       "      <th>cm</th>\n",
       "      <th>rcm</th>\n",
       "      <th>rm</th>\n",
       "      <th>lwb</th>\n",
       "      <th>ldm</th>\n",
       "      <th>cdm</th>\n",
       "      <th>rdm</th>\n",
       "      <th>rwb</th>\n",
       "      <th>lb</th>\n",
       "      <th>lcb</th>\n",
       "      <th>cb</th>\n",
       "      <th>rcb</th>\n",
       "      <th>rb</th>\n",
       "    </tr>\n",
       "  </thead>\n",
       "  <tbody>\n",
       "    <tr>\n",
       "      <th>0</th>\n",
       "      <td>158023</td>\n",
       "      <td>https://sofifa.com/player/158023/lionel-messi/...</td>\n",
       "      <td>L. Messi</td>\n",
       "      <td>Lionel Andrés Messi Cuccittini</td>\n",
       "      <td>33</td>\n",
       "      <td>1987-06-24</td>\n",
       "      <td>170</td>\n",
       "      <td>72</td>\n",
       "      <td>Argentina</td>\n",
       "      <td>FC Barcelona</td>\n",
       "      <td>Spain Primera Division</td>\n",
       "      <td>1.0</td>\n",
       "      <td>93</td>\n",
       "      <td>93</td>\n",
       "      <td>67500000</td>\n",
       "      <td>560000</td>\n",
       "      <td>RW, ST, CF</td>\n",
       "      <td>Left</td>\n",
       "      <td>5</td>\n",
       "      <td>4</td>\n",
       "      <td>4</td>\n",
       "      <td>Medium/Low</td>\n",
       "      <td>Messi</td>\n",
       "      <td>Yes</td>\n",
       "      <td>138400000.0</td>\n",
       "      <td>#Dribbler, #Distance Shooter, #FK Specialist, ...</td>\n",
       "      <td>CAM</td>\n",
       "      <td>10.0</td>\n",
       "      <td>NaN</td>\n",
       "      <td>2004-07-01</td>\n",
       "      <td>2021.0</td>\n",
       "      <td>RW</td>\n",
       "      <td>10.0</td>\n",
       "      <td>85.0</td>\n",
       "      <td>92.0</td>\n",
       "      <td>91.0</td>\n",
       "      <td>95.0</td>\n",
       "      <td>38.0</td>\n",
       "      <td>65.0</td>\n",
       "      <td>NaN</td>\n",
       "      <td>NaN</td>\n",
       "      <td>NaN</td>\n",
       "      <td>NaN</td>\n",
       "      <td>NaN</td>\n",
       "      <td>NaN</td>\n",
       "      <td>Finesse Shot, Long Shot Taker (AI), Speed Drib...</td>\n",
       "      <td>85</td>\n",
       "      <td>95</td>\n",
       "      <td>70</td>\n",
       "      <td>91</td>\n",
       "      <td>...</td>\n",
       "      <td>91</td>\n",
       "      <td>80</td>\n",
       "      <td>91</td>\n",
       "      <td>94</td>\n",
       "      <td>95</td>\n",
       "      <td>86</td>\n",
       "      <td>68</td>\n",
       "      <td>72</td>\n",
       "      <td>69</td>\n",
       "      <td>94</td>\n",
       "      <td>44</td>\n",
       "      <td>40</td>\n",
       "      <td>93</td>\n",
       "      <td>95</td>\n",
       "      <td>75</td>\n",
       "      <td>96</td>\n",
       "      <td>NaN</td>\n",
       "      <td>35</td>\n",
       "      <td>24</td>\n",
       "      <td>6</td>\n",
       "      <td>11</td>\n",
       "      <td>15</td>\n",
       "      <td>14</td>\n",
       "      <td>8</td>\n",
       "      <td>89+3</td>\n",
       "      <td>89+3</td>\n",
       "      <td>89+3</td>\n",
       "      <td>92+0</td>\n",
       "      <td>93+0</td>\n",
       "      <td>93+0</td>\n",
       "      <td>93+0</td>\n",
       "      <td>92+0</td>\n",
       "      <td>93+0</td>\n",
       "      <td>93+0</td>\n",
       "      <td>93+0</td>\n",
       "      <td>91+2</td>\n",
       "      <td>87+3</td>\n",
       "      <td>87+3</td>\n",
       "      <td>87+3</td>\n",
       "      <td>91+2</td>\n",
       "      <td>66+3</td>\n",
       "      <td>65+3</td>\n",
       "      <td>65+3</td>\n",
       "      <td>65+3</td>\n",
       "      <td>66+3</td>\n",
       "      <td>62+3</td>\n",
       "      <td>52+3</td>\n",
       "      <td>52+3</td>\n",
       "      <td>52+3</td>\n",
       "      <td>62+3</td>\n",
       "    </tr>\n",
       "    <tr>\n",
       "      <th>1</th>\n",
       "      <td>20801</td>\n",
       "      <td>https://sofifa.com/player/20801/c-ronaldo-dos-...</td>\n",
       "      <td>Cristiano Ronaldo</td>\n",
       "      <td>Cristiano Ronaldo dos Santos Aveiro</td>\n",
       "      <td>35</td>\n",
       "      <td>1985-02-05</td>\n",
       "      <td>187</td>\n",
       "      <td>83</td>\n",
       "      <td>Portugal</td>\n",
       "      <td>Juventus</td>\n",
       "      <td>Italian Serie A</td>\n",
       "      <td>1.0</td>\n",
       "      <td>92</td>\n",
       "      <td>92</td>\n",
       "      <td>46000000</td>\n",
       "      <td>220000</td>\n",
       "      <td>ST, LW</td>\n",
       "      <td>Right</td>\n",
       "      <td>5</td>\n",
       "      <td>4</td>\n",
       "      <td>5</td>\n",
       "      <td>High/Low</td>\n",
       "      <td>C. Ronaldo</td>\n",
       "      <td>Yes</td>\n",
       "      <td>75900000.0</td>\n",
       "      <td>#Aerial Threat, #Dribbler, #Distance Shooter, ...</td>\n",
       "      <td>LS</td>\n",
       "      <td>7.0</td>\n",
       "      <td>NaN</td>\n",
       "      <td>2018-07-10</td>\n",
       "      <td>2022.0</td>\n",
       "      <td>LS</td>\n",
       "      <td>7.0</td>\n",
       "      <td>89.0</td>\n",
       "      <td>93.0</td>\n",
       "      <td>81.0</td>\n",
       "      <td>89.0</td>\n",
       "      <td>35.0</td>\n",
       "      <td>77.0</td>\n",
       "      <td>NaN</td>\n",
       "      <td>NaN</td>\n",
       "      <td>NaN</td>\n",
       "      <td>NaN</td>\n",
       "      <td>NaN</td>\n",
       "      <td>NaN</td>\n",
       "      <td>Power Free-Kick, Flair, Long Shot Taker (AI), ...</td>\n",
       "      <td>84</td>\n",
       "      <td>95</td>\n",
       "      <td>90</td>\n",
       "      <td>82</td>\n",
       "      <td>...</td>\n",
       "      <td>87</td>\n",
       "      <td>91</td>\n",
       "      <td>87</td>\n",
       "      <td>95</td>\n",
       "      <td>71</td>\n",
       "      <td>94</td>\n",
       "      <td>95</td>\n",
       "      <td>84</td>\n",
       "      <td>78</td>\n",
       "      <td>93</td>\n",
       "      <td>63</td>\n",
       "      <td>29</td>\n",
       "      <td>95</td>\n",
       "      <td>82</td>\n",
       "      <td>84</td>\n",
       "      <td>95</td>\n",
       "      <td>NaN</td>\n",
       "      <td>32</td>\n",
       "      <td>24</td>\n",
       "      <td>7</td>\n",
       "      <td>11</td>\n",
       "      <td>15</td>\n",
       "      <td>14</td>\n",
       "      <td>11</td>\n",
       "      <td>91+1</td>\n",
       "      <td>91+1</td>\n",
       "      <td>91+1</td>\n",
       "      <td>89+0</td>\n",
       "      <td>91+0</td>\n",
       "      <td>91+0</td>\n",
       "      <td>91+0</td>\n",
       "      <td>89+0</td>\n",
       "      <td>88+3</td>\n",
       "      <td>88+3</td>\n",
       "      <td>88+3</td>\n",
       "      <td>88+3</td>\n",
       "      <td>81+3</td>\n",
       "      <td>81+3</td>\n",
       "      <td>81+3</td>\n",
       "      <td>88+3</td>\n",
       "      <td>65+3</td>\n",
       "      <td>61+3</td>\n",
       "      <td>61+3</td>\n",
       "      <td>61+3</td>\n",
       "      <td>65+3</td>\n",
       "      <td>61+3</td>\n",
       "      <td>54+3</td>\n",
       "      <td>54+3</td>\n",
       "      <td>54+3</td>\n",
       "      <td>61+3</td>\n",
       "    </tr>\n",
       "    <tr>\n",
       "      <th>2</th>\n",
       "      <td>200389</td>\n",
       "      <td>https://sofifa.com/player/200389/jan-oblak/210002</td>\n",
       "      <td>J. Oblak</td>\n",
       "      <td>Jan Oblak</td>\n",
       "      <td>27</td>\n",
       "      <td>1993-01-07</td>\n",
       "      <td>188</td>\n",
       "      <td>87</td>\n",
       "      <td>Slovenia</td>\n",
       "      <td>Atlético Madrid</td>\n",
       "      <td>Spain Primera Division</td>\n",
       "      <td>1.0</td>\n",
       "      <td>91</td>\n",
       "      <td>93</td>\n",
       "      <td>75000000</td>\n",
       "      <td>125000</td>\n",
       "      <td>GK</td>\n",
       "      <td>Right</td>\n",
       "      <td>3</td>\n",
       "      <td>3</td>\n",
       "      <td>1</td>\n",
       "      <td>Medium/Medium</td>\n",
       "      <td>PLAYER_BODY_TYPE_259</td>\n",
       "      <td>Yes</td>\n",
       "      <td>159400000.0</td>\n",
       "      <td>NaN</td>\n",
       "      <td>GK</td>\n",
       "      <td>13.0</td>\n",
       "      <td>NaN</td>\n",
       "      <td>2014-07-16</td>\n",
       "      <td>2023.0</td>\n",
       "      <td>GK</td>\n",
       "      <td>1.0</td>\n",
       "      <td>NaN</td>\n",
       "      <td>NaN</td>\n",
       "      <td>NaN</td>\n",
       "      <td>NaN</td>\n",
       "      <td>NaN</td>\n",
       "      <td>NaN</td>\n",
       "      <td>87.0</td>\n",
       "      <td>92.0</td>\n",
       "      <td>78.0</td>\n",
       "      <td>90.0</td>\n",
       "      <td>52.0</td>\n",
       "      <td>90.0</td>\n",
       "      <td>GK Long Throw, Comes For Crosses</td>\n",
       "      <td>13</td>\n",
       "      <td>11</td>\n",
       "      <td>15</td>\n",
       "      <td>43</td>\n",
       "      <td>...</td>\n",
       "      <td>43</td>\n",
       "      <td>60</td>\n",
       "      <td>67</td>\n",
       "      <td>88</td>\n",
       "      <td>49</td>\n",
       "      <td>59</td>\n",
       "      <td>78</td>\n",
       "      <td>41</td>\n",
       "      <td>78</td>\n",
       "      <td>12</td>\n",
       "      <td>34</td>\n",
       "      <td>19</td>\n",
       "      <td>11</td>\n",
       "      <td>65</td>\n",
       "      <td>11</td>\n",
       "      <td>68</td>\n",
       "      <td>NaN</td>\n",
       "      <td>12</td>\n",
       "      <td>18</td>\n",
       "      <td>87</td>\n",
       "      <td>92</td>\n",
       "      <td>78</td>\n",
       "      <td>90</td>\n",
       "      <td>90</td>\n",
       "      <td>33+3</td>\n",
       "      <td>33+3</td>\n",
       "      <td>33+3</td>\n",
       "      <td>32+0</td>\n",
       "      <td>35+0</td>\n",
       "      <td>35+0</td>\n",
       "      <td>35+0</td>\n",
       "      <td>32+0</td>\n",
       "      <td>38+3</td>\n",
       "      <td>38+3</td>\n",
       "      <td>38+3</td>\n",
       "      <td>35+3</td>\n",
       "      <td>38+3</td>\n",
       "      <td>38+3</td>\n",
       "      <td>38+3</td>\n",
       "      <td>35+3</td>\n",
       "      <td>32+3</td>\n",
       "      <td>36+3</td>\n",
       "      <td>36+3</td>\n",
       "      <td>36+3</td>\n",
       "      <td>32+3</td>\n",
       "      <td>32+3</td>\n",
       "      <td>33+3</td>\n",
       "      <td>33+3</td>\n",
       "      <td>33+3</td>\n",
       "      <td>32+3</td>\n",
       "    </tr>\n",
       "    <tr>\n",
       "      <th>3</th>\n",
       "      <td>188545</td>\n",
       "      <td>https://sofifa.com/player/188545/robert-lewand...</td>\n",
       "      <td>R. Lewandowski</td>\n",
       "      <td>Robert Lewandowski</td>\n",
       "      <td>31</td>\n",
       "      <td>1988-08-21</td>\n",
       "      <td>184</td>\n",
       "      <td>80</td>\n",
       "      <td>Poland</td>\n",
       "      <td>FC Bayern München</td>\n",
       "      <td>German 1. Bundesliga</td>\n",
       "      <td>1.0</td>\n",
       "      <td>91</td>\n",
       "      <td>91</td>\n",
       "      <td>80000000</td>\n",
       "      <td>240000</td>\n",
       "      <td>ST</td>\n",
       "      <td>Right</td>\n",
       "      <td>4</td>\n",
       "      <td>4</td>\n",
       "      <td>4</td>\n",
       "      <td>High/Medium</td>\n",
       "      <td>PLAYER_BODY_TYPE_276</td>\n",
       "      <td>Yes</td>\n",
       "      <td>132000000.0</td>\n",
       "      <td>#Distance Shooter, #Clinical Finisher</td>\n",
       "      <td>ST</td>\n",
       "      <td>9.0</td>\n",
       "      <td>NaN</td>\n",
       "      <td>2014-07-01</td>\n",
       "      <td>2023.0</td>\n",
       "      <td>NaN</td>\n",
       "      <td>NaN</td>\n",
       "      <td>78.0</td>\n",
       "      <td>91.0</td>\n",
       "      <td>78.0</td>\n",
       "      <td>85.0</td>\n",
       "      <td>43.0</td>\n",
       "      <td>82.0</td>\n",
       "      <td>NaN</td>\n",
       "      <td>NaN</td>\n",
       "      <td>NaN</td>\n",
       "      <td>NaN</td>\n",
       "      <td>NaN</td>\n",
       "      <td>NaN</td>\n",
       "      <td>Solid Player, Finesse Shot, Outside Foot Shot,...</td>\n",
       "      <td>71</td>\n",
       "      <td>94</td>\n",
       "      <td>85</td>\n",
       "      <td>84</td>\n",
       "      <td>...</td>\n",
       "      <td>77</td>\n",
       "      <td>78</td>\n",
       "      <td>77</td>\n",
       "      <td>93</td>\n",
       "      <td>82</td>\n",
       "      <td>89</td>\n",
       "      <td>84</td>\n",
       "      <td>76</td>\n",
       "      <td>86</td>\n",
       "      <td>85</td>\n",
       "      <td>81</td>\n",
       "      <td>49</td>\n",
       "      <td>94</td>\n",
       "      <td>79</td>\n",
       "      <td>88</td>\n",
       "      <td>88</td>\n",
       "      <td>NaN</td>\n",
       "      <td>42</td>\n",
       "      <td>19</td>\n",
       "      <td>15</td>\n",
       "      <td>6</td>\n",
       "      <td>12</td>\n",
       "      <td>8</td>\n",
       "      <td>10</td>\n",
       "      <td>89+2</td>\n",
       "      <td>89+2</td>\n",
       "      <td>89+2</td>\n",
       "      <td>85+0</td>\n",
       "      <td>87+0</td>\n",
       "      <td>87+0</td>\n",
       "      <td>87+0</td>\n",
       "      <td>85+0</td>\n",
       "      <td>85+3</td>\n",
       "      <td>85+3</td>\n",
       "      <td>85+3</td>\n",
       "      <td>83+3</td>\n",
       "      <td>79+3</td>\n",
       "      <td>79+3</td>\n",
       "      <td>79+3</td>\n",
       "      <td>83+3</td>\n",
       "      <td>64+3</td>\n",
       "      <td>65+3</td>\n",
       "      <td>65+3</td>\n",
       "      <td>65+3</td>\n",
       "      <td>64+3</td>\n",
       "      <td>61+3</td>\n",
       "      <td>60+3</td>\n",
       "      <td>60+3</td>\n",
       "      <td>60+3</td>\n",
       "      <td>61+3</td>\n",
       "    </tr>\n",
       "  </tbody>\n",
       "</table>\n",
       "<p>4 rows × 106 columns</p>\n",
       "</div>"
      ],
      "text/plain": [
       "   sofifa_id                                         player_url  \\\n",
       "0     158023  https://sofifa.com/player/158023/lionel-messi/...   \n",
       "1      20801  https://sofifa.com/player/20801/c-ronaldo-dos-...   \n",
       "2     200389  https://sofifa.com/player/200389/jan-oblak/210002   \n",
       "3     188545  https://sofifa.com/player/188545/robert-lewand...   \n",
       "\n",
       "          short_name                            long_name  age         dob  \\\n",
       "0           L. Messi       Lionel Andrés Messi Cuccittini   33  1987-06-24   \n",
       "1  Cristiano Ronaldo  Cristiano Ronaldo dos Santos Aveiro   35  1985-02-05   \n",
       "2           J. Oblak                            Jan Oblak   27  1993-01-07   \n",
       "3     R. Lewandowski                   Robert Lewandowski   31  1988-08-21   \n",
       "\n",
       "   height_cm  weight_kg nationality          club_name  \\\n",
       "0        170         72   Argentina       FC Barcelona   \n",
       "1        187         83    Portugal           Juventus   \n",
       "2        188         87    Slovenia    Atlético Madrid   \n",
       "3        184         80      Poland  FC Bayern München   \n",
       "\n",
       "              league_name  league_rank  overall  potential  value_eur  \\\n",
       "0  Spain Primera Division          1.0       93         93   67500000   \n",
       "1         Italian Serie A          1.0       92         92   46000000   \n",
       "2  Spain Primera Division          1.0       91         93   75000000   \n",
       "3    German 1. Bundesliga          1.0       91         91   80000000   \n",
       "\n",
       "   wage_eur player_positions preferred_foot  international_reputation  \\\n",
       "0    560000       RW, ST, CF           Left                         5   \n",
       "1    220000           ST, LW          Right                         5   \n",
       "2    125000               GK          Right                         3   \n",
       "3    240000               ST          Right                         4   \n",
       "\n",
       "   weak_foot  skill_moves      work_rate             body_type real_face  \\\n",
       "0          4            4     Medium/Low                 Messi       Yes   \n",
       "1          4            5       High/Low            C. Ronaldo       Yes   \n",
       "2          3            1  Medium/Medium  PLAYER_BODY_TYPE_259       Yes   \n",
       "3          4            4    High/Medium  PLAYER_BODY_TYPE_276       Yes   \n",
       "\n",
       "   release_clause_eur                                        player_tags  \\\n",
       "0         138400000.0  #Dribbler, #Distance Shooter, #FK Specialist, ...   \n",
       "1          75900000.0  #Aerial Threat, #Dribbler, #Distance Shooter, ...   \n",
       "2         159400000.0                                                NaN   \n",
       "3         132000000.0              #Distance Shooter, #Clinical Finisher   \n",
       "\n",
       "  team_position  team_jersey_number loaned_from      joined  \\\n",
       "0           CAM                10.0         NaN  2004-07-01   \n",
       "1            LS                 7.0         NaN  2018-07-10   \n",
       "2            GK                13.0         NaN  2014-07-16   \n",
       "3            ST                 9.0         NaN  2014-07-01   \n",
       "\n",
       "   contract_valid_until nation_position  nation_jersey_number  pace  shooting  \\\n",
       "0                2021.0              RW                  10.0  85.0      92.0   \n",
       "1                2022.0              LS                   7.0  89.0      93.0   \n",
       "2                2023.0              GK                   1.0   NaN       NaN   \n",
       "3                2023.0             NaN                   NaN  78.0      91.0   \n",
       "\n",
       "   passing  dribbling  defending  physic  gk_diving  gk_handling  gk_kicking  \\\n",
       "0     91.0       95.0       38.0    65.0        NaN          NaN         NaN   \n",
       "1     81.0       89.0       35.0    77.0        NaN          NaN         NaN   \n",
       "2      NaN        NaN        NaN     NaN       87.0         92.0        78.0   \n",
       "3     78.0       85.0       43.0    82.0        NaN          NaN         NaN   \n",
       "\n",
       "   gk_reflexes  gk_speed  gk_positioning  \\\n",
       "0          NaN       NaN             NaN   \n",
       "1          NaN       NaN             NaN   \n",
       "2         90.0      52.0            90.0   \n",
       "3          NaN       NaN             NaN   \n",
       "\n",
       "                                       player_traits  attacking_crossing  \\\n",
       "0  Finesse Shot, Long Shot Taker (AI), Speed Drib...                  85   \n",
       "1  Power Free-Kick, Flair, Long Shot Taker (AI), ...                  84   \n",
       "2                   GK Long Throw, Comes For Crosses                  13   \n",
       "3  Solid Player, Finesse Shot, Outside Foot Shot,...                  71   \n",
       "\n",
       "   attacking_finishing  attacking_heading_accuracy  attacking_short_passing  \\\n",
       "0                   95                          70                       91   \n",
       "1                   95                          90                       82   \n",
       "2                   11                          15                       43   \n",
       "3                   94                          85                       84   \n",
       "\n",
       "   ...  movement_acceleration  movement_sprint_speed  movement_agility  \\\n",
       "0  ...                     91                     80                91   \n",
       "1  ...                     87                     91                87   \n",
       "2  ...                     43                     60                67   \n",
       "3  ...                     77                     78                77   \n",
       "\n",
       "   movement_reactions  movement_balance  power_shot_power  power_jumping  \\\n",
       "0                  94                95                86             68   \n",
       "1                  95                71                94             95   \n",
       "2                  88                49                59             78   \n",
       "3                  93                82                89             84   \n",
       "\n",
       "   power_stamina  power_strength  power_long_shots  mentality_aggression  \\\n",
       "0             72              69                94                    44   \n",
       "1             84              78                93                    63   \n",
       "2             41              78                12                    34   \n",
       "3             76              86                85                    81   \n",
       "\n",
       "   mentality_interceptions  mentality_positioning  mentality_vision  \\\n",
       "0                       40                     93                95   \n",
       "1                       29                     95                82   \n",
       "2                       19                     11                65   \n",
       "3                       49                     94                79   \n",
       "\n",
       "   mentality_penalties  mentality_composure  defending_marking  \\\n",
       "0                   75                   96                NaN   \n",
       "1                   84                   95                NaN   \n",
       "2                   11                   68                NaN   \n",
       "3                   88                   88                NaN   \n",
       "\n",
       "   defending_standing_tackle  defending_sliding_tackle  goalkeeping_diving  \\\n",
       "0                         35                        24                   6   \n",
       "1                         32                        24                   7   \n",
       "2                         12                        18                  87   \n",
       "3                         42                        19                  15   \n",
       "\n",
       "   goalkeeping_handling  goalkeeping_kicking  goalkeeping_positioning  \\\n",
       "0                    11                   15                       14   \n",
       "1                    11                   15                       14   \n",
       "2                    92                   78                       90   \n",
       "3                     6                   12                        8   \n",
       "\n",
       "   goalkeeping_reflexes    ls    st    rs    lw    lf    cf    rf    rw   lam  \\\n",
       "0                     8  89+3  89+3  89+3  92+0  93+0  93+0  93+0  92+0  93+0   \n",
       "1                    11  91+1  91+1  91+1  89+0  91+0  91+0  91+0  89+0  88+3   \n",
       "2                    90  33+3  33+3  33+3  32+0  35+0  35+0  35+0  32+0  38+3   \n",
       "3                    10  89+2  89+2  89+2  85+0  87+0  87+0  87+0  85+0  85+3   \n",
       "\n",
       "    cam   ram    lm   lcm    cm   rcm    rm   lwb   ldm   cdm   rdm   rwb  \\\n",
       "0  93+0  93+0  91+2  87+3  87+3  87+3  91+2  66+3  65+3  65+3  65+3  66+3   \n",
       "1  88+3  88+3  88+3  81+3  81+3  81+3  88+3  65+3  61+3  61+3  61+3  65+3   \n",
       "2  38+3  38+3  35+3  38+3  38+3  38+3  35+3  32+3  36+3  36+3  36+3  32+3   \n",
       "3  85+3  85+3  83+3  79+3  79+3  79+3  83+3  64+3  65+3  65+3  65+3  64+3   \n",
       "\n",
       "     lb   lcb    cb   rcb    rb  \n",
       "0  62+3  52+3  52+3  52+3  62+3  \n",
       "1  61+3  54+3  54+3  54+3  61+3  \n",
       "2  32+3  33+3  33+3  33+3  32+3  \n",
       "3  61+3  60+3  60+3  60+3  61+3  \n",
       "\n",
       "[4 rows x 106 columns]"
      ]
     },
     "execution_count": 5,
     "metadata": {},
     "output_type": "execute_result"
    }
   ],
   "source": [
    "df=pd.read_csv(\"../Datos/players_21.csv\")\n",
    "df.head(4)"
   ]
  },
  {
   "cell_type": "markdown",
   "metadata": {
    "id": "LyWdpwj7T4Z2"
   },
   "source": [
    "# 3.-Visualizacion-con-embeddings:tSNE"
   ]
  },
  {
   "cell_type": "markdown",
   "metadata": {
    "id": "rzhY4f53T4aM"
   },
   "source": [
    "**t-SNE : t-distributed Stochastic Neighbor Embedding.**\n",
    "\n",
    "t-SNE es una herramienta para visualizar datos altamente dimensionales. \n",
    "\n",
    "Los \"proyecta\" en menos dimensiones (2D o 3D) manteniendo la distancia entre ellos.\n",
    "\n",
    "Consideramos: filas/observaciones $x_i$ y $x_j$ (jugador i y jugador j) en $R^n$.\n",
    "\n",
    "Comienza convirtiendo distancias entre puntos (observaciones) en probabilidades condicionales. \n",
    "\n",
    "$d(x_i,x_j) \\rightarrow p(x_j|x_i)$, \n",
    "\n",
    "Y luego va acomodando puntos asociados (en el plano 2D o el espacio 2D) que \"ajusten\" las probabilidades condicionales.\n",
    "\n",
    "$x'_i$ y $x'_j$ en $R^2$  (para el jugador i y jugador j ) $p(x'_j|x'_i) \\leftrightarrow d(x'_i,x'_j)$, \n",
    "\n",
    "$p(x_j|x_i) \\approx p(x'_j|x'_i)$\n",
    "\n",
    "El ajuste consiste en minimizar la divergencia Kullback-Leibler entre las probabilidades condicionales establecidas en el espacio de mayor dimension y las determinadas en el espacio de menor dimension. \n",
    "\n",
    "\n",
    "El modelo de distribución de probabilidad es el de t-Student \n",
    "\n",
    "t-SNE tiene una función de costo que no es convexa, por lo cual diferentes inicializaciones pueden dar diferentes resultados.\n"
   ]
  },
  {
   "cell_type": "code",
   "execution_count": 6,
   "metadata": {
    "colab": {
     "base_uri": "https://localhost:8080/"
    },
    "executionInfo": {
     "elapsed": 304,
     "status": "ok",
     "timestamp": 1631019628071,
     "user": {
      "displayName": "Valeria S RULLONI",
      "photoUrl": "",
      "userId": "09936144167370803067"
     },
     "user_tz": 180
    },
    "id": "SIjEt1QmT4ap",
    "outputId": "9e2172bb-5c29-4d3f-e9df-89d2dce475b1"
   },
   "outputs": [
    {
     "name": "stdout",
     "output_type": "stream",
     "text": [
      "dimensión del espacio de los datos:  33\n"
     ]
    }
   ],
   "source": [
    "n_sne=2000 #elegir numero pequeño para agilidad en el cálculo luego\n",
    "df_sne=df.loc[:n_sne]\n",
    "skills_ratings = ['attacking_crossing', 'attacking_finishing', 'attacking_heading_accuracy', 'attacking_short_passing',\n",
    "                  'attacking_volleys', 'skill_dribbling', 'skill_curve', 'skill_fk_accuracy', 'skill_long_passing',\n",
    "                  'skill_ball_control', 'movement_acceleration', 'movement_sprint_speed', 'movement_agility', 'movement_reactions',\n",
    "                  'movement_balance', 'power_shot_power', 'power_jumping', 'power_stamina', 'power_strength', 'power_long_shots',\n",
    "                  'mentality_aggression', 'mentality_interceptions', 'mentality_positioning', 'mentality_vision', 'mentality_penalties', \n",
    "                  'mentality_composure', 'defending_standing_tackle', 'defending_sliding_tackle',\n",
    "                  'goalkeeping_diving', 'goalkeeping_handling', 'goalkeeping_kicking', 'goalkeeping_positioning', 'goalkeeping_reflexes']\n",
    "X=df_sne[skills_ratings]\n",
    "print('dimensión del espacio de los datos: ', len(skills_ratings))"
   ]
  },
  {
   "cell_type": "code",
   "execution_count": 7,
   "metadata": {
    "colab": {
     "base_uri": "https://localhost:8080/",
     "height": 223
    },
    "executionInfo": {
     "elapsed": 295,
     "status": "ok",
     "timestamp": 1631019632653,
     "user": {
      "displayName": "Valeria S RULLONI",
      "photoUrl": "",
      "userId": "09936144167370803067"
     },
     "user_tz": 180
    },
    "id": "v0xtrrYHT4a1",
    "outputId": "b1a3446e-b638-48c6-c75d-5fbd441cc494"
   },
   "outputs": [
    {
     "data": {
      "text/html": [
       "<div>\n",
       "<style scoped>\n",
       "    .dataframe tbody tr th:only-of-type {\n",
       "        vertical-align: middle;\n",
       "    }\n",
       "\n",
       "    .dataframe tbody tr th {\n",
       "        vertical-align: top;\n",
       "    }\n",
       "\n",
       "    .dataframe thead th {\n",
       "        text-align: right;\n",
       "    }\n",
       "</style>\n",
       "<table border=\"1\" class=\"dataframe\">\n",
       "  <thead>\n",
       "    <tr style=\"text-align: right;\">\n",
       "      <th></th>\n",
       "      <th>attacking_crossing</th>\n",
       "      <th>attacking_finishing</th>\n",
       "      <th>attacking_heading_accuracy</th>\n",
       "      <th>attacking_short_passing</th>\n",
       "      <th>attacking_volleys</th>\n",
       "      <th>skill_dribbling</th>\n",
       "      <th>skill_curve</th>\n",
       "      <th>skill_fk_accuracy</th>\n",
       "      <th>skill_long_passing</th>\n",
       "      <th>skill_ball_control</th>\n",
       "      <th>movement_acceleration</th>\n",
       "      <th>movement_sprint_speed</th>\n",
       "      <th>movement_agility</th>\n",
       "      <th>movement_reactions</th>\n",
       "      <th>movement_balance</th>\n",
       "      <th>power_shot_power</th>\n",
       "      <th>power_jumping</th>\n",
       "      <th>power_stamina</th>\n",
       "      <th>power_strength</th>\n",
       "      <th>power_long_shots</th>\n",
       "      <th>mentality_aggression</th>\n",
       "      <th>mentality_interceptions</th>\n",
       "      <th>mentality_positioning</th>\n",
       "      <th>mentality_vision</th>\n",
       "      <th>mentality_penalties</th>\n",
       "      <th>mentality_composure</th>\n",
       "      <th>defending_standing_tackle</th>\n",
       "      <th>defending_sliding_tackle</th>\n",
       "      <th>goalkeeping_diving</th>\n",
       "      <th>goalkeeping_handling</th>\n",
       "      <th>goalkeeping_kicking</th>\n",
       "      <th>goalkeeping_positioning</th>\n",
       "      <th>goalkeeping_reflexes</th>\n",
       "    </tr>\n",
       "  </thead>\n",
       "  <tbody>\n",
       "    <tr>\n",
       "      <th>0</th>\n",
       "      <td>85</td>\n",
       "      <td>95</td>\n",
       "      <td>70</td>\n",
       "      <td>91</td>\n",
       "      <td>88</td>\n",
       "      <td>96</td>\n",
       "      <td>93</td>\n",
       "      <td>94</td>\n",
       "      <td>91</td>\n",
       "      <td>96</td>\n",
       "      <td>91</td>\n",
       "      <td>80</td>\n",
       "      <td>91</td>\n",
       "      <td>94</td>\n",
       "      <td>95</td>\n",
       "      <td>86</td>\n",
       "      <td>68</td>\n",
       "      <td>72</td>\n",
       "      <td>69</td>\n",
       "      <td>94</td>\n",
       "      <td>44</td>\n",
       "      <td>40</td>\n",
       "      <td>93</td>\n",
       "      <td>95</td>\n",
       "      <td>75</td>\n",
       "      <td>96</td>\n",
       "      <td>35</td>\n",
       "      <td>24</td>\n",
       "      <td>6</td>\n",
       "      <td>11</td>\n",
       "      <td>15</td>\n",
       "      <td>14</td>\n",
       "      <td>8</td>\n",
       "    </tr>\n",
       "    <tr>\n",
       "      <th>1</th>\n",
       "      <td>84</td>\n",
       "      <td>95</td>\n",
       "      <td>90</td>\n",
       "      <td>82</td>\n",
       "      <td>86</td>\n",
       "      <td>88</td>\n",
       "      <td>81</td>\n",
       "      <td>76</td>\n",
       "      <td>77</td>\n",
       "      <td>92</td>\n",
       "      <td>87</td>\n",
       "      <td>91</td>\n",
       "      <td>87</td>\n",
       "      <td>95</td>\n",
       "      <td>71</td>\n",
       "      <td>94</td>\n",
       "      <td>95</td>\n",
       "      <td>84</td>\n",
       "      <td>78</td>\n",
       "      <td>93</td>\n",
       "      <td>63</td>\n",
       "      <td>29</td>\n",
       "      <td>95</td>\n",
       "      <td>82</td>\n",
       "      <td>84</td>\n",
       "      <td>95</td>\n",
       "      <td>32</td>\n",
       "      <td>24</td>\n",
       "      <td>7</td>\n",
       "      <td>11</td>\n",
       "      <td>15</td>\n",
       "      <td>14</td>\n",
       "      <td>11</td>\n",
       "    </tr>\n",
       "    <tr>\n",
       "      <th>2</th>\n",
       "      <td>13</td>\n",
       "      <td>11</td>\n",
       "      <td>15</td>\n",
       "      <td>43</td>\n",
       "      <td>13</td>\n",
       "      <td>12</td>\n",
       "      <td>13</td>\n",
       "      <td>14</td>\n",
       "      <td>40</td>\n",
       "      <td>30</td>\n",
       "      <td>43</td>\n",
       "      <td>60</td>\n",
       "      <td>67</td>\n",
       "      <td>88</td>\n",
       "      <td>49</td>\n",
       "      <td>59</td>\n",
       "      <td>78</td>\n",
       "      <td>41</td>\n",
       "      <td>78</td>\n",
       "      <td>12</td>\n",
       "      <td>34</td>\n",
       "      <td>19</td>\n",
       "      <td>11</td>\n",
       "      <td>65</td>\n",
       "      <td>11</td>\n",
       "      <td>68</td>\n",
       "      <td>12</td>\n",
       "      <td>18</td>\n",
       "      <td>87</td>\n",
       "      <td>92</td>\n",
       "      <td>78</td>\n",
       "      <td>90</td>\n",
       "      <td>90</td>\n",
       "    </tr>\n",
       "    <tr>\n",
       "      <th>3</th>\n",
       "      <td>71</td>\n",
       "      <td>94</td>\n",
       "      <td>85</td>\n",
       "      <td>84</td>\n",
       "      <td>89</td>\n",
       "      <td>85</td>\n",
       "      <td>79</td>\n",
       "      <td>85</td>\n",
       "      <td>70</td>\n",
       "      <td>88</td>\n",
       "      <td>77</td>\n",
       "      <td>78</td>\n",
       "      <td>77</td>\n",
       "      <td>93</td>\n",
       "      <td>82</td>\n",
       "      <td>89</td>\n",
       "      <td>84</td>\n",
       "      <td>76</td>\n",
       "      <td>86</td>\n",
       "      <td>85</td>\n",
       "      <td>81</td>\n",
       "      <td>49</td>\n",
       "      <td>94</td>\n",
       "      <td>79</td>\n",
       "      <td>88</td>\n",
       "      <td>88</td>\n",
       "      <td>42</td>\n",
       "      <td>19</td>\n",
       "      <td>15</td>\n",
       "      <td>6</td>\n",
       "      <td>12</td>\n",
       "      <td>8</td>\n",
       "      <td>10</td>\n",
       "    </tr>\n",
       "    <tr>\n",
       "      <th>4</th>\n",
       "      <td>85</td>\n",
       "      <td>87</td>\n",
       "      <td>62</td>\n",
       "      <td>87</td>\n",
       "      <td>87</td>\n",
       "      <td>95</td>\n",
       "      <td>88</td>\n",
       "      <td>89</td>\n",
       "      <td>81</td>\n",
       "      <td>95</td>\n",
       "      <td>94</td>\n",
       "      <td>89</td>\n",
       "      <td>96</td>\n",
       "      <td>91</td>\n",
       "      <td>83</td>\n",
       "      <td>80</td>\n",
       "      <td>62</td>\n",
       "      <td>81</td>\n",
       "      <td>50</td>\n",
       "      <td>84</td>\n",
       "      <td>51</td>\n",
       "      <td>36</td>\n",
       "      <td>87</td>\n",
       "      <td>90</td>\n",
       "      <td>92</td>\n",
       "      <td>93</td>\n",
       "      <td>30</td>\n",
       "      <td>29</td>\n",
       "      <td>9</td>\n",
       "      <td>9</td>\n",
       "      <td>15</td>\n",
       "      <td>15</td>\n",
       "      <td>11</td>\n",
       "    </tr>\n",
       "  </tbody>\n",
       "</table>\n",
       "</div>"
      ],
      "text/plain": [
       "   attacking_crossing  attacking_finishing  attacking_heading_accuracy  \\\n",
       "0                  85                   95                          70   \n",
       "1                  84                   95                          90   \n",
       "2                  13                   11                          15   \n",
       "3                  71                   94                          85   \n",
       "4                  85                   87                          62   \n",
       "\n",
       "   attacking_short_passing  attacking_volleys  skill_dribbling  skill_curve  \\\n",
       "0                       91                 88               96           93   \n",
       "1                       82                 86               88           81   \n",
       "2                       43                 13               12           13   \n",
       "3                       84                 89               85           79   \n",
       "4                       87                 87               95           88   \n",
       "\n",
       "   skill_fk_accuracy  skill_long_passing  skill_ball_control  \\\n",
       "0                 94                  91                  96   \n",
       "1                 76                  77                  92   \n",
       "2                 14                  40                  30   \n",
       "3                 85                  70                  88   \n",
       "4                 89                  81                  95   \n",
       "\n",
       "   movement_acceleration  movement_sprint_speed  movement_agility  \\\n",
       "0                     91                     80                91   \n",
       "1                     87                     91                87   \n",
       "2                     43                     60                67   \n",
       "3                     77                     78                77   \n",
       "4                     94                     89                96   \n",
       "\n",
       "   movement_reactions  movement_balance  power_shot_power  power_jumping  \\\n",
       "0                  94                95                86             68   \n",
       "1                  95                71                94             95   \n",
       "2                  88                49                59             78   \n",
       "3                  93                82                89             84   \n",
       "4                  91                83                80             62   \n",
       "\n",
       "   power_stamina  power_strength  power_long_shots  mentality_aggression  \\\n",
       "0             72              69                94                    44   \n",
       "1             84              78                93                    63   \n",
       "2             41              78                12                    34   \n",
       "3             76              86                85                    81   \n",
       "4             81              50                84                    51   \n",
       "\n",
       "   mentality_interceptions  mentality_positioning  mentality_vision  \\\n",
       "0                       40                     93                95   \n",
       "1                       29                     95                82   \n",
       "2                       19                     11                65   \n",
       "3                       49                     94                79   \n",
       "4                       36                     87                90   \n",
       "\n",
       "   mentality_penalties  mentality_composure  defending_standing_tackle  \\\n",
       "0                   75                   96                         35   \n",
       "1                   84                   95                         32   \n",
       "2                   11                   68                         12   \n",
       "3                   88                   88                         42   \n",
       "4                   92                   93                         30   \n",
       "\n",
       "   defending_sliding_tackle  goalkeeping_diving  goalkeeping_handling  \\\n",
       "0                        24                   6                    11   \n",
       "1                        24                   7                    11   \n",
       "2                        18                  87                    92   \n",
       "3                        19                  15                     6   \n",
       "4                        29                   9                     9   \n",
       "\n",
       "   goalkeeping_kicking  goalkeeping_positioning  goalkeeping_reflexes  \n",
       "0                   15                       14                     8  \n",
       "1                   15                       14                    11  \n",
       "2                   78                       90                    90  \n",
       "3                   12                        8                    10  \n",
       "4                   15                       15                    11  "
      ]
     },
     "execution_count": 7,
     "metadata": {},
     "output_type": "execute_result"
    }
   ],
   "source": [
    "X.head(5)"
   ]
  },
  {
   "cell_type": "markdown",
   "metadata": {
    "id": "wXL_hYE6T4a8"
   },
   "source": [
    "Transformamos el espacio de dim 33 en un espacio de dimensión 2 (n_components=2)"
   ]
  },
  {
   "cell_type": "code",
   "execution_count": 8,
   "metadata": {
    "colab": {
     "base_uri": "https://localhost:8080/"
    },
    "executionInfo": {
     "elapsed": 17188,
     "status": "ok",
     "timestamp": 1631019768879,
     "user": {
      "displayName": "Valeria S RULLONI",
      "photoUrl": "",
      "userId": "09936144167370803067"
     },
     "user_tz": 180
    },
    "id": "I2q_SF8iT4bB",
    "outputId": "c4a1171c-24ce-4488-a070-5b75e942a22f"
   },
   "outputs": [
    {
     "name": "stdout",
     "output_type": "stream",
     "text": [
      "[t-SNE] Computing 91 nearest neighbors...\n",
      "[t-SNE] Indexed 2001 samples in 0.032s...\n",
      "[t-SNE] Computed neighbors for 2001 samples in 0.327s...\n",
      "[t-SNE] Computed conditional probabilities for sample 1000 / 2001\n",
      "[t-SNE] Computed conditional probabilities for sample 2000 / 2001\n",
      "[t-SNE] Computed conditional probabilities for sample 2001 / 2001\n",
      "[t-SNE] Mean sigma: 14.038059\n",
      "[t-SNE] KL divergence after 250 iterations with early exaggeration: 66.966614\n",
      "[t-SNE] KL divergence after 1000 iterations: 1.311554\n",
      "t-SNE done! Time elapsed: 13.520722389221191 seconds\n"
     ]
    }
   ],
   "source": [
    "time_start = time.time()\n",
    "\n",
    "tsne = manifold.TSNE(n_components=2, verbose=1,perplexity=30, n_iter=1000)\n",
    "X_tsne = tsne.fit_transform(X)\n",
    "\n",
    "print ('t-SNE done! Time elapsed: {} seconds'.format(time.time()-time_start))"
   ]
  },
  {
   "cell_type": "markdown",
   "metadata": {
    "id": "Q27GJz7OT4bJ"
   },
   "source": [
    "**El resultado (X_tsne) se guarda en una arreglo numpy**\n",
    "\n",
    "de tamaño:\n",
    "\n",
    "cantidad de filas = cantidad de jugadores considerados = n_tsne y\n",
    "\n",
    "cantidad de columnas= n_components = 2 "
   ]
  },
  {
   "cell_type": "code",
   "execution_count": 9,
   "metadata": {
    "colab": {
     "base_uri": "https://localhost:8080/"
    },
    "executionInfo": {
     "elapsed": 291,
     "status": "ok",
     "timestamp": 1631020251256,
     "user": {
      "displayName": "Valeria S RULLONI",
      "photoUrl": "",
      "userId": "09936144167370803067"
     },
     "user_tz": 180
    },
    "id": "-y_Rc3jWT4bL",
    "outputId": "7ea738b0-3c4b-4efd-bd30-dc30cf9794f5"
   },
   "outputs": [
    {
     "data": {
      "text/plain": [
       "array([[ -9.457305 ,  29.039478 ],\n",
       "       [-36.695103 ,  23.681942 ],\n",
       "       [ 60.396324 ,   3.1470506],\n",
       "       [ -4.0313706, -25.11966  ],\n",
       "       [-11.460879 , -23.784428 ],\n",
       "       [-15.651809 ,  42.496735 ],\n",
       "       [ -7.348984 ,  27.536911 ],\n",
       "       [ -8.741428 ,  45.067616 ],\n",
       "       [-12.475642 , -20.94536  ],\n",
       "       [ 59.334602 ,  15.335798 ]], dtype=float32)"
      ]
     },
     "execution_count": 9,
     "metadata": {},
     "output_type": "execute_result"
    }
   ],
   "source": [
    "X_tsne[1990:2000] #diez jugadores"
   ]
  },
  {
   "cell_type": "markdown",
   "metadata": {
    "id": "89s2SJ76T4bO"
   },
   "source": [
    "**GRAFICAMOS: Scatter plot** \n",
    "\n",
    "Las variables que usamos para el scatterplot son las 2 componentes dadas por tSNE\n",
    "\n",
    "agregamos los nombres de los ckack (\"Overall\" más de 85) y vemos una tercera variable recorriendo los puntos sobre el gráfico"
   ]
  },
  {
   "cell_type": "code",
   "execution_count": 10,
   "metadata": {
    "id": "Z_Yox2eOT4bQ"
   },
   "outputs": [
    {
     "data": {
      "text/plain": [
       "'temp-plot.html'"
      ]
     },
     "execution_count": 10,
     "metadata": {},
     "output_type": "execute_result"
    }
   ],
   "source": [
    "data=[]\n",
    "bool_crack=df_sne[\"overall\"] > 85 #diferenciamos a los mejores jugadores\n",
    "\n",
    "#graficamos los datos en el espacio transformado: las dos componentes tsne\n",
    "\n",
    "graf1 = go.Scatter(x=X_tsne[:,0], y=X_tsne[:,1],\n",
    "                           mode='markers',\n",
    "                        text=df_sne.loc[:,'team_position'], #'Height', 'Weight', 'Club', 'Age', 'Name','Position'\n",
    "                           marker=dict(\n",
    "                                size=5)\n",
    "                           )\n",
    "\n",
    "crack =go.Scatter(x=X_tsne[bool_crack,0], y=X_tsne[bool_crack,1],name='Los más mejores',\n",
    "                      text=df_sne.loc[bool_crack,'short_name'],\n",
    "                      textfont=dict(family='sans serif',size=10,color='black'),\n",
    "                      opacity=0.9,mode='text')\n",
    "\n",
    "data=[graf1,crack]\n",
    "\n",
    "layout = go.Layout(title=\"Visualización de la base en el espacio tsne\",titlefont=dict(size=20),\n",
    "                xaxis=dict(title='componente 1'),\n",
    "                yaxis=dict(title='componente 2'),\n",
    "                autosize=False, width=1000,height=700)\n",
    "\n",
    "fig = go.Figure(data=data, layout=layout)\n",
    "\n",
    "#iplot(fig)\n",
    "plot(fig)"
   ]
  },
  {
   "cell_type": "code",
   "execution_count": 19,
   "metadata": {
    "colab": {
     "base_uri": "https://localhost:8080/",
     "height": 717
    },
    "executionInfo": {
     "elapsed": 564,
     "status": "ok",
     "timestamp": 1631020683845,
     "user": {
      "displayName": "Valeria S RULLONI",
      "photoUrl": "",
      "userId": "09936144167370803067"
     },
     "user_tz": 180
    },
    "id": "yc4m3m4WYVtf",
    "outputId": "7781453f-de6d-4b96-b408-2833699137f1"
   },
   "outputs": [],
   "source": [
    "#En Colab\n",
    "#fig.show(renderer=\"colab\")"
   ]
  },
  {
   "cell_type": "markdown",
   "metadata": {
    "id": "CNMpI5dUT4bb"
   },
   "source": [
    "**INTERPRETACIÓN**\n",
    "\n",
    "Un poco de análisis visual supervisado usando tsne\n",
    "\n",
    "Ponemos a prueba la intuición o preconcepto de que los jugadores se agrupan en el espacio de las habilidades (transformado/reducido por tsne) según la posición... \n",
    "\n",
    "Creamos una nueva columna con 4 categorias de posiciones:"
   ]
  },
  {
   "cell_type": "code",
   "execution_count": 11,
   "metadata": {
    "id": "POcEWAwOT4be"
   },
   "outputs": [],
   "source": [
    "forwards=['RF', 'ST', 'LW', 'LF', 'RS', 'LS', 'RM', 'LM','RW']\n",
    "midfielders=['RCM','LCM','LDM','CAM','CDM','LAM','RDM','CM','RAM','CF']\n",
    "defenders=['RCB','CB','LCB','LB','RB','RWB','LWB']\n",
    "goalkeepers=['GK']\n",
    "\n",
    "def pos2(position):\n",
    "    if position in forwards:\n",
    "        return 'Forward'\n",
    "    \n",
    "    elif position in midfielders:\n",
    "        return 'Midfielder'\n",
    "    \n",
    "    elif position in defenders:\n",
    "        return 'Defender'\n",
    "    \n",
    "    elif position in goalkeepers:\n",
    "        return 'GK'\n",
    "    \n",
    "    else:\n",
    "        return 'nan'"
   ]
  },
  {
   "cell_type": "code",
   "execution_count": 12,
   "metadata": {
    "colab": {
     "base_uri": "https://localhost:8080/"
    },
    "executionInfo": {
     "elapsed": 280,
     "status": "ok",
     "timestamp": 1631020491728,
     "user": {
      "displayName": "Valeria S RULLONI",
      "photoUrl": "",
      "userId": "09936144167370803067"
     },
     "user_tz": 180
    },
    "id": "IlW7CYzqT4bi",
    "outputId": "094bfece-7141-4aad-ae0c-8d68d31371ff"
   },
   "outputs": [
    {
     "data": {
      "text/plain": [
       "nan           702\n",
       "Defender      397\n",
       "Forward       396\n",
       "Midfielder    355\n",
       "GK            151\n",
       "Name: team_position2, dtype: int64"
      ]
     },
     "execution_count": 12,
     "metadata": {},
     "output_type": "execute_result"
    }
   ],
   "source": [
    "df_sne[\"team_position2\"]=df_sne[\"team_position\"].apply(lambda x: pos2(x))\n",
    "\n",
    "df_sne[\"team_position2\"].value_counts()"
   ]
  },
  {
   "cell_type": "code",
   "execution_count": 13,
   "metadata": {},
   "outputs": [
    {
     "data": {
      "text/html": [
       "<div>\n",
       "<style scoped>\n",
       "    .dataframe tbody tr th:only-of-type {\n",
       "        vertical-align: middle;\n",
       "    }\n",
       "\n",
       "    .dataframe tbody tr th {\n",
       "        vertical-align: top;\n",
       "    }\n",
       "\n",
       "    .dataframe thead th {\n",
       "        text-align: right;\n",
       "    }\n",
       "</style>\n",
       "<table border=\"1\" class=\"dataframe\">\n",
       "  <thead>\n",
       "    <tr style=\"text-align: right;\">\n",
       "      <th></th>\n",
       "      <th>sofifa_id</th>\n",
       "      <th>player_url</th>\n",
       "      <th>short_name</th>\n",
       "      <th>long_name</th>\n",
       "      <th>age</th>\n",
       "      <th>dob</th>\n",
       "      <th>height_cm</th>\n",
       "      <th>weight_kg</th>\n",
       "      <th>nationality</th>\n",
       "      <th>club_name</th>\n",
       "      <th>league_name</th>\n",
       "      <th>league_rank</th>\n",
       "      <th>overall</th>\n",
       "      <th>potential</th>\n",
       "      <th>value_eur</th>\n",
       "      <th>wage_eur</th>\n",
       "      <th>player_positions</th>\n",
       "      <th>preferred_foot</th>\n",
       "      <th>international_reputation</th>\n",
       "      <th>weak_foot</th>\n",
       "      <th>skill_moves</th>\n",
       "      <th>work_rate</th>\n",
       "      <th>body_type</th>\n",
       "      <th>real_face</th>\n",
       "      <th>release_clause_eur</th>\n",
       "      <th>player_tags</th>\n",
       "      <th>team_position</th>\n",
       "      <th>team_jersey_number</th>\n",
       "      <th>loaned_from</th>\n",
       "      <th>joined</th>\n",
       "      <th>contract_valid_until</th>\n",
       "      <th>nation_position</th>\n",
       "      <th>nation_jersey_number</th>\n",
       "      <th>pace</th>\n",
       "      <th>shooting</th>\n",
       "      <th>passing</th>\n",
       "      <th>dribbling</th>\n",
       "      <th>defending</th>\n",
       "      <th>physic</th>\n",
       "      <th>gk_diving</th>\n",
       "      <th>gk_handling</th>\n",
       "      <th>gk_kicking</th>\n",
       "      <th>gk_reflexes</th>\n",
       "      <th>gk_speed</th>\n",
       "      <th>gk_positioning</th>\n",
       "      <th>player_traits</th>\n",
       "      <th>attacking_crossing</th>\n",
       "      <th>attacking_finishing</th>\n",
       "      <th>attacking_heading_accuracy</th>\n",
       "      <th>attacking_short_passing</th>\n",
       "      <th>...</th>\n",
       "      <th>movement_sprint_speed</th>\n",
       "      <th>movement_agility</th>\n",
       "      <th>movement_reactions</th>\n",
       "      <th>movement_balance</th>\n",
       "      <th>power_shot_power</th>\n",
       "      <th>power_jumping</th>\n",
       "      <th>power_stamina</th>\n",
       "      <th>power_strength</th>\n",
       "      <th>power_long_shots</th>\n",
       "      <th>mentality_aggression</th>\n",
       "      <th>mentality_interceptions</th>\n",
       "      <th>mentality_positioning</th>\n",
       "      <th>mentality_vision</th>\n",
       "      <th>mentality_penalties</th>\n",
       "      <th>mentality_composure</th>\n",
       "      <th>defending_marking</th>\n",
       "      <th>defending_standing_tackle</th>\n",
       "      <th>defending_sliding_tackle</th>\n",
       "      <th>goalkeeping_diving</th>\n",
       "      <th>goalkeeping_handling</th>\n",
       "      <th>goalkeeping_kicking</th>\n",
       "      <th>goalkeeping_positioning</th>\n",
       "      <th>goalkeeping_reflexes</th>\n",
       "      <th>ls</th>\n",
       "      <th>st</th>\n",
       "      <th>rs</th>\n",
       "      <th>lw</th>\n",
       "      <th>lf</th>\n",
       "      <th>cf</th>\n",
       "      <th>rf</th>\n",
       "      <th>rw</th>\n",
       "      <th>lam</th>\n",
       "      <th>cam</th>\n",
       "      <th>ram</th>\n",
       "      <th>lm</th>\n",
       "      <th>lcm</th>\n",
       "      <th>cm</th>\n",
       "      <th>rcm</th>\n",
       "      <th>rm</th>\n",
       "      <th>lwb</th>\n",
       "      <th>ldm</th>\n",
       "      <th>cdm</th>\n",
       "      <th>rdm</th>\n",
       "      <th>rwb</th>\n",
       "      <th>lb</th>\n",
       "      <th>lcb</th>\n",
       "      <th>cb</th>\n",
       "      <th>rcb</th>\n",
       "      <th>rb</th>\n",
       "      <th>team_position2</th>\n",
       "    </tr>\n",
       "  </thead>\n",
       "  <tbody>\n",
       "    <tr>\n",
       "      <th>0</th>\n",
       "      <td>158023</td>\n",
       "      <td>https://sofifa.com/player/158023/lionel-messi/...</td>\n",
       "      <td>L. Messi</td>\n",
       "      <td>Lionel Andrés Messi Cuccittini</td>\n",
       "      <td>33</td>\n",
       "      <td>1987-06-24</td>\n",
       "      <td>170</td>\n",
       "      <td>72</td>\n",
       "      <td>Argentina</td>\n",
       "      <td>FC Barcelona</td>\n",
       "      <td>Spain Primera Division</td>\n",
       "      <td>1.0</td>\n",
       "      <td>93</td>\n",
       "      <td>93</td>\n",
       "      <td>67500000</td>\n",
       "      <td>560000</td>\n",
       "      <td>RW, ST, CF</td>\n",
       "      <td>Left</td>\n",
       "      <td>5</td>\n",
       "      <td>4</td>\n",
       "      <td>4</td>\n",
       "      <td>Medium/Low</td>\n",
       "      <td>Messi</td>\n",
       "      <td>Yes</td>\n",
       "      <td>138400000.0</td>\n",
       "      <td>#Dribbler, #Distance Shooter, #FK Specialist, ...</td>\n",
       "      <td>CAM</td>\n",
       "      <td>10.0</td>\n",
       "      <td>NaN</td>\n",
       "      <td>2004-07-01</td>\n",
       "      <td>2021.0</td>\n",
       "      <td>RW</td>\n",
       "      <td>10.0</td>\n",
       "      <td>85.0</td>\n",
       "      <td>92.0</td>\n",
       "      <td>91.0</td>\n",
       "      <td>95.0</td>\n",
       "      <td>38.0</td>\n",
       "      <td>65.0</td>\n",
       "      <td>NaN</td>\n",
       "      <td>NaN</td>\n",
       "      <td>NaN</td>\n",
       "      <td>NaN</td>\n",
       "      <td>NaN</td>\n",
       "      <td>NaN</td>\n",
       "      <td>Finesse Shot, Long Shot Taker (AI), Speed Drib...</td>\n",
       "      <td>85</td>\n",
       "      <td>95</td>\n",
       "      <td>70</td>\n",
       "      <td>91</td>\n",
       "      <td>...</td>\n",
       "      <td>80</td>\n",
       "      <td>91</td>\n",
       "      <td>94</td>\n",
       "      <td>95</td>\n",
       "      <td>86</td>\n",
       "      <td>68</td>\n",
       "      <td>72</td>\n",
       "      <td>69</td>\n",
       "      <td>94</td>\n",
       "      <td>44</td>\n",
       "      <td>40</td>\n",
       "      <td>93</td>\n",
       "      <td>95</td>\n",
       "      <td>75</td>\n",
       "      <td>96</td>\n",
       "      <td>NaN</td>\n",
       "      <td>35</td>\n",
       "      <td>24</td>\n",
       "      <td>6</td>\n",
       "      <td>11</td>\n",
       "      <td>15</td>\n",
       "      <td>14</td>\n",
       "      <td>8</td>\n",
       "      <td>89+3</td>\n",
       "      <td>89+3</td>\n",
       "      <td>89+3</td>\n",
       "      <td>92+0</td>\n",
       "      <td>93+0</td>\n",
       "      <td>93+0</td>\n",
       "      <td>93+0</td>\n",
       "      <td>92+0</td>\n",
       "      <td>93+0</td>\n",
       "      <td>93+0</td>\n",
       "      <td>93+0</td>\n",
       "      <td>91+2</td>\n",
       "      <td>87+3</td>\n",
       "      <td>87+3</td>\n",
       "      <td>87+3</td>\n",
       "      <td>91+2</td>\n",
       "      <td>66+3</td>\n",
       "      <td>65+3</td>\n",
       "      <td>65+3</td>\n",
       "      <td>65+3</td>\n",
       "      <td>66+3</td>\n",
       "      <td>62+3</td>\n",
       "      <td>52+3</td>\n",
       "      <td>52+3</td>\n",
       "      <td>52+3</td>\n",
       "      <td>62+3</td>\n",
       "      <td>Midfielder</td>\n",
       "    </tr>\n",
       "    <tr>\n",
       "      <th>1</th>\n",
       "      <td>20801</td>\n",
       "      <td>https://sofifa.com/player/20801/c-ronaldo-dos-...</td>\n",
       "      <td>Cristiano Ronaldo</td>\n",
       "      <td>Cristiano Ronaldo dos Santos Aveiro</td>\n",
       "      <td>35</td>\n",
       "      <td>1985-02-05</td>\n",
       "      <td>187</td>\n",
       "      <td>83</td>\n",
       "      <td>Portugal</td>\n",
       "      <td>Juventus</td>\n",
       "      <td>Italian Serie A</td>\n",
       "      <td>1.0</td>\n",
       "      <td>92</td>\n",
       "      <td>92</td>\n",
       "      <td>46000000</td>\n",
       "      <td>220000</td>\n",
       "      <td>ST, LW</td>\n",
       "      <td>Right</td>\n",
       "      <td>5</td>\n",
       "      <td>4</td>\n",
       "      <td>5</td>\n",
       "      <td>High/Low</td>\n",
       "      <td>C. Ronaldo</td>\n",
       "      <td>Yes</td>\n",
       "      <td>75900000.0</td>\n",
       "      <td>#Aerial Threat, #Dribbler, #Distance Shooter, ...</td>\n",
       "      <td>LS</td>\n",
       "      <td>7.0</td>\n",
       "      <td>NaN</td>\n",
       "      <td>2018-07-10</td>\n",
       "      <td>2022.0</td>\n",
       "      <td>LS</td>\n",
       "      <td>7.0</td>\n",
       "      <td>89.0</td>\n",
       "      <td>93.0</td>\n",
       "      <td>81.0</td>\n",
       "      <td>89.0</td>\n",
       "      <td>35.0</td>\n",
       "      <td>77.0</td>\n",
       "      <td>NaN</td>\n",
       "      <td>NaN</td>\n",
       "      <td>NaN</td>\n",
       "      <td>NaN</td>\n",
       "      <td>NaN</td>\n",
       "      <td>NaN</td>\n",
       "      <td>Power Free-Kick, Flair, Long Shot Taker (AI), ...</td>\n",
       "      <td>84</td>\n",
       "      <td>95</td>\n",
       "      <td>90</td>\n",
       "      <td>82</td>\n",
       "      <td>...</td>\n",
       "      <td>91</td>\n",
       "      <td>87</td>\n",
       "      <td>95</td>\n",
       "      <td>71</td>\n",
       "      <td>94</td>\n",
       "      <td>95</td>\n",
       "      <td>84</td>\n",
       "      <td>78</td>\n",
       "      <td>93</td>\n",
       "      <td>63</td>\n",
       "      <td>29</td>\n",
       "      <td>95</td>\n",
       "      <td>82</td>\n",
       "      <td>84</td>\n",
       "      <td>95</td>\n",
       "      <td>NaN</td>\n",
       "      <td>32</td>\n",
       "      <td>24</td>\n",
       "      <td>7</td>\n",
       "      <td>11</td>\n",
       "      <td>15</td>\n",
       "      <td>14</td>\n",
       "      <td>11</td>\n",
       "      <td>91+1</td>\n",
       "      <td>91+1</td>\n",
       "      <td>91+1</td>\n",
       "      <td>89+0</td>\n",
       "      <td>91+0</td>\n",
       "      <td>91+0</td>\n",
       "      <td>91+0</td>\n",
       "      <td>89+0</td>\n",
       "      <td>88+3</td>\n",
       "      <td>88+3</td>\n",
       "      <td>88+3</td>\n",
       "      <td>88+3</td>\n",
       "      <td>81+3</td>\n",
       "      <td>81+3</td>\n",
       "      <td>81+3</td>\n",
       "      <td>88+3</td>\n",
       "      <td>65+3</td>\n",
       "      <td>61+3</td>\n",
       "      <td>61+3</td>\n",
       "      <td>61+3</td>\n",
       "      <td>65+3</td>\n",
       "      <td>61+3</td>\n",
       "      <td>54+3</td>\n",
       "      <td>54+3</td>\n",
       "      <td>54+3</td>\n",
       "      <td>61+3</td>\n",
       "      <td>Forward</td>\n",
       "    </tr>\n",
       "    <tr>\n",
       "      <th>2</th>\n",
       "      <td>200389</td>\n",
       "      <td>https://sofifa.com/player/200389/jan-oblak/210002</td>\n",
       "      <td>J. Oblak</td>\n",
       "      <td>Jan Oblak</td>\n",
       "      <td>27</td>\n",
       "      <td>1993-01-07</td>\n",
       "      <td>188</td>\n",
       "      <td>87</td>\n",
       "      <td>Slovenia</td>\n",
       "      <td>Atlético Madrid</td>\n",
       "      <td>Spain Primera Division</td>\n",
       "      <td>1.0</td>\n",
       "      <td>91</td>\n",
       "      <td>93</td>\n",
       "      <td>75000000</td>\n",
       "      <td>125000</td>\n",
       "      <td>GK</td>\n",
       "      <td>Right</td>\n",
       "      <td>3</td>\n",
       "      <td>3</td>\n",
       "      <td>1</td>\n",
       "      <td>Medium/Medium</td>\n",
       "      <td>PLAYER_BODY_TYPE_259</td>\n",
       "      <td>Yes</td>\n",
       "      <td>159400000.0</td>\n",
       "      <td>NaN</td>\n",
       "      <td>GK</td>\n",
       "      <td>13.0</td>\n",
       "      <td>NaN</td>\n",
       "      <td>2014-07-16</td>\n",
       "      <td>2023.0</td>\n",
       "      <td>GK</td>\n",
       "      <td>1.0</td>\n",
       "      <td>NaN</td>\n",
       "      <td>NaN</td>\n",
       "      <td>NaN</td>\n",
       "      <td>NaN</td>\n",
       "      <td>NaN</td>\n",
       "      <td>NaN</td>\n",
       "      <td>87.0</td>\n",
       "      <td>92.0</td>\n",
       "      <td>78.0</td>\n",
       "      <td>90.0</td>\n",
       "      <td>52.0</td>\n",
       "      <td>90.0</td>\n",
       "      <td>GK Long Throw, Comes For Crosses</td>\n",
       "      <td>13</td>\n",
       "      <td>11</td>\n",
       "      <td>15</td>\n",
       "      <td>43</td>\n",
       "      <td>...</td>\n",
       "      <td>60</td>\n",
       "      <td>67</td>\n",
       "      <td>88</td>\n",
       "      <td>49</td>\n",
       "      <td>59</td>\n",
       "      <td>78</td>\n",
       "      <td>41</td>\n",
       "      <td>78</td>\n",
       "      <td>12</td>\n",
       "      <td>34</td>\n",
       "      <td>19</td>\n",
       "      <td>11</td>\n",
       "      <td>65</td>\n",
       "      <td>11</td>\n",
       "      <td>68</td>\n",
       "      <td>NaN</td>\n",
       "      <td>12</td>\n",
       "      <td>18</td>\n",
       "      <td>87</td>\n",
       "      <td>92</td>\n",
       "      <td>78</td>\n",
       "      <td>90</td>\n",
       "      <td>90</td>\n",
       "      <td>33+3</td>\n",
       "      <td>33+3</td>\n",
       "      <td>33+3</td>\n",
       "      <td>32+0</td>\n",
       "      <td>35+0</td>\n",
       "      <td>35+0</td>\n",
       "      <td>35+0</td>\n",
       "      <td>32+0</td>\n",
       "      <td>38+3</td>\n",
       "      <td>38+3</td>\n",
       "      <td>38+3</td>\n",
       "      <td>35+3</td>\n",
       "      <td>38+3</td>\n",
       "      <td>38+3</td>\n",
       "      <td>38+3</td>\n",
       "      <td>35+3</td>\n",
       "      <td>32+3</td>\n",
       "      <td>36+3</td>\n",
       "      <td>36+3</td>\n",
       "      <td>36+3</td>\n",
       "      <td>32+3</td>\n",
       "      <td>32+3</td>\n",
       "      <td>33+3</td>\n",
       "      <td>33+3</td>\n",
       "      <td>33+3</td>\n",
       "      <td>32+3</td>\n",
       "      <td>GK</td>\n",
       "    </tr>\n",
       "    <tr>\n",
       "      <th>3</th>\n",
       "      <td>188545</td>\n",
       "      <td>https://sofifa.com/player/188545/robert-lewand...</td>\n",
       "      <td>R. Lewandowski</td>\n",
       "      <td>Robert Lewandowski</td>\n",
       "      <td>31</td>\n",
       "      <td>1988-08-21</td>\n",
       "      <td>184</td>\n",
       "      <td>80</td>\n",
       "      <td>Poland</td>\n",
       "      <td>FC Bayern München</td>\n",
       "      <td>German 1. Bundesliga</td>\n",
       "      <td>1.0</td>\n",
       "      <td>91</td>\n",
       "      <td>91</td>\n",
       "      <td>80000000</td>\n",
       "      <td>240000</td>\n",
       "      <td>ST</td>\n",
       "      <td>Right</td>\n",
       "      <td>4</td>\n",
       "      <td>4</td>\n",
       "      <td>4</td>\n",
       "      <td>High/Medium</td>\n",
       "      <td>PLAYER_BODY_TYPE_276</td>\n",
       "      <td>Yes</td>\n",
       "      <td>132000000.0</td>\n",
       "      <td>#Distance Shooter, #Clinical Finisher</td>\n",
       "      <td>ST</td>\n",
       "      <td>9.0</td>\n",
       "      <td>NaN</td>\n",
       "      <td>2014-07-01</td>\n",
       "      <td>2023.0</td>\n",
       "      <td>NaN</td>\n",
       "      <td>NaN</td>\n",
       "      <td>78.0</td>\n",
       "      <td>91.0</td>\n",
       "      <td>78.0</td>\n",
       "      <td>85.0</td>\n",
       "      <td>43.0</td>\n",
       "      <td>82.0</td>\n",
       "      <td>NaN</td>\n",
       "      <td>NaN</td>\n",
       "      <td>NaN</td>\n",
       "      <td>NaN</td>\n",
       "      <td>NaN</td>\n",
       "      <td>NaN</td>\n",
       "      <td>Solid Player, Finesse Shot, Outside Foot Shot,...</td>\n",
       "      <td>71</td>\n",
       "      <td>94</td>\n",
       "      <td>85</td>\n",
       "      <td>84</td>\n",
       "      <td>...</td>\n",
       "      <td>78</td>\n",
       "      <td>77</td>\n",
       "      <td>93</td>\n",
       "      <td>82</td>\n",
       "      <td>89</td>\n",
       "      <td>84</td>\n",
       "      <td>76</td>\n",
       "      <td>86</td>\n",
       "      <td>85</td>\n",
       "      <td>81</td>\n",
       "      <td>49</td>\n",
       "      <td>94</td>\n",
       "      <td>79</td>\n",
       "      <td>88</td>\n",
       "      <td>88</td>\n",
       "      <td>NaN</td>\n",
       "      <td>42</td>\n",
       "      <td>19</td>\n",
       "      <td>15</td>\n",
       "      <td>6</td>\n",
       "      <td>12</td>\n",
       "      <td>8</td>\n",
       "      <td>10</td>\n",
       "      <td>89+2</td>\n",
       "      <td>89+2</td>\n",
       "      <td>89+2</td>\n",
       "      <td>85+0</td>\n",
       "      <td>87+0</td>\n",
       "      <td>87+0</td>\n",
       "      <td>87+0</td>\n",
       "      <td>85+0</td>\n",
       "      <td>85+3</td>\n",
       "      <td>85+3</td>\n",
       "      <td>85+3</td>\n",
       "      <td>83+3</td>\n",
       "      <td>79+3</td>\n",
       "      <td>79+3</td>\n",
       "      <td>79+3</td>\n",
       "      <td>83+3</td>\n",
       "      <td>64+3</td>\n",
       "      <td>65+3</td>\n",
       "      <td>65+3</td>\n",
       "      <td>65+3</td>\n",
       "      <td>64+3</td>\n",
       "      <td>61+3</td>\n",
       "      <td>60+3</td>\n",
       "      <td>60+3</td>\n",
       "      <td>60+3</td>\n",
       "      <td>61+3</td>\n",
       "      <td>Forward</td>\n",
       "    </tr>\n",
       "    <tr>\n",
       "      <th>4</th>\n",
       "      <td>190871</td>\n",
       "      <td>https://sofifa.com/player/190871/neymar-da-sil...</td>\n",
       "      <td>Neymar Jr</td>\n",
       "      <td>Neymar da Silva Santos Júnior</td>\n",
       "      <td>28</td>\n",
       "      <td>1992-02-05</td>\n",
       "      <td>175</td>\n",
       "      <td>68</td>\n",
       "      <td>Brazil</td>\n",
       "      <td>Paris Saint-Germain</td>\n",
       "      <td>French Ligue 1</td>\n",
       "      <td>1.0</td>\n",
       "      <td>91</td>\n",
       "      <td>91</td>\n",
       "      <td>90000000</td>\n",
       "      <td>270000</td>\n",
       "      <td>LW, CAM</td>\n",
       "      <td>Right</td>\n",
       "      <td>5</td>\n",
       "      <td>5</td>\n",
       "      <td>5</td>\n",
       "      <td>High/Medium</td>\n",
       "      <td>Neymar</td>\n",
       "      <td>Yes</td>\n",
       "      <td>166500000.0</td>\n",
       "      <td>#Speedster, #Dribbler, #Playmaker, #FK Special...</td>\n",
       "      <td>LW</td>\n",
       "      <td>10.0</td>\n",
       "      <td>NaN</td>\n",
       "      <td>2017-08-03</td>\n",
       "      <td>2022.0</td>\n",
       "      <td>NaN</td>\n",
       "      <td>NaN</td>\n",
       "      <td>91.0</td>\n",
       "      <td>85.0</td>\n",
       "      <td>86.0</td>\n",
       "      <td>94.0</td>\n",
       "      <td>36.0</td>\n",
       "      <td>59.0</td>\n",
       "      <td>NaN</td>\n",
       "      <td>NaN</td>\n",
       "      <td>NaN</td>\n",
       "      <td>NaN</td>\n",
       "      <td>NaN</td>\n",
       "      <td>NaN</td>\n",
       "      <td>Injury Prone, Flair, Speed Dribbler (AI), Outs...</td>\n",
       "      <td>85</td>\n",
       "      <td>87</td>\n",
       "      <td>62</td>\n",
       "      <td>87</td>\n",
       "      <td>...</td>\n",
       "      <td>89</td>\n",
       "      <td>96</td>\n",
       "      <td>91</td>\n",
       "      <td>83</td>\n",
       "      <td>80</td>\n",
       "      <td>62</td>\n",
       "      <td>81</td>\n",
       "      <td>50</td>\n",
       "      <td>84</td>\n",
       "      <td>51</td>\n",
       "      <td>36</td>\n",
       "      <td>87</td>\n",
       "      <td>90</td>\n",
       "      <td>92</td>\n",
       "      <td>93</td>\n",
       "      <td>NaN</td>\n",
       "      <td>30</td>\n",
       "      <td>29</td>\n",
       "      <td>9</td>\n",
       "      <td>9</td>\n",
       "      <td>15</td>\n",
       "      <td>15</td>\n",
       "      <td>11</td>\n",
       "      <td>84+3</td>\n",
       "      <td>84+3</td>\n",
       "      <td>84+3</td>\n",
       "      <td>90+0</td>\n",
       "      <td>89+0</td>\n",
       "      <td>89+0</td>\n",
       "      <td>89+0</td>\n",
       "      <td>90+0</td>\n",
       "      <td>90+1</td>\n",
       "      <td>90+1</td>\n",
       "      <td>90+1</td>\n",
       "      <td>90+1</td>\n",
       "      <td>83+3</td>\n",
       "      <td>83+3</td>\n",
       "      <td>83+3</td>\n",
       "      <td>90+1</td>\n",
       "      <td>67+3</td>\n",
       "      <td>62+3</td>\n",
       "      <td>62+3</td>\n",
       "      <td>62+3</td>\n",
       "      <td>67+3</td>\n",
       "      <td>62+3</td>\n",
       "      <td>49+3</td>\n",
       "      <td>49+3</td>\n",
       "      <td>49+3</td>\n",
       "      <td>62+3</td>\n",
       "      <td>Forward</td>\n",
       "    </tr>\n",
       "  </tbody>\n",
       "</table>\n",
       "<p>5 rows × 107 columns</p>\n",
       "</div>"
      ],
      "text/plain": [
       "   sofifa_id                                         player_url  \\\n",
       "0     158023  https://sofifa.com/player/158023/lionel-messi/...   \n",
       "1      20801  https://sofifa.com/player/20801/c-ronaldo-dos-...   \n",
       "2     200389  https://sofifa.com/player/200389/jan-oblak/210002   \n",
       "3     188545  https://sofifa.com/player/188545/robert-lewand...   \n",
       "4     190871  https://sofifa.com/player/190871/neymar-da-sil...   \n",
       "\n",
       "          short_name                            long_name  age         dob  \\\n",
       "0           L. Messi       Lionel Andrés Messi Cuccittini   33  1987-06-24   \n",
       "1  Cristiano Ronaldo  Cristiano Ronaldo dos Santos Aveiro   35  1985-02-05   \n",
       "2           J. Oblak                            Jan Oblak   27  1993-01-07   \n",
       "3     R. Lewandowski                   Robert Lewandowski   31  1988-08-21   \n",
       "4          Neymar Jr        Neymar da Silva Santos Júnior   28  1992-02-05   \n",
       "\n",
       "   height_cm  weight_kg nationality            club_name  \\\n",
       "0        170         72   Argentina         FC Barcelona   \n",
       "1        187         83    Portugal             Juventus   \n",
       "2        188         87    Slovenia      Atlético Madrid   \n",
       "3        184         80      Poland    FC Bayern München   \n",
       "4        175         68      Brazil  Paris Saint-Germain   \n",
       "\n",
       "              league_name  league_rank  overall  potential  value_eur  \\\n",
       "0  Spain Primera Division          1.0       93         93   67500000   \n",
       "1         Italian Serie A          1.0       92         92   46000000   \n",
       "2  Spain Primera Division          1.0       91         93   75000000   \n",
       "3    German 1. Bundesliga          1.0       91         91   80000000   \n",
       "4          French Ligue 1          1.0       91         91   90000000   \n",
       "\n",
       "   wage_eur player_positions preferred_foot  international_reputation  \\\n",
       "0    560000       RW, ST, CF           Left                         5   \n",
       "1    220000           ST, LW          Right                         5   \n",
       "2    125000               GK          Right                         3   \n",
       "3    240000               ST          Right                         4   \n",
       "4    270000          LW, CAM          Right                         5   \n",
       "\n",
       "   weak_foot  skill_moves      work_rate             body_type real_face  \\\n",
       "0          4            4     Medium/Low                 Messi       Yes   \n",
       "1          4            5       High/Low            C. Ronaldo       Yes   \n",
       "2          3            1  Medium/Medium  PLAYER_BODY_TYPE_259       Yes   \n",
       "3          4            4    High/Medium  PLAYER_BODY_TYPE_276       Yes   \n",
       "4          5            5    High/Medium                Neymar       Yes   \n",
       "\n",
       "   release_clause_eur                                        player_tags  \\\n",
       "0         138400000.0  #Dribbler, #Distance Shooter, #FK Specialist, ...   \n",
       "1          75900000.0  #Aerial Threat, #Dribbler, #Distance Shooter, ...   \n",
       "2         159400000.0                                                NaN   \n",
       "3         132000000.0              #Distance Shooter, #Clinical Finisher   \n",
       "4         166500000.0  #Speedster, #Dribbler, #Playmaker, #FK Special...   \n",
       "\n",
       "  team_position  team_jersey_number loaned_from      joined  \\\n",
       "0           CAM                10.0         NaN  2004-07-01   \n",
       "1            LS                 7.0         NaN  2018-07-10   \n",
       "2            GK                13.0         NaN  2014-07-16   \n",
       "3            ST                 9.0         NaN  2014-07-01   \n",
       "4            LW                10.0         NaN  2017-08-03   \n",
       "\n",
       "   contract_valid_until nation_position  nation_jersey_number  pace  shooting  \\\n",
       "0                2021.0              RW                  10.0  85.0      92.0   \n",
       "1                2022.0              LS                   7.0  89.0      93.0   \n",
       "2                2023.0              GK                   1.0   NaN       NaN   \n",
       "3                2023.0             NaN                   NaN  78.0      91.0   \n",
       "4                2022.0             NaN                   NaN  91.0      85.0   \n",
       "\n",
       "   passing  dribbling  defending  physic  gk_diving  gk_handling  gk_kicking  \\\n",
       "0     91.0       95.0       38.0    65.0        NaN          NaN         NaN   \n",
       "1     81.0       89.0       35.0    77.0        NaN          NaN         NaN   \n",
       "2      NaN        NaN        NaN     NaN       87.0         92.0        78.0   \n",
       "3     78.0       85.0       43.0    82.0        NaN          NaN         NaN   \n",
       "4     86.0       94.0       36.0    59.0        NaN          NaN         NaN   \n",
       "\n",
       "   gk_reflexes  gk_speed  gk_positioning  \\\n",
       "0          NaN       NaN             NaN   \n",
       "1          NaN       NaN             NaN   \n",
       "2         90.0      52.0            90.0   \n",
       "3          NaN       NaN             NaN   \n",
       "4          NaN       NaN             NaN   \n",
       "\n",
       "                                       player_traits  attacking_crossing  \\\n",
       "0  Finesse Shot, Long Shot Taker (AI), Speed Drib...                  85   \n",
       "1  Power Free-Kick, Flair, Long Shot Taker (AI), ...                  84   \n",
       "2                   GK Long Throw, Comes For Crosses                  13   \n",
       "3  Solid Player, Finesse Shot, Outside Foot Shot,...                  71   \n",
       "4  Injury Prone, Flair, Speed Dribbler (AI), Outs...                  85   \n",
       "\n",
       "   attacking_finishing  attacking_heading_accuracy  attacking_short_passing  \\\n",
       "0                   95                          70                       91   \n",
       "1                   95                          90                       82   \n",
       "2                   11                          15                       43   \n",
       "3                   94                          85                       84   \n",
       "4                   87                          62                       87   \n",
       "\n",
       "   ...  movement_sprint_speed  movement_agility  movement_reactions  \\\n",
       "0  ...                     80                91                  94   \n",
       "1  ...                     91                87                  95   \n",
       "2  ...                     60                67                  88   \n",
       "3  ...                     78                77                  93   \n",
       "4  ...                     89                96                  91   \n",
       "\n",
       "   movement_balance  power_shot_power  power_jumping  power_stamina  \\\n",
       "0                95                86             68             72   \n",
       "1                71                94             95             84   \n",
       "2                49                59             78             41   \n",
       "3                82                89             84             76   \n",
       "4                83                80             62             81   \n",
       "\n",
       "   power_strength  power_long_shots  mentality_aggression  \\\n",
       "0              69                94                    44   \n",
       "1              78                93                    63   \n",
       "2              78                12                    34   \n",
       "3              86                85                    81   \n",
       "4              50                84                    51   \n",
       "\n",
       "   mentality_interceptions  mentality_positioning  mentality_vision  \\\n",
       "0                       40                     93                95   \n",
       "1                       29                     95                82   \n",
       "2                       19                     11                65   \n",
       "3                       49                     94                79   \n",
       "4                       36                     87                90   \n",
       "\n",
       "   mentality_penalties  mentality_composure  defending_marking  \\\n",
       "0                   75                   96                NaN   \n",
       "1                   84                   95                NaN   \n",
       "2                   11                   68                NaN   \n",
       "3                   88                   88                NaN   \n",
       "4                   92                   93                NaN   \n",
       "\n",
       "   defending_standing_tackle  defending_sliding_tackle  goalkeeping_diving  \\\n",
       "0                         35                        24                   6   \n",
       "1                         32                        24                   7   \n",
       "2                         12                        18                  87   \n",
       "3                         42                        19                  15   \n",
       "4                         30                        29                   9   \n",
       "\n",
       "   goalkeeping_handling  goalkeeping_kicking  goalkeeping_positioning  \\\n",
       "0                    11                   15                       14   \n",
       "1                    11                   15                       14   \n",
       "2                    92                   78                       90   \n",
       "3                     6                   12                        8   \n",
       "4                     9                   15                       15   \n",
       "\n",
       "   goalkeeping_reflexes    ls    st    rs    lw    lf    cf    rf    rw   lam  \\\n",
       "0                     8  89+3  89+3  89+3  92+0  93+0  93+0  93+0  92+0  93+0   \n",
       "1                    11  91+1  91+1  91+1  89+0  91+0  91+0  91+0  89+0  88+3   \n",
       "2                    90  33+3  33+3  33+3  32+0  35+0  35+0  35+0  32+0  38+3   \n",
       "3                    10  89+2  89+2  89+2  85+0  87+0  87+0  87+0  85+0  85+3   \n",
       "4                    11  84+3  84+3  84+3  90+0  89+0  89+0  89+0  90+0  90+1   \n",
       "\n",
       "    cam   ram    lm   lcm    cm   rcm    rm   lwb   ldm   cdm   rdm   rwb  \\\n",
       "0  93+0  93+0  91+2  87+3  87+3  87+3  91+2  66+3  65+3  65+3  65+3  66+3   \n",
       "1  88+3  88+3  88+3  81+3  81+3  81+3  88+3  65+3  61+3  61+3  61+3  65+3   \n",
       "2  38+3  38+3  35+3  38+3  38+3  38+3  35+3  32+3  36+3  36+3  36+3  32+3   \n",
       "3  85+3  85+3  83+3  79+3  79+3  79+3  83+3  64+3  65+3  65+3  65+3  64+3   \n",
       "4  90+1  90+1  90+1  83+3  83+3  83+3  90+1  67+3  62+3  62+3  62+3  67+3   \n",
       "\n",
       "     lb   lcb    cb   rcb    rb team_position2  \n",
       "0  62+3  52+3  52+3  52+3  62+3     Midfielder  \n",
       "1  61+3  54+3  54+3  54+3  61+3        Forward  \n",
       "2  32+3  33+3  33+3  33+3  32+3             GK  \n",
       "3  61+3  60+3  60+3  60+3  61+3        Forward  \n",
       "4  62+3  49+3  49+3  49+3  62+3        Forward  \n",
       "\n",
       "[5 rows x 107 columns]"
      ]
     },
     "execution_count": 13,
     "metadata": {},
     "output_type": "execute_result"
    }
   ],
   "source": [
    "df_sne.head()"
   ]
  },
  {
   "cell_type": "markdown",
   "metadata": {
    "id": "Ab9HDcZLT4bl"
   },
   "source": [
    "**GRAFICAMOS** \n",
    "\n",
    "Las variables que usamos para el scatterplot son las 2 componentes dadas por tSNE\n",
    "\n",
    "diferenciamos usando vectores booleanos: para cada posición y si es un ckack "
   ]
  },
  {
   "cell_type": "code",
   "execution_count": 14,
   "metadata": {
    "id": "mwcDwsoiT4bs"
   },
   "outputs": [
    {
     "data": {
      "text/plain": [
       "'temp-plot.html'"
      ]
     },
     "execution_count": 14,
     "metadata": {},
     "output_type": "execute_result"
    }
   ],
   "source": [
    "bool_striker= df_sne[\"team_position2\"] == 'Forward'\n",
    "bool_midfielder= df_sne[\"team_position2\"] == 'Midfielder'\n",
    "bool_defender= df_sne[\"team_position2\"] == 'Defender'\n",
    "bool_gk= df_sne[\"team_position2\"] == 'GK'\n",
    "\n",
    "bool_crack=df_sne[\"overall\"] > 85\n",
    "\n",
    "palette=['navy','red','#A2D5F2','orange','green','pink']  \n",
    "data=[]\n",
    "\n",
    "striker =go.Scatter(x=X_tsne[bool_striker,0], y=X_tsne[bool_striker,1],name='Striker',\n",
    "                      text=df_sne.loc[bool_striker,'short_name'],\n",
    "                      opacity=0.9,marker=dict(color=palette[2],size=5),mode='markers')\n",
    "\n",
    "midfielder =go.Scatter(x=X_tsne[bool_midfielder,0], y=X_tsne[bool_midfielder,1],name='Midfielder',\n",
    "                      text=df_sne.loc[bool_midfielder,'short_name'],\n",
    "                      opacity=0.6,marker=dict(color=palette[1],size=5),mode='markers')\n",
    "\n",
    "defender =go.Scatter(x=X_tsne[bool_defender,0], y=X_tsne[bool_defender,1],name='Defender',\n",
    "                      text=df_sne.loc[bool_defender,'short_name'],\n",
    "                      opacity=0.7,marker=dict(color=palette[3],size=5),mode='markers')\n",
    "\n",
    "gk =go.Scatter(x=X_tsne[bool_gk,0], y=X_tsne[bool_gk,1],name='GK',\n",
    "                      text=df_sne.loc[bool_gk,'short_name'],\n",
    "                      opacity=0.4,marker=dict(color=palette[4],size=5),mode='markers')\n",
    "\n",
    "crack =go.Scatter(x=X_tsne[bool_crack,0], y=X_tsne[bool_crack,1],name='Top player',\n",
    "                      text=df_sne.loc[bool_crack,'short_name'],textfont=dict(family='sans serif',color='black',size=16),\n",
    "                      opacity=0.9,mode='text')\n",
    "\n",
    "data=[striker,midfielder,defender,gk,crack]\n",
    "\n",
    "layout = go.Layout(title=\"t-SNE - Fifa Players\",titlefont=dict(size=20),\n",
    "                autosize=False, width=1150,height=750)\n",
    "\n",
    "fig = go.Figure(data=data, layout=layout)\n",
    "\n",
    "#iplot(fig)\n",
    "plot(fig)"
   ]
  },
  {
   "cell_type": "code",
   "execution_count": 28,
   "metadata": {
    "colab": {
     "base_uri": "https://localhost:8080/",
     "height": 767
    },
    "executionInfo": {
     "elapsed": 579,
     "status": "ok",
     "timestamp": 1631020791122,
     "user": {
      "displayName": "Valeria S RULLONI",
      "photoUrl": "",
      "userId": "09936144167370803067"
     },
     "user_tz": 180
    },
    "id": "ujz9zIHjZiu6",
    "outputId": "bc0a2325-c97a-43e2-d41e-4c3934ca656a"
   },
   "outputs": [],
   "source": [
    "#En Colab\n",
    "#fig.show(renderer=\"colab\")"
   ]
  },
  {
   "cell_type": "markdown",
   "metadata": {
    "id": "11t_c23xT4cI"
   },
   "source": [
    "Al igual que con los datos referidos al FIFA 2021, podemos ver que en este espacio 2D es realmente muy evidente la separación de los arqueros del resto de los jugadores (lo cual es lógico pues sus habilidades son muy diferentes, lo vimos también en los primeros análisis de clases en dimensión 33, graficando de a dos variable por vez). \n",
    "\n",
    "El agrupamiento visual, en este espacio, de los jugadores no es tan evidente pues los clusters no son disconexos.\n",
    "\n",
    "Las posiciones no explican tan claramente los clusters encontrados \n",
    "\n",
    "Una explicación posible puede ser porque hay jugadores ambivalentes que unen los espacios entre defensa, mediocampo y ataque. \n",
    "\n",
    "Habrá otra explicación?? \n",
    "\n",
    "Que otras variables (que no estamos graficando) pueden explicar los grupos? "
   ]
  },
  {
   "cell_type": "markdown",
   "metadata": {},
   "source": [
    "**EJERCICIO**\n",
    "\n",
    "En este espacio tsne ... es decir usando \"X_tsne[:,0]\" y \"X_tsne[:,0]\"\n",
    "Cuantos grupos encontrará Mean Shift? o cuales k-medias? hacerlo para el práctico con los datos FIFA2021"
   ]
  },
  {
   "cell_type": "code",
   "execution_count": 16,
   "metadata": {},
   "outputs": [],
   "source": [
    "from sklearn.cluster import KMeans,MeanShift\n",
    "from sklearn import decomposition\n",
    "from sklearn import metrics"
   ]
  },
  {
   "cell_type": "code",
   "execution_count": 17,
   "metadata": {},
   "outputs": [
    {
     "data": {
      "text/plain": [
       "Text(0.5, 1.0, 'Inertia of k-Means versus number of clusters')"
      ]
     },
     "execution_count": 17,
     "metadata": {},
     "output_type": "execute_result"
    },
    {
     "data": {
      "image/png": "[encoded data removed]",
      "text/plain": [
       "<Figure size 432x288 with 1 Axes>"
      ]
     },
     "metadata": {
      "needs_background": "light"
     },
     "output_type": "display_data"
    }
   ],
   "source": [
    "#Cantidad de n_clusters a elegir en el método de K-medias, variando de 2 a 11 clusters\n",
    "scores = [KMeans(n_clusters=i).fit(X_tsne).inertia_ for i in range(2,12)]\n",
    "\n",
    "plt.plot(np.arange(2, 12), scores)\n",
    "plt.xlabel('Number of clusters')\n",
    "plt.ylabel(\"Inertia\")\n",
    "plt.title(\"Inertia of k-Means versus number of clusters\")"
   ]
  },
  {
   "cell_type": "markdown",
   "metadata": {},
   "source": [
    "A partir del método de K-means, y empleando las dos variables obtenidas por medio de tsne, se podría sugerir la presencia de 4 clusters."
   ]
  },
  {
   "cell_type": "code",
   "execution_count": 27,
   "metadata": {
    "id": "PcrWvKdMT4cM"
   },
   "outputs": [
    {
     "name": "stdout",
     "output_type": "stream",
     "text": [
      "Cantidad de clusters encontrados por Mean Shift : 3\n"
     ]
    }
   ],
   "source": [
    "#Exploramos el número de clusters que se encuentran por medio del Método de MeanShift\n",
    "#ms = MeanShift(bandwidth=14, bin_seeding=True)   #A medida que agrandamos el bandwidth, se va reduciendo la cantidad de clusters encontrados.\n",
    "ms = MeanShift( bin_seeding=True)\n",
    "\n",
    "ms.fit(X_tsne)\n",
    "\n",
    "clusters2 = ms.labels_\n",
    "cluster_centers = ms.cluster_centers_\n",
    "\n",
    "labels_unique = np.unique(clusters2)\n",
    "n_clusters_ = len(labels_unique)\n",
    "\n",
    "print(\"Cantidad de clusters encontrados por Mean Shift : %d\" % n_clusters_)"
   ]
  },
  {
   "cell_type": "markdown",
   "metadata": {},
   "source": [
    "El método de MinShift, cuando dejamos la selección del bandwidth a la estimación que ofrece scikit learn, encuentra 3 clusters para los mismos datos."
   ]
  },
  {
   "cell_type": "markdown",
   "metadata": {},
   "source": [
    "**COMENT FC**: GRAFICAMOS ALGO???"
   ]
  },
  {
   "cell_type": "markdown",
   "metadata": {
    "id": "Q2uanRH1T4cO"
   },
   "source": [
    "# 4.-Componentes-Principales "
   ]
  },
  {
   "cell_type": "markdown",
   "metadata": {
    "id": "v2Cbhvu7T4cQ"
   },
   "source": [
    "PCA\n",
    "Para reducción de dimensión\n",
    "de n dimensiones a m dimensiones con 'm<<n'\n",
    "\n",
    "Pseudo-ejemplo intuitivo:\n",
    "Via láctea en 3D  https://youtu.be/WNASVRwdf9Q  o https://www.youtube.com/watch?v=S7GiZMVNB20                                        \n",
    "a Via láctea en 2D (la proyección en 2D que mejor describe la dispersión de los datos/estrellas)\n",
    "\n",
    "<center>\n"
   ]
  },
  {
   "cell_type": "markdown",
   "metadata": {
    "id": "e_BeCz-AcbdL"
   },
   "source": [
    "![hubble-13-ngc-1300-barred-spiral-galaxy-1920.jpg](data:image/jpeg;base64,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)"
   ]
  },
  {
   "cell_type": "markdown",
   "metadata": {
    "id": "5Rqze4v4T4cS"
   },
   "source": [
    "**Variables de desempeño (skills_ratings)**\n",
    "\n",
    "**Retiramos arqueros y jugadores con bajo ranking**\n"
   ]
  },
  {
   "cell_type": "code",
   "execution_count": 28,
   "metadata": {
    "id": "IUTcqFx1T4cV"
   },
   "outputs": [],
   "source": [
    "n_acp=18000\n",
    "\n",
    "df_acp=df.loc[:n_acp]\n",
    "df_acp=df_acp[(df_acp[\"team_position\"]!='GK')&(df['overall']>70)]\n",
    "\n",
    "skills_ratings = ['attacking_crossing', 'attacking_finishing', 'attacking_heading_accuracy', 'attacking_short_passing',\n",
    "                  'attacking_volleys', 'skill_dribbling', 'skill_curve', 'skill_fk_accuracy', 'skill_long_passing',\n",
    "                  'skill_ball_control', 'movement_acceleration', 'movement_sprint_speed', 'movement_agility', 'movement_reactions',\n",
    "                  'movement_balance', 'power_shot_power', 'power_jumping', 'power_stamina', 'power_strength', 'power_long_shots',\n",
    "                  'mentality_aggression', 'mentality_interceptions', 'mentality_positioning', 'mentality_vision', 'mentality_penalties', \n",
    "                  'mentality_composure', 'defending_standing_tackle', 'defending_sliding_tackle'] \n",
    "\n",
    "#otros skills_ratings ! sacamos las habilidades de los arqueros"
   ]
  },
  {
   "cell_type": "markdown",
   "metadata": {
    "id": "ErsBY8qNT4cZ"
   },
   "source": [
    "Restringimos los datos a las variables numéricas que consideramos"
   ]
  },
  {
   "cell_type": "code",
   "execution_count": 29,
   "metadata": {
    "colab": {
     "base_uri": "https://localhost:8080/"
    },
    "executionInfo": {
     "elapsed": 522,
     "status": "ok",
     "timestamp": 1631022249178,
     "user": {
      "displayName": "Valeria S RULLONI",
      "photoUrl": "",
      "userId": "09936144167370803067"
     },
     "user_tz": 180
    },
    "id": "yZ76OtpPT4ca",
    "outputId": "81497f8f-e636-4838-a56d-14c2b6672b4d"
   },
   "outputs": [
    {
     "name": "stdout",
     "output_type": "stream",
     "text": [
      "los datos tienen dimesión n=  28\n"
     ]
    }
   ],
   "source": [
    "X=df_acp[skills_ratings] # Datos para proyectar\n",
    "print('los datos tienen dimesión n= ',len(skills_ratings))"
   ]
  },
  {
   "cell_type": "markdown",
   "metadata": {
    "id": "wvSLLcr-T4cd"
   },
   "source": [
    "**Se computan las componentes principales**\n",
    "\n",
    "-cuando se usa *decomposition.PCA* : \n",
    "\n",
    "La descomposición PCA del sklearn centra los datos pero no los Estandariza (input data is centered but not scaled for each feature before applying the SVD)\n",
    "\n",
    "por eso **estandarizamos primero**"
   ]
  },
  {
   "cell_type": "code",
   "execution_count": 30,
   "metadata": {
    "id": "HAaqOKRZT4cf"
   },
   "outputs": [],
   "source": [
    "std_scale=preprocessing.StandardScaler().fit(X)\n",
    "X_scaled=std_scale.transform(X) # numpyarray Estandarizado (le resta la media y divide por el desvío) por columna"
   ]
  },
  {
   "cell_type": "code",
   "execution_count": 31,
   "metadata": {
    "id": "_vV1WbwKT4ch",
    "outputId": "df657b03-e2f8-446d-e418-e934942fcf2a",
    "scrolled": true
   },
   "outputs": [
    {
     "name": "stdout",
     "output_type": "stream",
     "text": [
      "[[ 1.45238968  2.10744042  0.54621466  2.0334948   1.96609801  1.93145552\n",
      "   1.93568035  2.33597552  2.26013288  2.1544379   1.5912599   0.79029535\n",
      "   1.64240975  3.99958671  2.02279766  1.524891   -0.07233358  0.01329386\n",
      "  -0.060524    1.9989367  -1.54712268 -0.82224355  1.79361661  2.46476405\n",
      "   1.21634955  3.27755603 -1.04201534 -1.38212736]\n",
      " [ 1.38888827  2.10744042  1.88346276  1.13574307  1.850108    1.37598576\n",
      "   1.22214627  1.29662367  1.05962021  1.809669    1.29437859  1.62591043\n",
      "   1.33469952  4.18315019  0.24244736  2.23233714  2.16672492  0.98589733\n",
      "   0.71640526  1.94020626 -0.26027248 -1.35603991  1.91126601  1.40790532\n",
      "   1.8300274   3.14928136 -1.18180853 -1.38212736]]\n"
     ]
    },
    {
     "data": {
      "text/html": [
       "<div>\n",
       "<style scoped>\n",
       "    .dataframe tbody tr th:only-of-type {\n",
       "        vertical-align: middle;\n",
       "    }\n",
       "\n",
       "    .dataframe tbody tr th {\n",
       "        vertical-align: top;\n",
       "    }\n",
       "\n",
       "    .dataframe thead th {\n",
       "        text-align: right;\n",
       "    }\n",
       "</style>\n",
       "<table border=\"1\" class=\"dataframe\">\n",
       "  <thead>\n",
       "    <tr style=\"text-align: right;\">\n",
       "      <th></th>\n",
       "      <th>attacking_crossing</th>\n",
       "      <th>attacking_finishing</th>\n",
       "      <th>attacking_heading_accuracy</th>\n",
       "      <th>attacking_short_passing</th>\n",
       "      <th>attacking_volleys</th>\n",
       "      <th>skill_dribbling</th>\n",
       "      <th>skill_curve</th>\n",
       "      <th>skill_fk_accuracy</th>\n",
       "      <th>skill_long_passing</th>\n",
       "      <th>skill_ball_control</th>\n",
       "      <th>movement_acceleration</th>\n",
       "      <th>movement_sprint_speed</th>\n",
       "      <th>movement_agility</th>\n",
       "      <th>movement_reactions</th>\n",
       "      <th>movement_balance</th>\n",
       "      <th>power_shot_power</th>\n",
       "      <th>power_jumping</th>\n",
       "      <th>power_stamina</th>\n",
       "      <th>power_strength</th>\n",
       "      <th>power_long_shots</th>\n",
       "      <th>mentality_aggression</th>\n",
       "      <th>mentality_interceptions</th>\n",
       "      <th>mentality_positioning</th>\n",
       "      <th>mentality_vision</th>\n",
       "      <th>mentality_penalties</th>\n",
       "      <th>mentality_composure</th>\n",
       "      <th>defending_standing_tackle</th>\n",
       "      <th>defending_sliding_tackle</th>\n",
       "    </tr>\n",
       "  </thead>\n",
       "  <tbody>\n",
       "    <tr>\n",
       "      <th>0</th>\n",
       "      <td>85</td>\n",
       "      <td>95</td>\n",
       "      <td>70</td>\n",
       "      <td>91</td>\n",
       "      <td>88</td>\n",
       "      <td>96</td>\n",
       "      <td>93</td>\n",
       "      <td>94</td>\n",
       "      <td>91</td>\n",
       "      <td>96</td>\n",
       "      <td>91</td>\n",
       "      <td>80</td>\n",
       "      <td>91</td>\n",
       "      <td>94</td>\n",
       "      <td>95</td>\n",
       "      <td>86</td>\n",
       "      <td>68</td>\n",
       "      <td>72</td>\n",
       "      <td>69</td>\n",
       "      <td>94</td>\n",
       "      <td>44</td>\n",
       "      <td>40</td>\n",
       "      <td>93</td>\n",
       "      <td>95</td>\n",
       "      <td>75</td>\n",
       "      <td>96</td>\n",
       "      <td>35</td>\n",
       "      <td>24</td>\n",
       "    </tr>\n",
       "    <tr>\n",
       "      <th>1</th>\n",
       "      <td>84</td>\n",
       "      <td>95</td>\n",
       "      <td>90</td>\n",
       "      <td>82</td>\n",
       "      <td>86</td>\n",
       "      <td>88</td>\n",
       "      <td>81</td>\n",
       "      <td>76</td>\n",
       "      <td>77</td>\n",
       "      <td>92</td>\n",
       "      <td>87</td>\n",
       "      <td>91</td>\n",
       "      <td>87</td>\n",
       "      <td>95</td>\n",
       "      <td>71</td>\n",
       "      <td>94</td>\n",
       "      <td>95</td>\n",
       "      <td>84</td>\n",
       "      <td>78</td>\n",
       "      <td>93</td>\n",
       "      <td>63</td>\n",
       "      <td>29</td>\n",
       "      <td>95</td>\n",
       "      <td>82</td>\n",
       "      <td>84</td>\n",
       "      <td>95</td>\n",
       "      <td>32</td>\n",
       "      <td>24</td>\n",
       "    </tr>\n",
       "  </tbody>\n",
       "</table>\n",
       "</div>"
      ],
      "text/plain": [
       "   attacking_crossing  attacking_finishing  attacking_heading_accuracy  \\\n",
       "0                  85                   95                          70   \n",
       "1                  84                   95                          90   \n",
       "\n",
       "   attacking_short_passing  attacking_volleys  skill_dribbling  skill_curve  \\\n",
       "0                       91                 88               96           93   \n",
       "1                       82                 86               88           81   \n",
       "\n",
       "   skill_fk_accuracy  skill_long_passing  skill_ball_control  \\\n",
       "0                 94                  91                  96   \n",
       "1                 76                  77                  92   \n",
       "\n",
       "   movement_acceleration  movement_sprint_speed  movement_agility  \\\n",
       "0                     91                     80                91   \n",
       "1                     87                     91                87   \n",
       "\n",
       "   movement_reactions  movement_balance  power_shot_power  power_jumping  \\\n",
       "0                  94                95                86             68   \n",
       "1                  95                71                94             95   \n",
       "\n",
       "   power_stamina  power_strength  power_long_shots  mentality_aggression  \\\n",
       "0             72              69                94                    44   \n",
       "1             84              78                93                    63   \n",
       "\n",
       "   mentality_interceptions  mentality_positioning  mentality_vision  \\\n",
       "0                       40                     93                95   \n",
       "1                       29                     95                82   \n",
       "\n",
       "   mentality_penalties  mentality_composure  defending_standing_tackle  \\\n",
       "0                   75                   96                         35   \n",
       "1                   84                   95                         32   \n",
       "\n",
       "   defending_sliding_tackle  \n",
       "0                        24  \n",
       "1                        24  "
      ]
     },
     "execution_count": 31,
     "metadata": {},
     "output_type": "execute_result"
    }
   ],
   "source": [
    "print(X_scaled[0:2])\n",
    "X.head(2)"
   ]
  },
  {
   "cell_type": "markdown",
   "metadata": {
    "id": "Qcb4TGxpT4ci"
   },
   "source": [
    "**DESCOMPOSICIÓN PCA**\n",
    "\n",
    "En la descomposición podemos elegir n_components para quedarnos con una cantidad chica de componentes \n",
    "\n",
    "la idea es que sean \"bastante\" menos que la dimensión de lo datos pero \n",
    "\n",
    "que describan un buen porcentaje de la dispersión de los datos"
   ]
  },
  {
   "cell_type": "code",
   "execution_count": 32,
   "metadata": {
    "colab": {
     "base_uri": "https://localhost:8080/"
    },
    "executionInfo": {
     "elapsed": 404,
     "status": "ok",
     "timestamp": 1631022471818,
     "user": {
      "displayName": "Valeria S RULLONI",
      "photoUrl": "",
      "userId": "09936144167370803067"
     },
     "user_tz": 180
    },
    "id": "Frx_yoJDT4cj",
    "outputId": "ff4a5c06-f57c-41ca-b822-307ca650cbc0"
   },
   "outputs": [
    {
     "name": "stdout",
     "output_type": "stream",
     "text": [
      "proporción de varianza por componente:  [0.4321686  0.18230618 0.09565442 0.06209436]\n",
      "proporción de varianza por componente acumulada:  [0.4321686  0.61447479 0.7101292  0.77222356]\n",
      "tamaño de los datos:  (4219, 4)\n"
     ]
    }
   ],
   "source": [
    "pca=decomposition.PCA(n_components=4) #elegimos 2, 3 o 4 pero pueden ser más.\n",
    "#En función de la varianza explicada, creo que con 3 es más que suficiente\n",
    "\n",
    "pca.fit(X_scaled) #input data is centered but not scaled for each feature before applying the SVD\n",
    "\n",
    "# proporción de varianza\n",
    "print('proporción de varianza por componente: ', pca.explained_variance_ratio_)\n",
    "# proporción de varianza acumulada\n",
    "print ('proporción de varianza por componente acumulada: ', pca.explained_variance_ratio_.cumsum())\n",
    "\n",
    "X_projected=pca.transform(X_scaled) #numpy array\n",
    "print ('tamaño de los datos: ', X_projected.shape)\n"
   ]
  },
  {
   "cell_type": "code",
   "execution_count": 33,
   "metadata": {
    "colab": {
     "base_uri": "https://localhost:8080/"
    },
    "executionInfo": {
     "elapsed": 341,
     "status": "ok",
     "timestamp": 1631022502705,
     "user": {
      "displayName": "Valeria S RULLONI",
      "photoUrl": "",
      "userId": "09936144167370803067"
     },
     "user_tz": 180
    },
    "id": "5OfHqT1fT4cm",
    "outputId": "f7d1dcdb-4eeb-477e-af24-5651d4cffe2f"
   },
   "outputs": [
    {
     "name": "stdout",
     "output_type": "stream",
     "text": [
      "[[-8.57719203  1.10302447  1.63203441  0.79129959]\n",
      " [-7.30969878  0.29630175  3.17131874 -2.5706299 ]\n",
      " [-6.17344503 -0.27580421  3.71476453 -1.65971888]\n",
      " [-8.05365265  1.7617864   0.51895109  0.56638813]\n",
      " [-7.37108547 -1.73479236  1.6877555   1.57162957]]\n"
     ]
    }
   ],
   "source": [
    "print (X_projected[0:5])#5 primeros jugadores, n_components"
   ]
  },
  {
   "cell_type": "code",
   "execution_count": 34,
   "metadata": {
    "colab": {
     "base_uri": "https://localhost:8080/"
    },
    "executionInfo": {
     "elapsed": 32,
     "status": "ok",
     "timestamp": 1631022505073,
     "user": {
      "displayName": "Valeria S RULLONI",
      "photoUrl": "",
      "userId": "09936144167370803067"
     },
     "user_tz": 180
    },
    "id": "_gdRiCd1T4cw",
    "outputId": "dadb67d8-e756-469f-a58f-fd8044d87b76"
   },
   "outputs": [
    {
     "name": "stdout",
     "output_type": "stream",
     "text": [
      "[[-2.36272360e-01 -2.42171737e-01 -4.30777427e-02 -2.28544889e-01\n",
      "  -2.38463826e-01 -2.67728065e-01 -2.53580639e-01 -2.24826902e-01\n",
      "  -1.74122686e-01 -2.59726130e-01 -1.82821211e-01 -1.62870966e-01\n",
      "  -2.12044836e-01 -1.04076900e-01 -1.94913382e-01 -1.97713133e-01\n",
      "   2.60569076e-02 -1.57540620e-01  9.19254728e-02 -2.54369997e-01\n",
      "  -2.86050341e-02  1.59497879e-02 -2.58702169e-01 -2.28302523e-01\n",
      "  -2.17584359e-01 -1.74578156e-01  1.41844408e-02  2.54352473e-02]\n",
      " [-6.23673113e-02  1.19231011e-01 -2.65887421e-01 -2.02440230e-01\n",
      "   8.58196338e-02 -2.27830921e-02  7.91664987e-03  1.34130142e-02\n",
      "  -2.40905989e-01 -1.02864200e-01  9.77220560e-02  6.90635138e-02\n",
      "   1.12002311e-01 -8.51209052e-02  7.49169456e-02  5.26422750e-02\n",
      "  -1.33033479e-01 -2.02802650e-01 -1.99124453e-01  3.13116324e-02\n",
      "  -3.58935612e-01 -4.06961315e-01  5.33720836e-02  4.37651423e-02\n",
      "   5.72975983e-02 -1.29150154e-01 -4.10909988e-01 -4.04345976e-01]\n",
      " [-1.58984415e-01  1.80855564e-01  2.62839407e-01  5.60007682e-04\n",
      "   2.04935379e-01 -5.59659317e-02  7.82469900e-04  7.05144745e-02\n",
      "  -5.71834674e-02  7.03225541e-03 -3.31946870e-01 -2.90140458e-01\n",
      "  -2.93190207e-01  1.68998913e-01 -3.12811870e-01  2.60491392e-01\n",
      "   3.16755730e-02 -1.65437302e-01  3.46317800e-01  1.39628126e-01\n",
      "   8.17699058e-02 -1.34469017e-01  8.48713215e-02  3.52638329e-02\n",
      "   2.34020215e-01  1.93646480e-01 -1.47346319e-01 -1.72956168e-01]\n",
      " [ 7.51051767e-02 -9.84900449e-02 -3.46358338e-01  8.87987517e-02\n",
      "  -4.90611309e-02 -5.72245886e-02  1.16726886e-01  2.22801157e-01\n",
      "   2.71880815e-01 -2.46505201e-02 -2.96292988e-01 -3.85438981e-01\n",
      "  -1.02935029e-01  2.75026883e-02 -2.02868133e-04  2.35204390e-03\n",
      "  -4.82598226e-01 -1.92227587e-01 -2.57754257e-01  4.43288071e-02\n",
      "  -1.51018928e-01  1.24325771e-01 -1.00161460e-01  2.32851045e-01\n",
      "  -1.74597283e-02  6.88735404e-02  1.08120627e-01  9.00914312e-02]]\n"
     ]
    }
   ],
   "source": [
    "pcs=pca.components_  #\"composición\" de las primeras componentes, \n",
    "print(pcs)  # el aporte/pesos de las variables: skills_ratings"
   ]
  },
  {
   "cell_type": "markdown",
   "metadata": {
    "id": "iWRmnIBIT4c0"
   },
   "source": [
    "El siguiente gráfico muestra la composición de los pesos de las dos primeras componentes principales. "
   ]
  },
  {
   "cell_type": "code",
   "execution_count": 35,
   "metadata": {
    "id": "HdfXzPy4T4c3"
   },
   "outputs": [
    {
     "data": {
      "text/plain": [
       "'temp-plot.html'"
      ]
     },
     "execution_count": 35,
     "metadata": {},
     "output_type": "execute_result"
    }
   ],
   "source": [
    "#Graph 1\n",
    "data=[]\n",
    "\n",
    "for i, (x,y) in enumerate(zip(pcs[0,:],pcs[1,:])):\n",
    "    graph=go.Scatter(x=[0,x],y=[0,y],text=X.columns[i],\n",
    "                     mode='lines+markers+text',textposition='top left',textfont=dict(family='sans serif',size=15))\n",
    "    data.append(graph)\n",
    "\n",
    "layout = go.Layout(title=\"ACP - Fifa Skills\",titlefont=dict(size=20),\n",
    "            xaxis=dict(title='Componente 1'),\n",
    "            yaxis=dict(title='Componente 2'),\n",
    "            autosize=False, width=1050,height=750,\n",
    "            showlegend=False)\n",
    "\n",
    "fig = go.Figure(data=data, layout=layout)\n",
    "plot(fig)"
   ]
  },
  {
   "cell_type": "code",
   "execution_count": 37,
   "metadata": {
    "colab": {
     "base_uri": "https://localhost:8080/",
     "height": 787
    },
    "executionInfo": {
     "elapsed": 364,
     "status": "ok",
     "timestamp": 1631022526773,
     "user": {
      "displayName": "Valeria S RULLONI",
      "photoUrl": "",
      "userId": "09936144167370803067"
     },
     "user_tz": 180
    },
    "id": "vHcUOWixgAbo",
    "outputId": "cba341b4-b210-4b8b-a9c0-3fbddb01e9a1"
   },
   "outputs": [],
   "source": [
    "#En Colab\n",
    "#fig.show(renderer=\"colab\")"
   ]
  },
  {
   "cell_type": "markdown",
   "metadata": {
    "id": "BAi9ughpT4c7"
   },
   "source": [
    "Se crea el jugador perfecto para ver a donde se ubica en nuestra visualización, se lo agrega a los datos normalizados y a las componentes ya calculadas (sin usarlo)."
   ]
  },
  {
   "cell_type": "code",
   "execution_count": 36,
   "metadata": {
    "id": "mBuX1lz0T4c_"
   },
   "outputs": [],
   "source": [
    "MachineGunDict={'short_name':'MachineGun','overall':99}\n",
    "for skills in skills_ratings:\n",
    "    MachineGunDict[skills]=99\n",
    "    \n",
    "#Lo agregamos a la base:\n",
    "df_acp=df_acp.append(MachineGunDict,ignore_index=True)\n",
    "X=df_acp[skills_ratings] # Datos sin estandarizar\n",
    "X_scaled=std_scale.transform(X) # volvemos a estandarizar con el dato agregado \n",
    "#pero con la estandarización de la base sin el dato nuevo\n",
    "X_projected=pca.transform(X_scaled) # volvemos a proyectar pero con el dato nuevo"
   ]
  },
  {
   "cell_type": "markdown",
   "metadata": {
    "id": "1pesZGI0T4dB"
   },
   "source": [
    "**Graficamos a los jugadores usando las dos primeras componentes de PCA, proyectamos los datos (de dim 29) en ese espacio de dimensión 2**\n",
    "\n",
    "Identificamos a MachineGun y a un jugador en particular, por ejemplo, Lio Messi: "
   ]
  },
  {
   "cell_type": "code",
   "execution_count": 37,
   "metadata": {
    "id": "3rcgmVVdT4dC"
   },
   "outputs": [
    {
     "data": {
      "text/plain": [
       "'temp-plot.html'"
      ]
     },
     "execution_count": 37,
     "metadata": {},
     "output_type": "execute_result"
    }
   ],
   "source": [
    "#Graph 2\n",
    "#Choose your player\n",
    "recherche_joueur=df_acp[\"short_name\"]=='L. Messi'\n",
    "\n",
    "bool_crack=df_acp[\"overall\"] > 85\n",
    "bool_no_crack=df_acp[\"overall\"]<86\n",
    "bool_machinegun=df_acp[\"short_name\"]=='MachineGun'\n",
    "\n",
    "palette=['navy','red','#A2D5F2','orange','green','pink']  \n",
    "data=[]\n",
    "\n",
    "acp_crack =go.Scatter(x=X_projected[bool_crack,0], y=X_projected[bool_crack,1],name='Crack',\n",
    "                      text=df_acp.loc[bool_crack,'short_name'],\n",
    "                      textfont=dict(family='sans serif',size=15,color='black'),\n",
    "                      opacity=0.9,marker=dict(color=palette[2],size=7),mode='markers+text')\n",
    "\n",
    "acp_no_crack =go.Scatter(x=X_projected[bool_no_crack,0], y=X_projected[bool_no_crack,1],name='Average player',\n",
    "                         text=df_acp.loc[bool_no_crack,'short_name'],\n",
    "                         opacity=0.6,marker=dict(color=palette[1],size=3),mode='markers')\n",
    "\n",
    "acp_machinegun =go.Scatter(x=X_projected[bool_machinegun,0], y=X_projected[bool_machinegun,1],name='Perfect player',\n",
    "                           textfont=dict(family='sans serif',size=20,color='black'),\n",
    "                           opacity=0.6,marker=dict(color=palette[3],size=30),mode='markers+text')\n",
    "\n",
    "\n",
    "joueur_recherche =go.Scatter(x=X_projected[recherche_joueur,0], y=X_projected[recherche_joueur,1],name='Searched player',\n",
    "                           text=df_acp.loc[recherche_joueur,'short_name'],\n",
    "                            textfont=dict(family='sans serif',size=20,color='black'),\n",
    "                           opacity=1,marker=dict(color=palette[4],size=40),mode='markers+text')\n",
    "\n",
    "data=[acp_no_crack,acp_crack,acp_machinegun,joueur_recherche]\n",
    "\n",
    "layout = go.Layout(title=\"ACP - Fifa Players\",titlefont=dict(size=20),\n",
    "                xaxis=dict(title='Componente 1'),\n",
    "                yaxis=dict(title='componente 2'),\n",
    "                autosize=False, width=1000,height=750)\n",
    "\n",
    "fig = go.Figure(data=data, layout=layout)\n",
    "\n",
    "plot(fig)"
   ]
  },
  {
   "cell_type": "code",
   "execution_count": 40,
   "metadata": {
    "colab": {
     "base_uri": "https://localhost:8080/",
     "height": 787
    },
    "executionInfo": {
     "elapsed": 947,
     "status": "ok",
     "timestamp": 1631022774813,
     "user": {
      "displayName": "Valeria S RULLONI",
      "photoUrl": "",
      "userId": "09936144167370803067"
     },
     "user_tz": 180
    },
    "id": "-qKuiiQIhyJ2",
    "outputId": "87283a63-3939-49c1-d89e-e25c8d6bae98"
   },
   "outputs": [],
   "source": [
    "#En Colab\n",
    "#fig.show(renderer=\"colab\")"
   ]
  },
  {
   "cell_type": "markdown",
   "metadata": {
    "id": "vc3LPQ4AT4dE"
   },
   "source": [
    "Se puede comparar dos equipos y ver los perfiles de los jugadores en las dos primeras componentes."
   ]
  },
  {
   "cell_type": "code",
   "execution_count": 38,
   "metadata": {
    "id": "zx_V5QMMT4dG"
   },
   "outputs": [
    {
     "data": {
      "text/plain": [
       "'temp-plot.html'"
      ]
     },
     "execution_count": 38,
     "metadata": {},
     "output_type": "execute_result"
    }
   ],
   "source": [
    "teamA='Liverpool'\n",
    "teamB='Manchester United'\n",
    "\n",
    "bool_teamA=df_acp[\"club_name\"]==teamA\n",
    "bool_teamB=df_acp[\"club_name\"]==teamB\n",
    "\n",
    "palette=['navy','red','#A2D5F2','orange','green','pink','grey']  \n",
    "data=[]\n",
    "\n",
    "acp_teamA =go.Scatter(x=X_projected[bool_teamA,0], y=X_projected[bool_teamA,1],name=teamA,\n",
    "                      text=df_acp.loc[bool_teamA,'short_name'],\n",
    "                      textfont=dict(family='sans serif',size=20,color='black'),\n",
    "                      opacity=0.7,marker=dict(color=palette[1],size=10),mode='markers+text')\n",
    "\n",
    "acp_teamB =go.Scatter(x=X_projected[bool_teamB,0], y=X_projected[bool_teamB,1],name=teamB,\n",
    "                      text=df_acp.loc[bool_teamB,'short_name'],\n",
    "                      textfont=dict(family='sans serif',size=20,color='black'),\n",
    "                      opacity=0.7,marker=dict(color=palette[4],size=10),mode='markers+text')\n",
    "\n",
    "acp_all =go.Scatter(x=X_projected[:,0], y=X_projected[:,1],name='All',\n",
    "                         text=df_acp.loc[:,'short_name'],\n",
    "                         opacity=0.3,marker=dict(color=palette[6],size=3),mode='markers')\n",
    "\n",
    "\n",
    "data=[acp_teamA,acp_teamB,acp_all]\n",
    "\n",
    "layout = go.Layout(title=\"ACP - {} vs {}\".format(teamA,teamB),titlefont=dict(size=20),\n",
    "                xaxis=dict(title='F1'),\n",
    "                yaxis=dict(title='F2'),\n",
    "                autosize=False, width=1000,height=750)\n",
    "\n",
    "fig = go.Figure(data=data, layout=layout)\n",
    "plot(fig)"
   ]
  },
  {
   "cell_type": "code",
   "execution_count": 42,
   "metadata": {
    "colab": {
     "base_uri": "https://localhost:8080/"
    },
    "executionInfo": {
     "elapsed": 50,
     "status": "ok",
     "timestamp": 1631022856366,
     "user": {
      "displayName": "Valeria S RULLONI",
      "photoUrl": "",
      "userId": "09936144167370803067"
     },
     "user_tz": 180
    },
    "id": "sdIg5NI_iPX8",
    "outputId": "7e742751-242e-4773-cd38-bebf7b39a795"
   },
   "outputs": [],
   "source": [
    "#En Colab\n",
    "#fig.show(renderer=\"colab\")"
   ]
  },
  {
   "cell_type": "markdown",
   "metadata": {
    "id": "GVeXDQlNT4dI"
   },
   "source": [
    "# 5 .-Clustering"
   ]
  },
  {
   "cell_type": "markdown",
   "metadata": {
    "id": "xCwsHE0aT4dJ"
   },
   "source": [
    "**Trabajo en grupo**: \n",
    "\n",
    "Veamos ahora que agrupamientos podemos hacer de los jugadores usando las dos/tres o cuatro primeras componentes. \n",
    "\n",
    "Presentar este ejercicio (con comentarios) pero con los datos FIFA2021 para el práctico entregable"
   ]
  },
  {
   "cell_type": "code",
   "execution_count": 39,
   "metadata": {
    "colab": {
     "base_uri": "https://localhost:8080/"
    },
    "executionInfo": {
     "elapsed": 321,
     "status": "ok",
     "timestamp": 1631022862189,
     "user": {
      "displayName": "Valeria S RULLONI",
      "photoUrl": "",
      "userId": "09936144167370803067"
     },
     "user_tz": 180
    },
    "id": "Be9J__DET4dK",
    "outputId": "933dcab5-e3ca-4192-d4e2-7d87568f2888"
   },
   "outputs": [
    {
     "name": "stdout",
     "output_type": "stream",
     "text": [
      "dimensiones de la base proyectada: (4219, 4)\n"
     ]
    }
   ],
   "source": [
    "##Hay que quitar MachineGun para Clustering\n",
    "df_acp=df.loc[:n_acp]\n",
    "df_acp=df_acp[(df_acp[\"team_position\"]!='GK')&(df['overall']>70)]\n",
    "\n",
    "X=df_acp[skills_ratings] # Datos sin estandarizar\n",
    "X_scaled=std_scale.transform(X) # volvemos a normalizar (ya estaba ajustada)\n",
    "X_projected=pca.transform(X_scaled) #volvemos a proyectar \n",
    "print('dimensiones de la base proyectada:', X_projected.shape)"
   ]
  },
  {
   "cell_type": "markdown",
   "metadata": {
    "id": "yge92qCVT4dN"
   },
   "source": [
    "k-medias y visualizar los clusters encontrados en las dos primeras componentes"
   ]
  },
  {
   "cell_type": "code",
   "execution_count": 40,
   "metadata": {
    "id": "dOu9OXLXT4dO"
   },
   "outputs": [
    {
     "data": {
      "text/plain": [
       "Text(0.5, 1.0, 'Inertia of k-Means versus number of clusters')"
      ]
     },
     "execution_count": 40,
     "metadata": {},
     "output_type": "execute_result"
    },
    {
     "data": {
      "image/png": "[encoded data removed]",
      "text/plain": [
       "<Figure size 432x288 with 1 Axes>"
      ]
     },
     "metadata": {
      "needs_background": "light"
     },
     "output_type": "display_data"
    }
   ],
   "source": [
    "#Cantidad de n_clusters a elegir en el método de K-medias, variando de 2 a 11 clusters\n",
    "scores = [KMeans(n_clusters=i).fit(X_projected).inertia_ for i in range(2,12)]\n",
    "\n",
    "plt.plot(np.arange(2, 12), scores)\n",
    "plt.xlabel('Number of clusters')\n",
    "plt.ylabel(\"Inertia\")\n",
    "plt.title(\"Inertia of k-Means versus number of clusters\")"
   ]
  },
  {
   "cell_type": "code",
   "execution_count": 61,
   "metadata": {},
   "outputs": [],
   "source": [
    "#En función del gráfico anterior, elegiríamos 4 clusters\n",
    "n_clust = 4\n",
    "\n",
    "km = KMeans(n_clusters=n_clust, random_state=10)\n",
    "km.fit(X_projected) #utiliza todas las habilidades: 34 dimensiones\n",
    "\n",
    "# Recuperacion de etiquetas\n",
    "clusters = km.labels_"
   ]
  },
  {
   "cell_type": "code",
   "execution_count": 68,
   "metadata": {},
   "outputs": [],
   "source": [
    "X = pd.DataFrame(X_projected)\n",
    "X = X.rename(columns = {0: 'pca_1', 1: 'pca_2', 2: 'pca_3', 3: 'pca_4'}, inplace = False)"
   ]
  },
  {
   "cell_type": "code",
   "execution_count": 69,
   "metadata": {},
   "outputs": [],
   "source": [
    "X[\"kmedias\"] = km.labels_ #clusters"
   ]
  },
  {
   "cell_type": "code",
   "execution_count": 70,
   "metadata": {},
   "outputs": [
    {
     "data": {
      "text/html": [
       "<div>\n",
       "<style scoped>\n",
       "    .dataframe tbody tr th:only-of-type {\n",
       "        vertical-align: middle;\n",
       "    }\n",
       "\n",
       "    .dataframe tbody tr th {\n",
       "        vertical-align: top;\n",
       "    }\n",
       "\n",
       "    .dataframe thead th {\n",
       "        text-align: right;\n",
       "    }\n",
       "</style>\n",
       "<table border=\"1\" class=\"dataframe\">\n",
       "  <thead>\n",
       "    <tr style=\"text-align: right;\">\n",
       "      <th></th>\n",
       "      <th>pca_1</th>\n",
       "      <th>pca_2</th>\n",
       "      <th>pca_3</th>\n",
       "      <th>pca_4</th>\n",
       "      <th>kmedias</th>\n",
       "    </tr>\n",
       "  </thead>\n",
       "  <tbody>\n",
       "    <tr>\n",
       "      <th>0</th>\n",
       "      <td>-8.577192</td>\n",
       "      <td>1.103024</td>\n",
       "      <td>1.632034</td>\n",
       "      <td>0.79130</td>\n",
       "      <td>0</td>\n",
       "    </tr>\n",
       "    <tr>\n",
       "      <th>1</th>\n",
       "      <td>-7.309699</td>\n",
       "      <td>0.296302</td>\n",
       "      <td>3.171319</td>\n",
       "      <td>-2.57063</td>\n",
       "      <td>0</td>\n",
       "    </tr>\n",
       "  </tbody>\n",
       "</table>\n",
       "</div>"
      ],
      "text/plain": [
       "      pca_1     pca_2     pca_3    pca_4  kmedias\n",
       "0 -8.577192  1.103024  1.632034  0.79130        0\n",
       "1 -7.309699  0.296302  3.171319 -2.57063        0"
      ]
     },
     "execution_count": 70,
     "metadata": {},
     "output_type": "execute_result"
    }
   ],
   "source": [
    "X.head(2)"
   ]
  },
  {
   "cell_type": "code",
   "execution_count": 72,
   "metadata": {},
   "outputs": [
    {
     "data": {
      "text/plain": [
       "<AxesSubplot:xlabel='pca_1', ylabel='pca_2'>"
      ]
     },
     "execution_count": 72,
     "metadata": {},
     "output_type": "execute_result"
    },
    {
     "data": {
      "image/png": "[encoded data removed]",
      "text/plain": [
       "<Figure size 432x288 with 1 Axes>"
      ]
     },
     "metadata": {
      "needs_background": "light"
     },
     "output_type": "display_data"
    }
   ],
   "source": [
    "#Graficamos las dos primeras componentes, diferenciando por color los clusters encontrados\n",
    "sns.scatterplot(data=X, x=\"pca_1\", y=\"pca_2\", hue=\"kmedias\")  "
   ]
  },
  {
   "cell_type": "markdown",
   "metadata": {},
   "source": [
    "**AGREGAR INTERPRETACIÓN**"
   ]
  },
  {
   "cell_type": "markdown",
   "metadata": {
    "id": "KE_0wVgmT4dP"
   },
   "source": [
    "Mean Shift y visualizar en las dos primeras componentes "
   ]
  },
  {
   "cell_type": "code",
   "execution_count": 73,
   "metadata": {
    "id": "0OfuHYyIT4dU"
   },
   "outputs": [
    {
     "name": "stdout",
     "output_type": "stream",
     "text": [
      "Cantidad de clusters encontrados por Mean Shift : 2\n"
     ]
    }
   ],
   "source": [
    "#Exploramos el número de clusters que se encuentran por medio del Método de MeanShift\n",
    "#ms = MeanShift(bandwidth=14, bin_seeding=True)   #A medida que agrandamos el bandwidth, se va reduciendo la cantidad de clusters encontrados.\n",
    "ms = MeanShift( bin_seeding=True)\n",
    "\n",
    "ms.fit(X_projected)\n",
    "\n",
    "clusters2 = ms.labels_\n",
    "cluster_centers = ms.cluster_centers_\n",
    "\n",
    "labels_unique = np.unique(clusters2)\n",
    "n_clusters_ = len(labels_unique)\n",
    "\n",
    "print(\"Cantidad de clusters encontrados por Mean Shift : %d\" % n_clusters_)"
   ]
  },
  {
   "cell_type": "code",
   "execution_count": 75,
   "metadata": {},
   "outputs": [
    {
     "data": {
      "text/html": [
       "<div>\n",
       "<style scoped>\n",
       "    .dataframe tbody tr th:only-of-type {\n",
       "        vertical-align: middle;\n",
       "    }\n",
       "\n",
       "    .dataframe tbody tr th {\n",
       "        vertical-align: top;\n",
       "    }\n",
       "\n",
       "    .dataframe thead th {\n",
       "        text-align: right;\n",
       "    }\n",
       "</style>\n",
       "<table border=\"1\" class=\"dataframe\">\n",
       "  <thead>\n",
       "    <tr style=\"text-align: right;\">\n",
       "      <th></th>\n",
       "      <th>pca_1</th>\n",
       "      <th>pca_2</th>\n",
       "      <th>pca_3</th>\n",
       "      <th>pca_4</th>\n",
       "      <th>kmedias</th>\n",
       "      <th>mshift</th>\n",
       "    </tr>\n",
       "  </thead>\n",
       "  <tbody>\n",
       "    <tr>\n",
       "      <th>0</th>\n",
       "      <td>-8.577192</td>\n",
       "      <td>1.103024</td>\n",
       "      <td>1.632034</td>\n",
       "      <td>0.79130</td>\n",
       "      <td>0</td>\n",
       "      <td>0</td>\n",
       "    </tr>\n",
       "    <tr>\n",
       "      <th>1</th>\n",
       "      <td>-7.309699</td>\n",
       "      <td>0.296302</td>\n",
       "      <td>3.171319</td>\n",
       "      <td>-2.57063</td>\n",
       "      <td>0</td>\n",
       "      <td>0</td>\n",
       "    </tr>\n",
       "  </tbody>\n",
       "</table>\n",
       "</div>"
      ],
      "text/plain": [
       "      pca_1     pca_2     pca_3    pca_4  kmedias  mshift\n",
       "0 -8.577192  1.103024  1.632034  0.79130        0       0\n",
       "1 -7.309699  0.296302  3.171319 -2.57063        0       0"
      ]
     },
     "execution_count": 75,
     "metadata": {},
     "output_type": "execute_result"
    }
   ],
   "source": [
    "X[\"mshift\"] = ms.labels_ #clusters\n",
    "X.head(2)"
   ]
  },
  {
   "cell_type": "code",
   "execution_count": 76,
   "metadata": {},
   "outputs": [
    {
     "data": {
      "text/plain": [
       "<AxesSubplot:xlabel='pca_1', ylabel='pca_2'>"
      ]
     },
     "execution_count": 76,
     "metadata": {},
     "output_type": "execute_result"
    },
    {
     "data": {
      "image/png": "[encoded data removed]",
      "text/plain": [
       "<Figure size 432x288 with 1 Axes>"
      ]
     },
     "metadata": {
      "needs_background": "light"
     },
     "output_type": "display_data"
    }
   ],
   "source": [
    "#Graficamos las dos primeras componentes, diferenciando por color los clusters encontrados por Mean Shift\n",
    "sns.scatterplot(data=X, x=\"pca_1\", y=\"pca_2\", hue=\"mshift\")  "
   ]
  },
  {
   "cell_type": "markdown",
   "metadata": {},
   "source": [
    "**AGREGAR INTERPRETACIÓN**"
   ]
  },
  {
   "cell_type": "code",
   "execution_count": null,
   "metadata": {
    "id": "2pDuVlx5T4dY"
   },
   "outputs": [],
   "source": [
    "#clusters2= ms.labels_"
   ]
  },
  {
   "cell_type": "code",
   "execution_count": 77,
   "metadata": {
    "id": "J3zPGtI2T4dk",
    "outputId": "89d31e02-a1fa-4edf-a74d-1bb6c6f59973"
   },
   "outputs": [
    {
     "data": {
      "text/plain": [
       "'temp-plot.html'"
      ]
     },
     "execution_count": 77,
     "metadata": {},
     "output_type": "execute_result"
    }
   ],
   "source": [
    "data=[]\n",
    "bool_crack=df_acp[\"overall\"] > 85\n",
    "bool_no_crack=df_acp[\"overall\"]<86\n",
    "\n",
    "kmean_clusters = go.Scatter(x=X_projected[:,0], y=X_projected[:,1],\n",
    "                           mode='markers',\n",
    "                        text=df_acp.loc[:,'short_name'],\n",
    "                           marker=dict(\n",
    "                                size=5,\n",
    "                                color = clusters2.astype(np.float), #set color equal to a variable\n",
    "                                colorscale='Portland',\n",
    "                                showscale=False)\n",
    "                           )\n",
    "\n",
    "acp_crack =go.Scatter(x=X_projected[bool_crack,0], y=X_projected[bool_crack,1],name='Top players',\n",
    "                      text=df_acp.loc[bool_crack,'short_name'],\n",
    "                      textfont=dict(family='sans serif',size=10,color='black'),\n",
    "                      opacity=0.9,mode='text')\n",
    "\n",
    "data=[kmean_clusters,acp_crack]\n",
    "\n",
    "layout = go.Layout(title=\"ACP + Clustering Mean Shift \",titlefont=dict(size=20),\n",
    "                xaxis=dict(title='Componente 1'),\n",
    "                yaxis=dict(title='Componente 2'),\n",
    "                autosize=False, width=1000,height=1000)\n",
    "\n",
    "fig = go.Figure(data=data, layout=layout)\n",
    "\n",
    "plot(fig)"
   ]
  },
  {
   "cell_type": "code",
   "execution_count": null,
   "metadata": {
    "id": "EYq4zwGLT4dv"
   },
   "outputs": [],
   "source": []
  }
 ],
 "metadata": {
  "colab": {
   "name": "ntb4_embeddings_fifa2019.ipynb",
   "provenance": [],
   "toc_visible": true
  },
  "kernelspec": {
   "display_name": "Python 3",
   "language": "python",
   "name": "python3"
  },
  "language_info": {
   "codemirror_mode": {
    "name": "ipython",
    "version": 3
   },
   "file_extension": ".py",
   "mimetype": "text/x-python",
   "name": "python",
   "nbconvert_exporter": "python",
   "pygments_lexer": "ipython3",
   "version": "3.8.5"
  }
 },
 "nbformat": 4,
 "nbformat_minor": 4
}
